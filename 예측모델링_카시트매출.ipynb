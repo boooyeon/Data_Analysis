{
 "cells": [
  {
   "cell_type": "markdown",
   "metadata": {
    "id": "mTt7qGUTCcFs"
   },
   "source": [
    "# 과제#1. car seat 매출 예측"
   ]
  },
  {
   "cell_type": "markdown",
   "metadata": {
    "id": "7usNzsAVsGbi"
   },
   "source": [
    "![](https://cdn.images.express.co.uk/img/dynamic/24/590x/child-car-seat-986556.jpg?r=1532946857754)"
   ]
  },
  {
   "cell_type": "markdown",
   "metadata": {
    "id": "nKwWO4QmTzvp"
   },
   "source": [
    "* 비즈니스 상황\n",
    "    * 고객사는 국내(미국)와 국외에서 카시트를 판매하는 회사입니다.\n",
    "    * 최근 경쟁사의 공격적인 마케팅으로 매출이 감소하고 있습니다.\n",
    "    * 이를 해결하고자 여러분들에게 예측 모델링을 의뢰하였습니다.\n",
    "\n"
   ]
  },
  {
   "cell_type": "markdown",
   "metadata": {
    "id": "zYKHwYHatC4k"
   },
   "source": [
    "|\t변수명\t|\t설명\t|\t구분\t|\n",
    "|\t----\t|\t----\t|\t----\t|\n",
    "|\tSales \t|\t 각 지역 판매개수(단위 : 1000개)\t|\tTarget\t|\n",
    "|\tCompPrice \t|\t지역별 경쟁사 판매가격(달러)\t|\tfeature\t|\n",
    "|\tAdvertising \t|\t 각 지역, 회사의 광고 예산(단위 : 1000달러)\t|\tfeature\t|\n",
    "|\tPopulation \t|\t 지역 인구수(단위 : 1000명)\t|\tfeature\t|\n",
    "|\tPrice \t|\t 자사 지역별 판매가격(달러)\t|\tfeature\t|\n",
    "|\tShelveLoc \t|\t 진열상태\t|\tfeature\t|\n",
    "|\tAge \t|\t 지역 인구의 평균 연령\t|\tfeature\t|\n",
    "|\tUS \t|\t 매장이 미국에 있는지 여부\t|\tfeature\t|\n",
    "|\tUrban \t|\t 매장이 도시에 있는지 여부\t|\tfeature\t|\n",
    "|\tEducation \t|\t 평균학력수준(범주 : 11~17)\t|\tfeature\t|\n"
   ]
  },
  {
   "cell_type": "markdown",
   "metadata": {
    "id": "WNKs9rKAQqa5"
   },
   "source": [
    "* 데이터\n",
    "    * data : 학습과 검증용\n",
    "    * test : **팀과제용** 입니다.\n",
    "        * feature만 있습니다.\n",
    "        * 운영에서 발생된 데이터로 간주하고, 예측한 후에 Kaggle에 업로드합니다.\n",
    "\n",
    "* 주의사항\n",
    "    * data 에 대해 수행한 전처리 코드를 **순서에 맞춰** test에도 적용해야 함."
   ]
  },
  {
   "cell_type": "markdown",
   "metadata": {
    "id": "3cKmWSTZ8uwC"
   },
   "source": [
    "## 0.환경준비"
   ]
  },
  {
   "cell_type": "markdown",
   "metadata": {
    "id": "ryA0ffqNS44P"
   },
   "source": [
    "### 0.1 Import"
   ]
  },
  {
   "cell_type": "code",
   "execution_count": 1,
   "metadata": {
    "id": "GVvCef6A8uv6"
   },
   "outputs": [],
   "source": [
    "# 기본 라이브러리 가져오기\n",
    "import pandas as pd\n",
    "import numpy as np\n",
    "\n",
    "import matplotlib.pyplot as plt\n",
    "import seaborn as sns\n",
    "\n",
    "from sklearn.model_selection import train_test_split    "
   ]
  },
  {
   "cell_type": "markdown",
   "metadata": {
    "id": "4uZziFNcsUmw"
   },
   "source": [
    "### 0.2 Data Loading"
   ]
  },
  {
   "cell_type": "code",
   "execution_count": 2,
   "metadata": {
    "id": "QG28HshT8SfH"
   },
   "outputs": [
    {
     "data": {
      "text/html": [
       "<div>\n",
       "<style scoped>\n",
       "    .dataframe tbody tr th:only-of-type {\n",
       "        vertical-align: middle;\n",
       "    }\n",
       "\n",
       "    .dataframe tbody tr th {\n",
       "        vertical-align: top;\n",
       "    }\n",
       "\n",
       "    .dataframe thead th {\n",
       "        text-align: right;\n",
       "    }\n",
       "</style>\n",
       "<table border=\"1\" class=\"dataframe\">\n",
       "  <thead>\n",
       "    <tr style=\"text-align: right;\">\n",
       "      <th></th>\n",
       "      <th>Sales</th>\n",
       "      <th>CompPrice</th>\n",
       "      <th>Income</th>\n",
       "      <th>Advertising</th>\n",
       "      <th>Population</th>\n",
       "      <th>Price</th>\n",
       "      <th>ShelveLoc</th>\n",
       "      <th>Age</th>\n",
       "      <th>Education</th>\n",
       "      <th>Urban</th>\n",
       "      <th>US</th>\n",
       "    </tr>\n",
       "  </thead>\n",
       "  <tbody>\n",
       "    <tr>\n",
       "      <th>0</th>\n",
       "      <td>3.72</td>\n",
       "      <td>139.0</td>\n",
       "      <td>111.0</td>\n",
       "      <td>5</td>\n",
       "      <td>310</td>\n",
       "      <td>132</td>\n",
       "      <td>Bad</td>\n",
       "      <td>62</td>\n",
       "      <td>13</td>\n",
       "      <td>Yes</td>\n",
       "      <td>Yes</td>\n",
       "    </tr>\n",
       "    <tr>\n",
       "      <th>1</th>\n",
       "      <td>2.93</td>\n",
       "      <td>143.0</td>\n",
       "      <td>21.0</td>\n",
       "      <td>5</td>\n",
       "      <td>81</td>\n",
       "      <td>160</td>\n",
       "      <td>Medium</td>\n",
       "      <td>67</td>\n",
       "      <td>12</td>\n",
       "      <td>No</td>\n",
       "      <td>Yes</td>\n",
       "    </tr>\n",
       "    <tr>\n",
       "      <th>2</th>\n",
       "      <td>4.53</td>\n",
       "      <td>114.0</td>\n",
       "      <td>NaN</td>\n",
       "      <td>0</td>\n",
       "      <td>97</td>\n",
       "      <td>125</td>\n",
       "      <td>Medium</td>\n",
       "      <td>29</td>\n",
       "      <td>12</td>\n",
       "      <td>Yes</td>\n",
       "      <td>No</td>\n",
       "    </tr>\n",
       "    <tr>\n",
       "      <th>3</th>\n",
       "      <td>8.47</td>\n",
       "      <td>119.0</td>\n",
       "      <td>88.0</td>\n",
       "      <td>10</td>\n",
       "      <td>170</td>\n",
       "      <td>101</td>\n",
       "      <td>Medium</td>\n",
       "      <td>61</td>\n",
       "      <td>13</td>\n",
       "      <td>Yes</td>\n",
       "      <td>Yes</td>\n",
       "    </tr>\n",
       "    <tr>\n",
       "      <th>4</th>\n",
       "      <td>11.85</td>\n",
       "      <td>136.0</td>\n",
       "      <td>81.0</td>\n",
       "      <td>15</td>\n",
       "      <td>425</td>\n",
       "      <td>120</td>\n",
       "      <td>Good</td>\n",
       "      <td>67</td>\n",
       "      <td>10</td>\n",
       "      <td>Yes</td>\n",
       "      <td>Yes</td>\n",
       "    </tr>\n",
       "  </tbody>\n",
       "</table>\n",
       "</div>"
      ],
      "text/plain": [
       "   Sales  CompPrice  Income  Advertising  Population  Price ShelveLoc  Age  \\\n",
       "0   3.72      139.0   111.0            5         310    132       Bad   62   \n",
       "1   2.93      143.0    21.0            5          81    160    Medium   67   \n",
       "2   4.53      114.0     NaN            0          97    125    Medium   29   \n",
       "3   8.47      119.0    88.0           10         170    101    Medium   61   \n",
       "4  11.85      136.0    81.0           15         425    120      Good   67   \n",
       "\n",
       "   Education Urban   US  \n",
       "0         13   Yes  Yes  \n",
       "1         12    No  Yes  \n",
       "2         12   Yes   No  \n",
       "3         13   Yes  Yes  \n",
       "4         10   Yes  Yes  "
      ]
     },
     "execution_count": 2,
     "metadata": {},
     "output_type": "execute_result"
    }
   ],
   "source": [
    "path = 'https://raw.githubusercontent.com/DA4BAM/dataset/master/Carseat_train.csv'\n",
    "data = pd.read_csv(path)\n",
    "data.head()"
   ]
  },
  {
   "cell_type": "markdown",
   "metadata": {
    "id": "YKhS-1s83W6B"
   },
   "source": [
    "* 아래 데이터는 **팀 과제**를 위해 필요합니다."
   ]
  },
  {
   "cell_type": "code",
   "execution_count": 3,
   "metadata": {
    "id": "vHny68G6ws_H"
   },
   "outputs": [
    {
     "data": {
      "text/html": [
       "<div>\n",
       "<style scoped>\n",
       "    .dataframe tbody tr th:only-of-type {\n",
       "        vertical-align: middle;\n",
       "    }\n",
       "\n",
       "    .dataframe tbody tr th {\n",
       "        vertical-align: top;\n",
       "    }\n",
       "\n",
       "    .dataframe thead th {\n",
       "        text-align: right;\n",
       "    }\n",
       "</style>\n",
       "<table border=\"1\" class=\"dataframe\">\n",
       "  <thead>\n",
       "    <tr style=\"text-align: right;\">\n",
       "      <th></th>\n",
       "      <th>CompPrice</th>\n",
       "      <th>Income</th>\n",
       "      <th>Advertising</th>\n",
       "      <th>Population</th>\n",
       "      <th>Price</th>\n",
       "      <th>ShelveLoc</th>\n",
       "      <th>Age</th>\n",
       "      <th>Education</th>\n",
       "      <th>Urban</th>\n",
       "      <th>US</th>\n",
       "    </tr>\n",
       "  </thead>\n",
       "  <tbody>\n",
       "    <tr>\n",
       "      <th>0</th>\n",
       "      <td>131.0</td>\n",
       "      <td>111.0</td>\n",
       "      <td>13</td>\n",
       "      <td>33</td>\n",
       "      <td>80</td>\n",
       "      <td>Bad</td>\n",
       "      <td>68</td>\n",
       "      <td>18</td>\n",
       "      <td>Yes</td>\n",
       "      <td>Yes</td>\n",
       "    </tr>\n",
       "    <tr>\n",
       "      <th>1</th>\n",
       "      <td>123.0</td>\n",
       "      <td>57.0</td>\n",
       "      <td>0</td>\n",
       "      <td>66</td>\n",
       "      <td>105</td>\n",
       "      <td>Medium</td>\n",
       "      <td>39</td>\n",
       "      <td>11</td>\n",
       "      <td>Yes</td>\n",
       "      <td>No</td>\n",
       "    </tr>\n",
       "    <tr>\n",
       "      <th>2</th>\n",
       "      <td>136.0</td>\n",
       "      <td>60.0</td>\n",
       "      <td>7</td>\n",
       "      <td>303</td>\n",
       "      <td>147</td>\n",
       "      <td>Medium</td>\n",
       "      <td>41</td>\n",
       "      <td>10</td>\n",
       "      <td>Yes</td>\n",
       "      <td>Yes</td>\n",
       "    </tr>\n",
       "    <tr>\n",
       "      <th>3</th>\n",
       "      <td>143.0</td>\n",
       "      <td>77.0</td>\n",
       "      <td>25</td>\n",
       "      <td>448</td>\n",
       "      <td>156</td>\n",
       "      <td>Medium</td>\n",
       "      <td>43</td>\n",
       "      <td>17</td>\n",
       "      <td>Yes</td>\n",
       "      <td>Yes</td>\n",
       "    </tr>\n",
       "    <tr>\n",
       "      <th>4</th>\n",
       "      <td>111.0</td>\n",
       "      <td>75.0</td>\n",
       "      <td>1</td>\n",
       "      <td>377</td>\n",
       "      <td>108</td>\n",
       "      <td>Good</td>\n",
       "      <td>25</td>\n",
       "      <td>12</td>\n",
       "      <td>Yes</td>\n",
       "      <td>No</td>\n",
       "    </tr>\n",
       "  </tbody>\n",
       "</table>\n",
       "</div>"
      ],
      "text/plain": [
       "   CompPrice  Income  Advertising  Population  Price ShelveLoc  Age  \\\n",
       "0      131.0   111.0           13          33     80       Bad   68   \n",
       "1      123.0    57.0            0          66    105    Medium   39   \n",
       "2      136.0    60.0            7         303    147    Medium   41   \n",
       "3      143.0    77.0           25         448    156    Medium   43   \n",
       "4      111.0    75.0            1         377    108      Good   25   \n",
       "\n",
       "   Education Urban   US  \n",
       "0         18   Yes  Yes  \n",
       "1         11   Yes   No  \n",
       "2         10   Yes  Yes  \n",
       "3         17   Yes  Yes  \n",
       "4         12   Yes   No  "
      ]
     },
     "execution_count": 3,
     "metadata": {},
     "output_type": "execute_result"
    }
   ],
   "source": [
    "path = 'https://raw.githubusercontent.com/DA4BAM/dataset/master/Carseat_test_x.csv'\n",
    "\n",
    "test = pd.read_csv(path)\n",
    "test.head()"
   ]
  },
  {
   "cell_type": "markdown",
   "metadata": {
    "id": "Ge5eTWab_921"
   },
   "source": [
    "## 1.데이터 탐색"
   ]
  },
  {
   "cell_type": "markdown",
   "metadata": {
    "id": "vtn0hI98urCt"
   },
   "source": [
    "## 2.데이터 전처리 "
   ]
  },
  {
   "cell_type": "code",
   "execution_count": 4,
   "metadata": {
    "id": "WvyeHRNWEMBF"
   },
   "outputs": [],
   "source": [
    "target = 'Sales'"
   ]
  },
  {
   "cell_type": "markdown",
   "metadata": {
    "id": "BHWYbtBdZTJN"
   },
   "source": [
    "### 2.1 데이터를 feature와 , target으로 분할"
   ]
  },
  {
   "cell_type": "code",
   "execution_count": 5,
   "metadata": {},
   "outputs": [],
   "source": [
    "x = data.drop(target, axis = 1)\n",
    "y = data.loc[:, target]"
   ]
  },
  {
   "cell_type": "markdown",
   "metadata": {
    "id": "umpv1ug6ZTJO"
   },
   "source": [
    "### 2.2 NaN에 대한 조치\n",
    "* 데이터에 포함된 NaN에 대해서 조치 방법을 결정하고 적용합니다.\n",
    "* 조치방법을 결정한 이유를 주석으로 기술합니다."
   ]
  },
  {
   "cell_type": "code",
   "execution_count": 6,
   "metadata": {
    "id": "8epD0jT6vL51",
    "scrolled": true
   },
   "outputs": [
    {
     "data": {
      "text/plain": [
       "CompPrice      13\n",
       "Income         12\n",
       "Advertising     0\n",
       "Population      0\n",
       "Price           0\n",
       "ShelveLoc       0\n",
       "Age             0\n",
       "Education       0\n",
       "Urban           0\n",
       "US              0\n",
       "dtype: int64"
      ]
     },
     "execution_count": 6,
     "metadata": {},
     "output_type": "execute_result"
    }
   ],
   "source": [
    "x.isna().sum()"
   ]
  },
  {
   "cell_type": "markdown",
   "metadata": {},
   "source": [
    "* KNN Inputer로 채울 수 있음\n",
    "    * KNN Inputer는 가변수화가 된 상태에서 사용 가능"
   ]
  },
  {
   "cell_type": "code",
   "execution_count": 7,
   "metadata": {},
   "outputs": [],
   "source": [
    "x['CompPrice'].fillna(0, inplace = True)"
   ]
  },
  {
   "cell_type": "markdown",
   "metadata": {},
   "source": [
    "1. CompPrice에 대한 결측치가 존재한다.\n",
    "- 경쟁사 제품에 가격이 존재하지 않다는 건, 해당 지역은 경쟁사가 제품을 판매하지 않는다 라는 의미로 판단할 수 있다. -> 결측치(경쟁사 매출)를 0으로 처리 \n"
   ]
  },
  {
   "cell_type": "code",
   "execution_count": 8,
   "metadata": {
    "scrolled": true
   },
   "outputs": [],
   "source": [
    "# plt.boxplot(x['Income'])"
   ]
  },
  {
   "cell_type": "code",
   "execution_count": 9,
   "metadata": {},
   "outputs": [],
   "source": [
    "x['Income'].fillna(data['Income'].mean(), inplace = True)"
   ]
  },
  {
   "cell_type": "markdown",
   "metadata": {},
   "source": [
    "2. Income에 대한 결측치가 존재한다.\n",
    "- 해당 지역 시민들에 대한 평균 월 수입 데이터가 존재하지 않는다.\n",
    "  \n",
    "  -> 해당 데이터에 이상치가 존재하지 않으니, 해당 변수의 평균 값을 채운다."
   ]
  },
  {
   "cell_type": "markdown",
   "metadata": {
    "id": "zFJ23LikV8A_"
   },
   "source": [
    "### 2.3 가변수화\n",
    "* 범주형 데이터이면서 값이 0,1 로 되어 있는 것이 아니라면, 가변수화를 수행해야 합니다.\n",
    "* 대상이 되는 변수에 대해서 가변수화를 수행해주세요."
   ]
  },
  {
   "cell_type": "code",
   "execution_count": 10,
   "metadata": {
    "id": "ETUeL5XmV8A_"
   },
   "outputs": [],
   "source": [
    "# 1. 가변수화 첫 번째 방법\n",
    "# x = pd.get_dummies(x, drop_first=True)"
   ]
  },
  {
   "cell_type": "code",
   "execution_count": 11,
   "metadata": {},
   "outputs": [],
   "source": [
    "# 2. 가변수화 두 번째 방법\n",
    "dum_cols = ['ShelveLoc', 'US', 'Urban', 'Education']\n",
    "\n",
    "x = pd.get_dummies(x, columns=dum_cols, drop_first=True)"
   ]
  },
  {
   "cell_type": "code",
   "execution_count": 12,
   "metadata": {
    "scrolled": false
   },
   "outputs": [
    {
     "data": {
      "text/html": [
       "<div>\n",
       "<style scoped>\n",
       "    .dataframe tbody tr th:only-of-type {\n",
       "        vertical-align: middle;\n",
       "    }\n",
       "\n",
       "    .dataframe tbody tr th {\n",
       "        vertical-align: top;\n",
       "    }\n",
       "\n",
       "    .dataframe thead th {\n",
       "        text-align: right;\n",
       "    }\n",
       "</style>\n",
       "<table border=\"1\" class=\"dataframe\">\n",
       "  <thead>\n",
       "    <tr style=\"text-align: right;\">\n",
       "      <th></th>\n",
       "      <th>CompPrice</th>\n",
       "      <th>Income</th>\n",
       "      <th>Advertising</th>\n",
       "      <th>Population</th>\n",
       "      <th>Price</th>\n",
       "      <th>Age</th>\n",
       "      <th>ShelveLoc_Good</th>\n",
       "      <th>ShelveLoc_Medium</th>\n",
       "      <th>US_Yes</th>\n",
       "      <th>Urban_Yes</th>\n",
       "      <th>Education_11</th>\n",
       "      <th>Education_12</th>\n",
       "      <th>Education_13</th>\n",
       "      <th>Education_14</th>\n",
       "      <th>Education_15</th>\n",
       "      <th>Education_16</th>\n",
       "      <th>Education_17</th>\n",
       "      <th>Education_18</th>\n",
       "    </tr>\n",
       "  </thead>\n",
       "  <tbody>\n",
       "    <tr>\n",
       "      <th>0</th>\n",
       "      <td>139.0</td>\n",
       "      <td>111.000000</td>\n",
       "      <td>5</td>\n",
       "      <td>310</td>\n",
       "      <td>132</td>\n",
       "      <td>62</td>\n",
       "      <td>0</td>\n",
       "      <td>0</td>\n",
       "      <td>1</td>\n",
       "      <td>1</td>\n",
       "      <td>0</td>\n",
       "      <td>0</td>\n",
       "      <td>1</td>\n",
       "      <td>0</td>\n",
       "      <td>0</td>\n",
       "      <td>0</td>\n",
       "      <td>0</td>\n",
       "      <td>0</td>\n",
       "    </tr>\n",
       "    <tr>\n",
       "      <th>1</th>\n",
       "      <td>143.0</td>\n",
       "      <td>21.000000</td>\n",
       "      <td>5</td>\n",
       "      <td>81</td>\n",
       "      <td>160</td>\n",
       "      <td>67</td>\n",
       "      <td>0</td>\n",
       "      <td>1</td>\n",
       "      <td>1</td>\n",
       "      <td>0</td>\n",
       "      <td>0</td>\n",
       "      <td>1</td>\n",
       "      <td>0</td>\n",
       "      <td>0</td>\n",
       "      <td>0</td>\n",
       "      <td>0</td>\n",
       "      <td>0</td>\n",
       "      <td>0</td>\n",
       "    </tr>\n",
       "    <tr>\n",
       "      <th>2</th>\n",
       "      <td>114.0</td>\n",
       "      <td>68.673611</td>\n",
       "      <td>0</td>\n",
       "      <td>97</td>\n",
       "      <td>125</td>\n",
       "      <td>29</td>\n",
       "      <td>0</td>\n",
       "      <td>1</td>\n",
       "      <td>0</td>\n",
       "      <td>1</td>\n",
       "      <td>0</td>\n",
       "      <td>1</td>\n",
       "      <td>0</td>\n",
       "      <td>0</td>\n",
       "      <td>0</td>\n",
       "      <td>0</td>\n",
       "      <td>0</td>\n",
       "      <td>0</td>\n",
       "    </tr>\n",
       "    <tr>\n",
       "      <th>3</th>\n",
       "      <td>119.0</td>\n",
       "      <td>88.000000</td>\n",
       "      <td>10</td>\n",
       "      <td>170</td>\n",
       "      <td>101</td>\n",
       "      <td>61</td>\n",
       "      <td>0</td>\n",
       "      <td>1</td>\n",
       "      <td>1</td>\n",
       "      <td>1</td>\n",
       "      <td>0</td>\n",
       "      <td>0</td>\n",
       "      <td>1</td>\n",
       "      <td>0</td>\n",
       "      <td>0</td>\n",
       "      <td>0</td>\n",
       "      <td>0</td>\n",
       "      <td>0</td>\n",
       "    </tr>\n",
       "    <tr>\n",
       "      <th>4</th>\n",
       "      <td>136.0</td>\n",
       "      <td>81.000000</td>\n",
       "      <td>15</td>\n",
       "      <td>425</td>\n",
       "      <td>120</td>\n",
       "      <td>67</td>\n",
       "      <td>1</td>\n",
       "      <td>0</td>\n",
       "      <td>1</td>\n",
       "      <td>1</td>\n",
       "      <td>0</td>\n",
       "      <td>0</td>\n",
       "      <td>0</td>\n",
       "      <td>0</td>\n",
       "      <td>0</td>\n",
       "      <td>0</td>\n",
       "      <td>0</td>\n",
       "      <td>0</td>\n",
       "    </tr>\n",
       "  </tbody>\n",
       "</table>\n",
       "</div>"
      ],
      "text/plain": [
       "   CompPrice      Income  Advertising  Population  Price  Age  ShelveLoc_Good  \\\n",
       "0      139.0  111.000000            5         310    132   62               0   \n",
       "1      143.0   21.000000            5          81    160   67               0   \n",
       "2      114.0   68.673611            0          97    125   29               0   \n",
       "3      119.0   88.000000           10         170    101   61               0   \n",
       "4      136.0   81.000000           15         425    120   67               1   \n",
       "\n",
       "   ShelveLoc_Medium  US_Yes  Urban_Yes  Education_11  Education_12  \\\n",
       "0                 0       1          1             0             0   \n",
       "1                 1       1          0             0             1   \n",
       "2                 1       0          1             0             1   \n",
       "3                 1       1          1             0             0   \n",
       "4                 0       1          1             0             0   \n",
       "\n",
       "   Education_13  Education_14  Education_15  Education_16  Education_17  \\\n",
       "0             1             0             0             0             0   \n",
       "1             0             0             0             0             0   \n",
       "2             0             0             0             0             0   \n",
       "3             1             0             0             0             0   \n",
       "4             0             0             0             0             0   \n",
       "\n",
       "   Education_18  \n",
       "0             0  \n",
       "1             0  \n",
       "2             0  \n",
       "3             0  \n",
       "4             0  "
      ]
     },
     "execution_count": 12,
     "metadata": {},
     "output_type": "execute_result"
    }
   ],
   "source": [
    "x.head()"
   ]
  },
  {
   "cell_type": "markdown",
   "metadata": {},
   "source": [
    " * KNN Inputer 수행"
   ]
  },
  {
   "cell_type": "code",
   "execution_count": 13,
   "metadata": {},
   "outputs": [
    {
     "data": {
      "text/plain": [
       "CompPrice           0\n",
       "Income              0\n",
       "Advertising         0\n",
       "Population          0\n",
       "Price               0\n",
       "Age                 0\n",
       "ShelveLoc_Good      0\n",
       "ShelveLoc_Medium    0\n",
       "US_Yes              0\n",
       "Urban_Yes           0\n",
       "Education_11        0\n",
       "Education_12        0\n",
       "Education_13        0\n",
       "Education_14        0\n",
       "Education_15        0\n",
       "Education_16        0\n",
       "Education_17        0\n",
       "Education_18        0\n",
       "dtype: int64"
      ]
     },
     "execution_count": 13,
     "metadata": {},
     "output_type": "execute_result"
    }
   ],
   "source": [
    "from sklearn.impute import KNNImputer\n",
    "\n",
    "imputer = KNNImputer(n_neighbors=5)\n",
    "imputed = imputer.fit_transform(x)\n",
    "# 데이터프레임으로 다시 만듭니다\n",
    "x = pd.DataFrame(imputed, columns=x.columns)\n",
    "x.isna().sum()"
   ]
  },
  {
   "cell_type": "markdown",
   "metadata": {
    "id": "NC48TbT7FoYM"
   },
   "source": [
    "### 2.4 (옵션) 추가변수 도출\n",
    "* 기존 데이터셋의 변수를 이용하여 추가로 도출할 수 있는 변수가 있다면 수행합니다."
   ]
  },
  {
   "cell_type": "code",
   "execution_count": 14,
   "metadata": {
    "id": "eEi54e5ZFnU1"
   },
   "outputs": [],
   "source": [
    "# 경쟁사 제품 가격과 자사 제품 가격의 차이\n",
    "x['PriceGap'] = abs(x['CompPrice'] - x['Price'])"
   ]
  },
  {
   "cell_type": "markdown",
   "metadata": {
    "id": "-dgcE6vBZTJQ"
   },
   "source": [
    "### 2.5 데이터 분할\n",
    "* train 데이터를 train : val 로 분할하시오.\n",
    "* train set의 적절한 사이즈를 결정하시오."
   ]
  },
  {
   "cell_type": "code",
   "execution_count": 15,
   "metadata": {
    "id": "rrJdDjMiIa1d"
   },
   "outputs": [],
   "source": [
    "# 모듈 불러오기\n",
    "from sklearn.model_selection import train_test_split\n",
    "\n",
    "# 7:3으로 분리\n",
    "x_train, x_val, y_train, y_val = train_test_split(x, y, test_size=0.2, random_state=2022)"
   ]
  },
  {
   "cell_type": "code",
   "execution_count": 16,
   "metadata": {},
   "outputs": [
    {
     "data": {
      "text/plain": [
       "((240, 19), (60, 19))"
      ]
     },
     "execution_count": 16,
     "metadata": {},
     "output_type": "execute_result"
    }
   ],
   "source": [
    "x_train.shape, x_val.shape"
   ]
  },
  {
   "cell_type": "markdown",
   "metadata": {
    "id": "2Lwk03PSZTJP"
   },
   "source": [
    "### 2.6 (옵션)스케일링 \n",
    "* 스케일링을 필요로 하는 알고리즘이 있습니다. \n",
    "* 필요하다고 판단될때 수행합니다."
   ]
  },
  {
   "cell_type": "code",
   "execution_count": 17,
   "metadata": {
    "id": "oAVSU7XucCvn"
   },
   "outputs": [],
   "source": [
    "from sklearn.preprocessing import MinMaxScaler\n",
    "col_x = list(x)\n",
    "scaler = MinMaxScaler()\n",
    "# 스케일링 적용 한 변수 생성\n",
    "x_train_scale = scaler.fit_transform(x_train)\n",
    "x_val_scale = scaler.transform(x_val)\n",
    "\n",
    "# 데이터프레임으로 다시 만듭니다\n",
    "# x_train_scale = pd.DataFrame(x_train_scale, columns=col_x)\n",
    "# x_train_scale.head()"
   ]
  },
  {
   "cell_type": "markdown",
   "metadata": {
    "id": "ZghJJ7yLEpDA"
   },
   "source": [
    "## 3.모델링1 : 머신러닝"
   ]
  },
  {
   "cell_type": "markdown",
   "metadata": {
    "id": "NFDAfi7-5Xhu"
   },
   "source": [
    "### 3.1 모델링을 위한 함수 불러오기\n",
    "\n",
    "* 꼭 필요한 함수만 불러옵니다. 무조건 다 불러오는 것은 지양해주세요."
   ]
  },
  {
   "cell_type": "code",
   "execution_count": 18,
   "metadata": {
    "id": "zlHHnr2-5cwD"
   },
   "outputs": [],
   "source": [
    "from sklearn.linear_model import LinearRegression\n",
    "from sklearn.neighbors import KNeighborsRegressor\n",
    "from sklearn.tree import DecisionTreeRegressor\n",
    "from sklearn.svm import SVR\n",
    "from sklearn.ensemble import RandomForestRegressor\n",
    "from xgboost import XGBRegressor\n",
    "\n",
    "from sklearn.model_selection import GridSearchCV, RandomizedSearchCV\n",
    "from sklearn.model_selection import cross_val_score\n",
    "\n",
    "from sklearn.metrics import mean_absolute_error\n",
    "from sklearn.metrics import mean_squared_error\n",
    "from sklearn.metrics import mean_absolute_percentage_error\n",
    "from sklearn.metrics import r2_score\n",
    "from sklearn.metrics import accuracy_score\n",
    "\n",
    "from sklearn.linear_model import Lasso\n",
    "\n",
    "result={}"
   ]
  },
  {
   "cell_type": "markdown",
   "metadata": {
    "id": "t-gnca2jZTJQ"
   },
   "source": [
    "### 3.2 모델링\n",
    "* 최소 3개 이상의 알고리즘을 선정합니다.(알고리즘에는 최소 1개 이상의 앙상블 기법을 포함)\n",
    "    * 아래 주어진 목록 이외의 알고리즘을 선정해도 좋습니다.\n",
    "* 각 알고리즘별 튜닝을 수행하여 최적의 모델을 생성합니다.\n",
    "    * 튜닝 방식은 GridSearchCV, RandomizedSearchCV 혹은 for loop 로 직접\n",
    "    * 단, 선형회귀, 로지스틱 회귀의는 입력 변수(feature)를 조절하여 튜닝을 합니다.\n",
    "* 모델링, 튜닝만 수행하는데 그치지 말고, 모델의 내용을 파악하기 위한 분석을 시도합니다.\n",
    "    * 예 : 모델 시각화 및 내용 파악, 튜닝 결과 분석 및 시각화"
   ]
  },
  {
   "cell_type": "markdown",
   "metadata": {
    "id": "1j8zehMIIqpv"
   },
   "source": [
    "#### (1) Linear Regression 모델링"
   ]
  },
  {
   "cell_type": "code",
   "execution_count": 19,
   "metadata": {
    "id": "afL0_rKpEoTz"
   },
   "outputs": [],
   "source": [
    "# 모델 선언하기\n",
    "lr_model = LinearRegression()"
   ]
  },
  {
   "cell_type": "code",
   "execution_count": 20,
   "metadata": {},
   "outputs": [
    {
     "data": {
      "text/plain": [
       "LinearRegression()"
      ]
     },
     "execution_count": 20,
     "metadata": {},
     "output_type": "execute_result"
    }
   ],
   "source": [
    "# 학습하기\n",
    "lr_model.fit(x_train, y_train)"
   ]
  },
  {
   "cell_type": "code",
   "execution_count": 21,
   "metadata": {
    "id": "uFKvj_10EoQi",
    "scrolled": true
   },
   "outputs": [
    {
     "name": "stdout",
     "output_type": "stream",
     "text": [
      "['CompPrice', 'Income', 'Advertising', 'Population', 'Price', 'Age', 'ShelveLoc_Good', 'ShelveLoc_Medium', 'US_Yes', 'Urban_Yes', 'Education_11', 'Education_12', 'Education_13', 'Education_14', 'Education_15', 'Education_16', 'Education_17', 'Education_18', 'PriceGap']\n",
      "[ 3.98604301e-02  1.23334383e-02  1.16009897e-01  4.06817371e-04\n",
      " -7.35259882e-02 -4.98376413e-02  4.93089932e+00  2.02951766e+00\n",
      " -1.63435563e-02  2.33576421e-01 -8.43531999e-01 -4.17099447e-01\n",
      " -4.81790006e-01 -6.73543636e-01 -5.12793042e-01 -4.12714987e-01\n",
      " -4.66157224e-01 -1.03729964e+00  4.62945896e-02]\n",
      "9.438777475878656\n"
     ]
    }
   ],
   "source": [
    "# # 성능검증\n",
    "print(list(x_train))\n",
    "print(lr_model.coef_)\n",
    "print(lr_model.intercept_)"
   ]
  },
  {
   "cell_type": "code",
   "execution_count": 22,
   "metadata": {},
   "outputs": [
    {
     "name": "stdout",
     "output_type": "stream",
     "text": [
      "1.1538557627482824\n"
     ]
    }
   ],
   "source": [
    "# 예측하기\n",
    "val_pred_lr = lr_model.predict(x_val)\n",
    "print(mean_absolute_error(y_val, val_pred_lr))\n",
    "result['LR'] = mean_absolute_error(y_val, val_pred_lr)"
   ]
  },
  {
   "cell_type": "markdown",
   "metadata": {
    "id": "ZwstDzzpe5Rg"
   },
   "source": [
    "#### (2) Decision Tree 모델링"
   ]
  },
  {
   "cell_type": "code",
   "execution_count": 23,
   "metadata": {
    "id": "9KBjAg2Ue5nI"
   },
   "outputs": [],
   "source": [
    "# # GridSearchCV의 param_grid 설정\n",
    "# params = {\n",
    "#     'max_depth' : range(1, 51)\n",
    "# }\n",
    "\n",
    "# dtr_model = DecisionTreeRegressor()\n",
    "\n",
    "# grid_tree = GridSearchCV(dtr_model, params, cv=5, scoring='r2')\n",
    "# grid_tree.fit(x_train, y_train)\n",
    "\n",
    "# print('best parameters : ', grid_tree.best_params_)\n",
    "# print('best score : ', grid_tree.best_score_)\n",
    "# em = grid_tree.best_estimator_\n",
    "# pred = em.predict(x_val)\n",
    "# r2_score(y_val, pred)"
   ]
  },
  {
   "cell_type": "code",
   "execution_count": 24,
   "metadata": {},
   "outputs": [],
   "source": [
    "# # 최적파라미터, 성능 확인\n",
    "# print('최적파라미터:', grid_tree.best_params_)\n",
    "# print('성능:', grid_tree.best_score_)"
   ]
  },
  {
   "cell_type": "code",
   "execution_count": 25,
   "metadata": {
    "id": "40N90iKAfa9j"
   },
   "outputs": [],
   "source": [
    "# # 학습하기\n",
    "# dtr_model.fit(x_train, y_train)"
   ]
  },
  {
   "cell_type": "code",
   "execution_count": 26,
   "metadata": {},
   "outputs": [],
   "source": [
    "# # 예측하기\n",
    "# y_pred = dtr_model.predict(x_val)\n",
    "# y_pred[:2]"
   ]
  },
  {
   "cell_type": "code",
   "execution_count": 27,
   "metadata": {},
   "outputs": [],
   "source": [
    "# y_val[:2]"
   ]
  },
  {
   "cell_type": "code",
   "execution_count": 28,
   "metadata": {},
   "outputs": [],
   "source": [
    "# # 평가하기\n",
    "# mae = mean_absolute_error(y_val, y_pred)\n",
    "# r2_points = r2_score(y_val, y_pred)\n",
    "# print(\"MAE:\", mae)\n",
    "# print(\"R^2:\", r2_points)\n",
    "# result['Decision Tree'] = mean_absolute_error(y_val, y_pred)"
   ]
  },
  {
   "cell_type": "code",
   "execution_count": 29,
   "metadata": {},
   "outputs": [
    {
     "data": {
      "text/plain": [
       "DecisionTreeRegressor(max_depth=3)"
      ]
     },
     "execution_count": 29,
     "metadata": {},
     "output_type": "execute_result"
    }
   ],
   "source": [
    "dst_model = DecisionTreeRegressor(max_depth=3)\n",
    "dst_model.fit(x_train, y_train)"
   ]
  },
  {
   "cell_type": "code",
   "execution_count": 30,
   "metadata": {},
   "outputs": [],
   "source": [
    "# !pip install Ipython"
   ]
  },
  {
   "cell_type": "code",
   "execution_count": 31,
   "metadata": {},
   "outputs": [],
   "source": [
    "# !pip install ipython"
   ]
  },
  {
   "cell_type": "code",
   "execution_count": 32,
   "metadata": {
    "scrolled": false
   },
   "outputs": [],
   "source": [
    "# # 시각화\n",
    "# from sklearn.tree import export_graphviz # 디시젼 트리 시각화 라이브러리 선언\n",
    "\n",
    "# export_graphviz(dst_model #<--여기에 모델이름 넣기\n",
    "#                , out_file = 'DecisionTree.dot'\n",
    "#                , feature_names = x_train.columns  # feature 이름\n",
    "#                , rounded = True, precision=3, filled=True)\n",
    "# !dot -Tpng DecisionTree.dot -o DecisionTree.png -Gdpi=300\n",
    "\n",
    "# # 이미지 파일 로딩하기\n",
    "# from Ipython.display import Image\n",
    "# Image(filename='DecisionTree.png', width=800) # 사이즈 조정\n",
    "\n",
    "# # 7일전의 이용량과 2일전의 이용량 변수가 자주 사용되었음을 확인 가능"
   ]
  },
  {
   "cell_type": "code",
   "execution_count": 33,
   "metadata": {
    "scrolled": true
   },
   "outputs": [
    {
     "name": "stdout",
     "output_type": "stream",
     "text": [
      "1\n",
      "2\n",
      "3\n",
      "4\n",
      "5\n",
      "6\n",
      "7\n",
      "8\n",
      "9\n",
      "10\n",
      "11\n",
      "12\n",
      "13\n",
      "14\n",
      "15\n",
      "16\n",
      "17\n",
      "18\n",
      "19\n"
     ]
    }
   ],
   "source": [
    "train_mae, val_mae = [],[]\n",
    "\n",
    "depth=list(range(1,20))\n",
    "for d in depth:\n",
    "    dst_model = DecisionTreeRegressor(max_depth=d)\n",
    "    dst_model.fit(x_train, y_train)\n",
    "    train_pred_dst = dst_model.predict(x_train)\n",
    "    val_pred_dst = dst_model.predict(x_val)\n",
    "    train_mae.append(mean_absolute_error(y_train, train_pred_dst))\n",
    "    val_mae.append(mean_absolute_error(y_val, val_pred_dst))\n",
    "    print(d)"
   ]
  },
  {
   "cell_type": "code",
   "execution_count": 34,
   "metadata": {
    "scrolled": true
   },
   "outputs": [
    {
     "data": {
      "image/png": "[encoded data removed]",
      "text/plain": [
       "<Figure size 864x432 with 1 Axes>"
      ]
     },
     "metadata": {
      "needs_background": "light"
     },
     "output_type": "display_data"
    }
   ],
   "source": [
    "plt.figure(figsize=(12,6))\n",
    "plt.plot(depth, train_mae, label='train_mae')\n",
    "plt.plot(depth, val_mae, label='val_mae')\n",
    "plt.legend()\n",
    "plt.grid()\n",
    "plt.show()"
   ]
  },
  {
   "cell_type": "markdown",
   "metadata": {},
   "source": [
    "'''8정도가 적당함을 확인 가능''' "
   ]
  },
  {
   "cell_type": "code",
   "execution_count": 35,
   "metadata": {},
   "outputs": [
    {
     "name": "stdout",
     "output_type": "stream",
     "text": [
      "1.923139417989418\n"
     ]
    }
   ],
   "source": [
    "dst_model=DecisionTreeRegressor(max_depth=8)\n",
    "dst_model.fit(x_train, y_train)\n",
    "val_pred_dst=dst_model.predict(x_val)\n",
    "print(mean_absolute_error(y_val, val_pred_dst))\n",
    "result['DST'] = mean_absolute_error(y_val, val_pred_dst)"
   ]
  },
  {
   "cell_type": "markdown",
   "metadata": {},
   "source": [
    "'''MAE의 의미: 평균 오차'''"
   ]
  },
  {
   "cell_type": "code",
   "execution_count": 36,
   "metadata": {},
   "outputs": [
    {
     "data": {
      "text/plain": [
       "<BarContainer object of 19 artists>"
      ]
     },
     "execution_count": 36,
     "metadata": {},
     "output_type": "execute_result"
    },
    {
     "data": {
      "image/png": "[encoded data removed]",
      "text/plain": [
       "<Figure size 360x504 with 1 Axes>"
      ]
     },
     "metadata": {
      "needs_background": "light"
     },
     "output_type": "display_data"
    }
   ],
   "source": [
    "# 변수 중요도 시각화\n",
    "plt.figure(figsize=(5,7))\n",
    "plt.barh(y=list(x), width = dst_model.feature_importances_) # y 값은 변수"
   ]
  },
  {
   "cell_type": "markdown",
   "metadata": {},
   "source": [
    "[분석 방법]\n",
    "- 그리드서치 CV를 활용해 최적의 파라미터 탐색 및 적용\n",
    "\n",
    "[분석 결과]\n",
    "- mse : 6.29, r2score : 0.227으로써 썩 좋지 않는 모델 성능을 보였다.\n",
    "- 해당 모델을 바탕으로 데이터의 변수 중요도를 확인하니, 자사 제품의 가격과 진열 상태에 따라서 매출이 달라지는 걸 확인 할 수 있다.\n",
    "- 해당 변수를 바탕으로 매출량을 증대 시켜야 한다."
   ]
  },
  {
   "cell_type": "markdown",
   "metadata": {
    "id": "b7sweeGMWYO1"
   },
   "source": [
    "#### (3) KNN 모델링"
   ]
  },
  {
   "cell_type": "code",
   "execution_count": 37,
   "metadata": {
    "id": "hHLzHD5KWYO6"
   },
   "outputs": [],
   "source": [
    "rand_param = {\n",
    "    'n_neighbors': range(2, 20),         # 랜덤으로 값을 딕셔너리로 저장\n",
    "#     'metric': ['euclidean', 'manhattan'] # 이클리디안, 맨하탄 거리를 사용한다.\n",
    "}\n",
    "knn_model = KNeighborsRegressor()    \n",
    "knn_model_grid = GridSearchCV(knn_model, rand_param, scoring='neg_mean_absolute_error')"
   ]
  },
  {
   "cell_type": "markdown",
   "metadata": {},
   "source": [
    "'''그리드 서치나 랜덤서치는 기본적인 스코어가 높은게 좋은데 오차는 낮은게 좋으므로 neg_(마이너스)를 붙여서높은게 좋은걸로 바꿔줌 '''"
   ]
  },
  {
   "cell_type": "code",
   "execution_count": 38,
   "metadata": {},
   "outputs": [
    {
     "data": {
      "text/plain": [
       "GridSearchCV(estimator=KNeighborsRegressor(),\n",
       "             param_grid={'n_neighbors': range(2, 20)},\n",
       "             scoring='neg_mean_absolute_error')"
      ]
     },
     "execution_count": 38,
     "metadata": {},
     "output_type": "execute_result"
    }
   ],
   "source": [
    "knn_model_grid.fit(x_train_scale, y_train)"
   ]
  },
  {
   "cell_type": "code",
   "execution_count": 39,
   "metadata": {
    "id": "rn6oLQAbWYO6"
   },
   "outputs": [
    {
     "name": "stdout",
     "output_type": "stream",
     "text": [
      "최적파라미터: {'n_neighbors': 9}\n",
      "성능: -1.904328703703704\n"
     ]
    }
   ],
   "source": [
    "# 최적파라미터, 성능 확인\n",
    "print('최적파라미터:', knn_model_grid.best_params_)\n",
    "print('성능:', knn_model_grid.best_score_)"
   ]
  },
  {
   "cell_type": "code",
   "execution_count": 40,
   "metadata": {
    "id": "C0wxfihLWYO6"
   },
   "outputs": [
    {
     "data": {
      "text/plain": [
       "KNeighborsRegressor(metric='manhattan', n_neighbors=41)"
      ]
     },
     "execution_count": 40,
     "metadata": {},
     "output_type": "execute_result"
    }
   ],
   "source": [
    "# 학습하기\n",
    "knn_model = KNeighborsRegressor(n_neighbors=41, metric='manhattan')\n",
    "knn_model.fit(x_train_scale, y_train)"
   ]
  },
  {
   "cell_type": "code",
   "execution_count": 41,
   "metadata": {
    "scrolled": true
   },
   "outputs": [],
   "source": [
    "# 예측하기\n",
    "val_pred_knn = knn_model_grid.predict(x_val_scale)"
   ]
  },
  {
   "cell_type": "code",
   "execution_count": 42,
   "metadata": {},
   "outputs": [
    {
     "name": "stdout",
     "output_type": "stream",
     "text": [
      "MAE :  2.0468148148148146\n"
     ]
    }
   ],
   "source": [
    "# 평가하기\n",
    "print('MAE : ', mean_absolute_error(y_val, val_pred_knn))\n",
    "result['KNN'] = mean_absolute_error(y_val, val_pred_knn)"
   ]
  },
  {
   "cell_type": "code",
   "execution_count": 43,
   "metadata": {},
   "outputs": [
    {
     "data": {
      "text/plain": [
       "<matplotlib.legend.Legend at 0x209c8415700>"
      ]
     },
     "execution_count": 43,
     "metadata": {},
     "output_type": "execute_result"
    },
    {
     "data": {
      "image/png": "[encoded data removed]",
      "text/plain": [
       "<Figure size 432x288 with 1 Axes>"
      ]
     },
     "metadata": {
      "needs_background": "light"
     },
     "output_type": "display_data"
    }
   ],
   "source": [
    "plt.plot(val_pred_knn[:20], label = 'Predict')\n",
    "plt.plot(np.array(y_val)[:20], label = 'Val')\n",
    "plt.legend()"
   ]
  },
  {
   "cell_type": "markdown",
   "metadata": {},
   "source": [
    "[분석 방법] \n",
    "- 그리드서치 CV를 활용해 최적의 파라미터 탐색 및 적용\n",
    "- n_neighborrs : 9 \n",
    "\n",
    "[분석 결과]\n",
    "- mae : 2.04으로 썩 좋지 않는 모델 성능을 보였다.\n",
    "- 위 그래프를 보는 것처럼 해당 모델은 좋지 않다.\n"
   ]
  },
  {
   "cell_type": "markdown",
   "metadata": {
    "id": "JB7CrBcM3j4g"
   },
   "source": [
    "#### (4) SVM 모델링"
   ]
  },
  {
   "cell_type": "code",
   "execution_count": 44,
   "metadata": {},
   "outputs": [],
   "source": [
    "svm_model = SVR()\n",
    "\n",
    "params = {'C':[0.05, 0.1, 0.2, 1.5, 10],\n",
    "          'gamma':[0.1,1,5,10]}\n",
    "\n",
    "svm_model_grid = GridSearchCV(svm_model, param_grid=params, cv=5, scoring='neg_mean_absolute_error')"
   ]
  },
  {
   "cell_type": "code",
   "execution_count": 45,
   "metadata": {
    "scrolled": true
   },
   "outputs": [
    {
     "data": {
      "text/plain": [
       "GridSearchCV(cv=5, estimator=SVR(),\n",
       "             param_grid={'C': [0.05, 0.1, 0.2, 1.5, 10],\n",
       "                         'gamma': [0.1, 1, 5, 10]},\n",
       "             scoring='neg_mean_absolute_error')"
      ]
     },
     "execution_count": 45,
     "metadata": {},
     "output_type": "execute_result"
    }
   ],
   "source": [
    "svm_model_grid.fit(x_train_scale, y_train)"
   ]
  },
  {
   "cell_type": "code",
   "execution_count": 46,
   "metadata": {
    "scrolled": true
   },
   "outputs": [
    {
     "name": "stdout",
     "output_type": "stream",
     "text": [
      "최적파라미터: {'C': 10, 'gamma': 0.1}\n",
      "성능: -1.1337263240020978\n"
     ]
    }
   ],
   "source": [
    "# 최적파라미터, 성능 확인\n",
    "print('최적파라미터:', svm_model_grid.best_params_)\n",
    "print('성능:', svm_model_grid.best_score_)"
   ]
  },
  {
   "cell_type": "code",
   "execution_count": 47,
   "metadata": {},
   "outputs": [],
   "source": [
    "# 예측하기\n",
    "val_pred_svm = svm_model_grid.predict(x_val_scale)"
   ]
  },
  {
   "cell_type": "code",
   "execution_count": 48,
   "metadata": {},
   "outputs": [
    {
     "name": "stdout",
     "output_type": "stream",
     "text": [
      "MAE :  1.2073859720281113\n"
     ]
    }
   ],
   "source": [
    "# 평가하기\n",
    "print('MAE : ', mean_absolute_error(y_val, val_pred_svm))\n",
    "result['SVM'] = mean_absolute_error(y_val, val_pred_svm)"
   ]
  },
  {
   "cell_type": "markdown",
   "metadata": {
    "id": "FNAN5h5ZjxET"
   },
   "source": [
    "#### (5) Random Forest 모델링"
   ]
  },
  {
   "cell_type": "code",
   "execution_count": 49,
   "metadata": {
    "id": "EnDLOQh3KW7X"
   },
   "outputs": [],
   "source": [
    "# 모델 선언하기\n",
    "rf_model = RandomForestRegressor()"
   ]
  },
  {
   "cell_type": "code",
   "execution_count": 50,
   "metadata": {},
   "outputs": [
    {
     "data": {
      "text/plain": [
       "RandomForestRegressor()"
      ]
     },
     "execution_count": 50,
     "metadata": {},
     "output_type": "execute_result"
    }
   ],
   "source": [
    "# 학습 하기\n",
    "rf_model.fit(x_train, y_train)"
   ]
  },
  {
   "cell_type": "code",
   "execution_count": 51,
   "metadata": {
    "id": "lB6gCjZjkKB9"
   },
   "outputs": [],
   "source": [
    "# 예측 하기\n",
    "val_pred_rf = rf_model.predict(x_val)"
   ]
  },
  {
   "cell_type": "code",
   "execution_count": 52,
   "metadata": {},
   "outputs": [
    {
     "name": "stdout",
     "output_type": "stream",
     "text": [
      "MAE :  1.449385\n"
     ]
    }
   ],
   "source": [
    "# 평가하기\n",
    "print('MAE : ', mean_absolute_error(y_val, val_pred_rf))\n",
    "result['XGB'] = mean_absolute_error(y_val, val_pred_rf)"
   ]
  },
  {
   "cell_type": "markdown",
   "metadata": {
    "id": "EuRaZc7OkRJN"
   },
   "source": [
    "#### (6) XGB 모델링"
   ]
  },
  {
   "cell_type": "code",
   "execution_count": 53,
   "metadata": {
    "id": "g6HxAbuqnnsO"
   },
   "outputs": [
    {
     "data": {
      "text/plain": [
       "RandomizedSearchCV(cv=10,\n",
       "                   estimator=XGBRegressor(base_score=None, booster=None,\n",
       "                                          colsample_bylevel=None,\n",
       "                                          colsample_bynode=None,\n",
       "                                          colsample_bytree=None,\n",
       "                                          enable_categorical=False, gamma=None,\n",
       "                                          gpu_id=None, importance_type=None,\n",
       "                                          interaction_constraints=None,\n",
       "                                          learning_rate=None,\n",
       "                                          max_delta_step=None, max_depth=None,\n",
       "                                          min_child_weight=None, missing=nan,\n",
       "                                          monotone_constraints...\n",
       "                                          n_estimators=100, n_jobs=None,\n",
       "                                          num_parallel_tree=None,\n",
       "                                          predictor=None, random_state=None,\n",
       "                                          reg_alpha=None, reg_lambda=None,\n",
       "                                          scale_pos_weight=None, subsample=None,\n",
       "                                          tree_method=None,\n",
       "                                          validate_parameters=None,\n",
       "                                          verbosity=None),\n",
       "                   n_iter=20,\n",
       "                   param_distributions={'learning_rate': [0.01, 0.1, 0.2, 0.3],\n",
       "                                        'max_depth': range(2, 6),\n",
       "                                        'n_estimators': range(20, 201, 10)},\n",
       "                   scoring='neg_mean_absolute_error')"
      ]
     },
     "execution_count": 53,
     "metadata": {},
     "output_type": "execute_result"
    }
   ],
   "source": [
    "xgb_model = XGBRegressor(objective='reg:squarederror')\n",
    "\n",
    "params = {'max_depth':range(2,6)\n",
    "         ,'n_estimators':range(20,201,10)\n",
    "         ,'learning_rate':[0.01,0.1,0.2,0.3]}\n",
    "\n",
    "xgb_model_rs=RandomizedSearchCV(xgb_model, params, n_iter=20, cv=10, scoring='neg_mean_absolute_error')\n",
    "xgb_model_rs.fit(x_train,y_train)"
   ]
  },
  {
   "cell_type": "code",
   "execution_count": 54,
   "metadata": {
    "id": "eqVqwahhAfET"
   },
   "outputs": [
    {
     "name": "stdout",
     "output_type": "stream",
     "text": [
      "최적파라미터: {'n_estimators': 80, 'max_depth': 2, 'learning_rate': 0.3}\n",
      "성능: -1.2080802376667659\n"
     ]
    }
   ],
   "source": [
    "# 최적파라미터, 성능 확인\n",
    "print('최적파라미터:', xgb_model_rs.best_params_)\n",
    "print('성능:', xgb_model_rs.best_score_)"
   ]
  },
  {
   "cell_type": "code",
   "execution_count": 55,
   "metadata": {},
   "outputs": [],
   "source": [
    "# 예측하기\n",
    "val_pred_xgb = xgb_model_rs.predict(x_val)"
   ]
  },
  {
   "cell_type": "code",
   "execution_count": 56,
   "metadata": {},
   "outputs": [
    {
     "name": "stdout",
     "output_type": "stream",
     "text": [
      "MAE :  1.2073859720281113\n"
     ]
    }
   ],
   "source": [
    "# 평가하기\n",
    "print('MAE : ', mean_absolute_error(y_val, val_pred_svm))\n",
    "result['KNN'] = mean_absolute_error(y_val, val_pred_svm)"
   ]
  },
  {
   "cell_type": "markdown",
   "metadata": {},
   "source": [
    "##1. 분석 방법 \n",
    "- 랜덤서치 CV를 활용해 최적의 파라미터 탐색 및 적용\n",
    "- max_depth : 4\n",
    "\n",
    "\n",
    "##2. 분석 결과\n",
    "- r2_score 0.69 이상으로 나쁘지 않은 성능을 보였다.\n",
    "- 위의 시각화를 확인하면 예측값과 실제 값이 비슷한 양상을 보였다."
   ]
  },
  {
   "cell_type": "markdown",
   "metadata": {
    "id": "IRsH_UjrXNiW"
   },
   "source": [
    "## 4.모델링2 : 딥러닝"
   ]
  },
  {
   "cell_type": "markdown",
   "metadata": {
    "id": "b9kRyQ6K6CIW"
   },
   "source": [
    "### 4.1 모델링을 위한 함수 불러오기"
   ]
  },
  {
   "cell_type": "code",
   "execution_count": 57,
   "metadata": {
    "id": "_BDNB7hM9_hz"
   },
   "outputs": [],
   "source": [
    "from tensorflow.keras.backend import clear_session\n",
    "from tensorflow.keras.models import Model\n",
    "\n",
    "from tensorflow.keras.layers import Input, Dense, Concatenate\n",
    "from tensorflow.keras.activations import relu, softmax\n",
    "\n",
    "from tensorflow.keras.losses import categorical_crossentropy\n",
    "from tensorflow.keras.optimizers import Adam\n",
    "\n",
    "from tensorflow.keras.callbacks import EarlyStopping\n",
    "from tensorflow.keras.utils import plot_model\n",
    "\n",
    "import tensorflow as tf\n",
    "from tensorflow import keras"
   ]
  },
  {
   "cell_type": "code",
   "execution_count": 58,
   "metadata": {},
   "outputs": [
    {
     "data": {
      "text/plain": [
       "((240, 19), (240,))"
      ]
     },
     "execution_count": 58,
     "metadata": {},
     "output_type": "execute_result"
    }
   ],
   "source": [
    "x_train.shape, y_train.shape"
   ]
  },
  {
   "cell_type": "markdown",
   "metadata": {
    "id": "QEe9g-0DXNia"
   },
   "source": [
    "### 4.2 모델 설계\n",
    "* 다양한 구조의 모델 3개 이상을 설계하시오. (히든레이어, 노드 수 조절)"
   ]
  },
  {
   "cell_type": "code",
   "execution_count": 59,
   "metadata": {},
   "outputs": [
    {
     "data": {
      "text/plain": [
       "19"
      ]
     },
     "execution_count": 59,
     "metadata": {},
     "output_type": "execute_result"
    }
   ],
   "source": [
    "input = x_train.shape[1]\n",
    "input"
   ]
  },
  {
   "cell_type": "markdown",
   "metadata": {
    "id": "yAaMF07mHz_q"
   },
   "source": [
    "* 모델1 "
   ]
  },
  {
   "cell_type": "code",
   "execution_count": 60,
   "metadata": {
    "id": "i-boLYXkXdpj",
    "scrolled": true
   },
   "outputs": [
    {
     "name": "stdout",
     "output_type": "stream",
     "text": [
      "Model: \"sequential\"\n",
      "_________________________________________________________________\n",
      " Layer (type)                Output Shape              Param #   \n",
      "=================================================================\n",
      " dense (Dense)               (None, 1)                 20        \n",
      "                                                                 \n",
      "=================================================================\n",
      "Total params: 20\n",
      "Trainable params: 20\n",
      "Non-trainable params: 0\n",
      "_________________________________________________________________\n"
     ]
    }
   ],
   "source": [
    "########\n",
    "# 모델링 : Sequential API style\n",
    "########\n",
    "\n",
    "# 1번 청소 : 이미 만들어진 모델이 있다면 그 모델을 없애줘\n",
    "keras.backend.clear_session()\n",
    "\n",
    "# 2번 모델 선언\n",
    "model = keras.models.Sequential()\n",
    "\n",
    "# 3번 모델 블록 조립\n",
    "model.add( keras.layers.Input(shape=(input,)) )\n",
    "model.add( keras.layers.Dense(1) )\n",
    "\n",
    "## 오리지널 Sequential API\n",
    "# model.add( keras.layers.Dense(1, input_shape=(1,)) )\n",
    "\n",
    "# 4번 컴파일 \n",
    "model.compile(loss='mae', optimizer='adam')\n",
    "\n",
    "# model summary\n",
    "model.summary()"
   ]
  },
  {
   "cell_type": "code",
   "execution_count": 61,
   "metadata": {},
   "outputs": [
    {
     "name": "stdout",
     "output_type": "stream",
     "text": [
      "Epoch 1/1000\n",
      "6/6 [==============================] - 1s 60ms/step - loss: 8.0450 - val_loss: 7.7724\n",
      "Epoch 2/1000\n",
      "6/6 [==============================] - 0s 13ms/step - loss: 8.0037 - val_loss: 7.7322\n",
      "Epoch 3/1000\n",
      "6/6 [==============================] - 0s 15ms/step - loss: 7.9620 - val_loss: 7.6921\n",
      "Epoch 4/1000\n",
      "6/6 [==============================] - 0s 12ms/step - loss: 7.9203 - val_loss: 7.6519\n",
      "Epoch 5/1000\n",
      "6/6 [==============================] - 0s 12ms/step - loss: 7.8789 - val_loss: 7.6117\n",
      "Epoch 6/1000\n",
      "6/6 [==============================] - 0s 12ms/step - loss: 7.8369 - val_loss: 7.5717\n",
      "Epoch 7/1000\n",
      "6/6 [==============================] - 0s 12ms/step - loss: 7.7957 - val_loss: 7.5314\n",
      "Epoch 8/1000\n",
      "6/6 [==============================] - 0s 12ms/step - loss: 7.7539 - val_loss: 7.4913\n",
      "Epoch 9/1000\n",
      "6/6 [==============================] - 0s 12ms/step - loss: 7.7124 - val_loss: 7.4510\n",
      "Epoch 10/1000\n",
      "6/6 [==============================] - 0s 12ms/step - loss: 7.6708 - val_loss: 7.4108\n",
      "Epoch 11/1000\n",
      "6/6 [==============================] - 0s 14ms/step - loss: 7.6293 - val_loss: 7.3705\n",
      "Epoch 12/1000\n",
      "6/6 [==============================] - 0s 12ms/step - loss: 7.5875 - val_loss: 7.3304\n",
      "Epoch 13/1000\n",
      "6/6 [==============================] - 0s 11ms/step - loss: 7.5459 - val_loss: 7.2902\n",
      "Epoch 14/1000\n",
      "6/6 [==============================] - 0s 11ms/step - loss: 7.5043 - val_loss: 7.2501\n",
      "Epoch 15/1000\n",
      "6/6 [==============================] - 0s 12ms/step - loss: 7.4627 - val_loss: 7.2099\n",
      "Epoch 16/1000\n",
      "6/6 [==============================] - 0s 11ms/step - loss: 7.4212 - val_loss: 7.1697\n",
      "Epoch 17/1000\n",
      "6/6 [==============================] - 0s 11ms/step - loss: 7.3798 - val_loss: 7.1295\n",
      "Epoch 18/1000\n",
      "6/6 [==============================] - 0s 12ms/step - loss: 7.3382 - val_loss: 7.0892\n",
      "Epoch 19/1000\n",
      "6/6 [==============================] - 0s 12ms/step - loss: 7.2964 - val_loss: 7.0492\n",
      "Epoch 20/1000\n",
      "6/6 [==============================] - 0s 13ms/step - loss: 7.2547 - val_loss: 7.0090\n",
      "Epoch 21/1000\n",
      "6/6 [==============================] - 0s 13ms/step - loss: 7.2132 - val_loss: 6.9689\n",
      "Epoch 22/1000\n",
      "6/6 [==============================] - 0s 15ms/step - loss: 7.1719 - val_loss: 6.9287\n",
      "Epoch 23/1000\n",
      "6/6 [==============================] - 0s 12ms/step - loss: 7.1302 - val_loss: 6.8885\n",
      "Epoch 24/1000\n",
      "6/6 [==============================] - 0s 15ms/step - loss: 7.0885 - val_loss: 6.8483\n",
      "Epoch 25/1000\n",
      "6/6 [==============================] - 0s 15ms/step - loss: 7.0471 - val_loss: 6.8080\n",
      "Epoch 26/1000\n",
      "6/6 [==============================] - 0s 17ms/step - loss: 7.0052 - val_loss: 6.7679\n",
      "Epoch 27/1000\n",
      "6/6 [==============================] - 0s 12ms/step - loss: 6.9637 - val_loss: 6.7278\n",
      "Epoch 28/1000\n",
      "6/6 [==============================] - 0s 13ms/step - loss: 6.9223 - val_loss: 6.6877\n",
      "Epoch 29/1000\n",
      "6/6 [==============================] - 0s 15ms/step - loss: 6.8814 - val_loss: 6.6477\n",
      "Epoch 30/1000\n",
      "6/6 [==============================] - 0s 13ms/step - loss: 6.8401 - val_loss: 6.6079\n",
      "Epoch 31/1000\n",
      "6/6 [==============================] - 0s 12ms/step - loss: 6.7991 - val_loss: 6.5680\n",
      "Epoch 32/1000\n",
      "6/6 [==============================] - 0s 13ms/step - loss: 6.7588 - val_loss: 6.5288\n",
      "Epoch 33/1000\n",
      "6/6 [==============================] - 0s 12ms/step - loss: 6.7176 - val_loss: 6.4905\n",
      "Epoch 34/1000\n",
      "6/6 [==============================] - 0s 12ms/step - loss: 6.6766 - val_loss: 6.4522\n",
      "Epoch 35/1000\n",
      "6/6 [==============================] - 0s 10ms/step - loss: 6.6355 - val_loss: 6.4141\n",
      "Epoch 36/1000\n",
      "6/6 [==============================] - 0s 12ms/step - loss: 6.5943 - val_loss: 6.3759\n",
      "Epoch 37/1000\n",
      "6/6 [==============================] - 0s 15ms/step - loss: 6.5539 - val_loss: 6.3376\n",
      "Epoch 38/1000\n",
      "6/6 [==============================] - 0s 14ms/step - loss: 6.5125 - val_loss: 6.2993\n",
      "Epoch 39/1000\n",
      "6/6 [==============================] - 0s 12ms/step - loss: 6.4717 - val_loss: 6.2615\n",
      "Epoch 40/1000\n",
      "6/6 [==============================] - 0s 12ms/step - loss: 6.4326 - val_loss: 6.2236\n",
      "Epoch 41/1000\n",
      "6/6 [==============================] - 0s 11ms/step - loss: 6.3932 - val_loss: 6.1858\n",
      "Epoch 42/1000\n",
      "6/6 [==============================] - 0s 12ms/step - loss: 6.3528 - val_loss: 6.1484\n",
      "Epoch 43/1000\n",
      "6/6 [==============================] - 0s 11ms/step - loss: 6.3138 - val_loss: 6.1109\n",
      "Epoch 44/1000\n",
      "6/6 [==============================] - 0s 15ms/step - loss: 6.2742 - val_loss: 6.0734\n",
      "Epoch 45/1000\n",
      "6/6 [==============================] - 0s 15ms/step - loss: 6.2353 - val_loss: 6.0357\n",
      "Epoch 46/1000\n",
      "6/6 [==============================] - 0s 17ms/step - loss: 6.1952 - val_loss: 5.9982\n",
      "Epoch 47/1000\n",
      "6/6 [==============================] - 0s 13ms/step - loss: 6.1565 - val_loss: 5.9603\n",
      "Epoch 48/1000\n",
      "6/6 [==============================] - 0s 12ms/step - loss: 6.1167 - val_loss: 5.9227\n",
      "Epoch 49/1000\n",
      "6/6 [==============================] - 0s 12ms/step - loss: 6.0770 - val_loss: 5.8851\n",
      "Epoch 50/1000\n",
      "6/6 [==============================] - 0s 14ms/step - loss: 6.0378 - val_loss: 5.8473\n",
      "Epoch 51/1000\n",
      "6/6 [==============================] - 0s 12ms/step - loss: 5.9979 - val_loss: 5.8097\n",
      "Epoch 52/1000\n",
      "6/6 [==============================] - 0s 12ms/step - loss: 5.9587 - val_loss: 5.7719\n",
      "Epoch 53/1000\n",
      "6/6 [==============================] - 0s 16ms/step - loss: 5.9190 - val_loss: 5.7343\n",
      "Epoch 54/1000\n",
      "6/6 [==============================] - 0s 14ms/step - loss: 5.8797 - val_loss: 5.6964\n",
      "Epoch 55/1000\n",
      "6/6 [==============================] - 0s 12ms/step - loss: 5.8398 - val_loss: 5.6587\n",
      "Epoch 56/1000\n",
      "6/6 [==============================] - 0s 11ms/step - loss: 5.8004 - val_loss: 5.6209\n",
      "Epoch 57/1000\n",
      "6/6 [==============================] - 0s 13ms/step - loss: 5.7602 - val_loss: 5.5833\n",
      "Epoch 58/1000\n",
      "6/6 [==============================] - 0s 13ms/step - loss: 5.7213 - val_loss: 5.5454\n",
      "Epoch 59/1000\n",
      "6/6 [==============================] - 0s 11ms/step - loss: 5.6816 - val_loss: 5.5074\n",
      "Epoch 60/1000\n",
      "6/6 [==============================] - 0s 11ms/step - loss: 5.6414 - val_loss: 5.4698\n",
      "Epoch 61/1000\n",
      "6/6 [==============================] - 0s 11ms/step - loss: 5.6020 - val_loss: 5.4320\n",
      "Epoch 62/1000\n",
      "6/6 [==============================] - 0s 12ms/step - loss: 5.5625 - val_loss: 5.3941\n",
      "Epoch 63/1000\n",
      "6/6 [==============================] - 0s 12ms/step - loss: 5.5229 - val_loss: 5.3561\n",
      "Epoch 64/1000\n",
      "6/6 [==============================] - 0s 12ms/step - loss: 5.4827 - val_loss: 5.3185\n",
      "Epoch 65/1000\n",
      "6/6 [==============================] - 0s 13ms/step - loss: 5.4436 - val_loss: 5.2809\n",
      "Epoch 66/1000\n",
      "6/6 [==============================] - 0s 12ms/step - loss: 5.4043 - val_loss: 5.2434\n",
      "Epoch 67/1000\n",
      "6/6 [==============================] - 0s 14ms/step - loss: 5.3655 - val_loss: 5.2059\n",
      "Epoch 68/1000\n",
      "6/6 [==============================] - 0s 14ms/step - loss: 5.3273 - val_loss: 5.1684\n",
      "Epoch 69/1000\n",
      "6/6 [==============================] - 0s 12ms/step - loss: 5.2889 - val_loss: 5.1312\n",
      "Epoch 70/1000\n",
      "6/6 [==============================] - 0s 11ms/step - loss: 5.2514 - val_loss: 5.0940\n",
      "Epoch 71/1000\n",
      "6/6 [==============================] - 0s 12ms/step - loss: 5.2137 - val_loss: 5.0569\n",
      "Epoch 72/1000\n",
      "6/6 [==============================] - 0s 11ms/step - loss: 5.1762 - val_loss: 5.0198\n",
      "Epoch 73/1000\n",
      "6/6 [==============================] - 0s 12ms/step - loss: 5.1388 - val_loss: 4.9830\n",
      "Epoch 74/1000\n",
      "6/6 [==============================] - 0s 11ms/step - loss: 5.1016 - val_loss: 4.9465\n",
      "Epoch 75/1000\n",
      "6/6 [==============================] - 0s 11ms/step - loss: 5.0655 - val_loss: 4.9101\n",
      "Epoch 76/1000\n",
      "6/6 [==============================] - 0s 11ms/step - loss: 5.0291 - val_loss: 4.8741\n",
      "Epoch 77/1000\n",
      "6/6 [==============================] - 0s 12ms/step - loss: 4.9934 - val_loss: 4.8380\n",
      "Epoch 78/1000\n",
      "6/6 [==============================] - 0s 12ms/step - loss: 4.9579 - val_loss: 4.8017\n",
      "Epoch 79/1000\n",
      "6/6 [==============================] - 0s 12ms/step - loss: 4.9217 - val_loss: 4.7656\n",
      "Epoch 80/1000\n",
      "6/6 [==============================] - 0s 11ms/step - loss: 4.8868 - val_loss: 4.7294\n",
      "Epoch 81/1000\n",
      "6/6 [==============================] - 0s 13ms/step - loss: 4.8517 - val_loss: 4.6933\n",
      "Epoch 82/1000\n",
      "6/6 [==============================] - 0s 11ms/step - loss: 4.8170 - val_loss: 4.6574\n",
      "Epoch 83/1000\n"
     ]
    },
    {
     "name": "stdout",
     "output_type": "stream",
     "text": [
      "6/6 [==============================] - 0s 11ms/step - loss: 4.7819 - val_loss: 4.6219\n",
      "Epoch 84/1000\n",
      "6/6 [==============================] - 0s 12ms/step - loss: 4.7479 - val_loss: 4.5863\n",
      "Epoch 85/1000\n",
      "6/6 [==============================] - 0s 12ms/step - loss: 4.7137 - val_loss: 4.5506\n",
      "Epoch 86/1000\n",
      "6/6 [==============================] - 0s 11ms/step - loss: 4.6791 - val_loss: 4.5155\n",
      "Epoch 87/1000\n",
      "6/6 [==============================] - 0s 12ms/step - loss: 4.6457 - val_loss: 4.4808\n",
      "Epoch 88/1000\n",
      "6/6 [==============================] - 0s 12ms/step - loss: 4.6135 - val_loss: 4.4455\n",
      "Epoch 89/1000\n",
      "6/6 [==============================] - 0s 13ms/step - loss: 4.5793 - val_loss: 4.4110\n",
      "Epoch 90/1000\n",
      "6/6 [==============================] - 0s 11ms/step - loss: 4.5470 - val_loss: 4.3763\n",
      "Epoch 91/1000\n",
      "6/6 [==============================] - 0s 11ms/step - loss: 4.5151 - val_loss: 4.3414\n",
      "Epoch 92/1000\n",
      "6/6 [==============================] - 0s 13ms/step - loss: 4.4820 - val_loss: 4.3070\n",
      "Epoch 93/1000\n",
      "6/6 [==============================] - 0s 14ms/step - loss: 4.4496 - val_loss: 4.2725\n",
      "Epoch 94/1000\n",
      "6/6 [==============================] - 0s 12ms/step - loss: 4.4179 - val_loss: 4.2375\n",
      "Epoch 95/1000\n",
      "6/6 [==============================] - 0s 12ms/step - loss: 4.3850 - val_loss: 4.2029\n",
      "Epoch 96/1000\n",
      "6/6 [==============================] - 0s 11ms/step - loss: 4.3523 - val_loss: 4.1684\n",
      "Epoch 97/1000\n",
      "6/6 [==============================] - 0s 11ms/step - loss: 4.3206 - val_loss: 4.1336\n",
      "Epoch 98/1000\n",
      "6/6 [==============================] - 0s 11ms/step - loss: 4.2892 - val_loss: 4.0988\n",
      "Epoch 99/1000\n",
      "6/6 [==============================] - 0s 14ms/step - loss: 4.2571 - val_loss: 4.0651\n",
      "Epoch 100/1000\n",
      "6/6 [==============================] - 0s 12ms/step - loss: 4.2271 - val_loss: 4.0315\n",
      "Epoch 101/1000\n",
      "6/6 [==============================] - 0s 11ms/step - loss: 4.1981 - val_loss: 3.9975\n",
      "Epoch 102/1000\n",
      "6/6 [==============================] - 0s 12ms/step - loss: 4.1675 - val_loss: 3.9641\n",
      "Epoch 103/1000\n",
      "6/6 [==============================] - 0s 12ms/step - loss: 4.1376 - val_loss: 3.9308\n",
      "Epoch 104/1000\n",
      "6/6 [==============================] - 0s 11ms/step - loss: 4.1082 - val_loss: 3.8972\n",
      "Epoch 105/1000\n",
      "6/6 [==============================] - 0s 12ms/step - loss: 4.0786 - val_loss: 3.8636\n",
      "Epoch 106/1000\n",
      "6/6 [==============================] - 0s 11ms/step - loss: 4.0480 - val_loss: 3.8305\n",
      "Epoch 107/1000\n",
      "6/6 [==============================] - 0s 12ms/step - loss: 4.0190 - val_loss: 3.7967\n",
      "Epoch 108/1000\n",
      "6/6 [==============================] - 0s 11ms/step - loss: 3.9886 - val_loss: 3.7642\n",
      "Epoch 109/1000\n",
      "6/6 [==============================] - 0s 12ms/step - loss: 3.9601 - val_loss: 3.7314\n",
      "Epoch 110/1000\n",
      "6/6 [==============================] - 0s 11ms/step - loss: 3.9293 - val_loss: 3.6998\n",
      "Epoch 111/1000\n",
      "6/6 [==============================] - 0s 12ms/step - loss: 3.9010 - val_loss: 3.6680\n",
      "Epoch 112/1000\n",
      "6/6 [==============================] - 0s 15ms/step - loss: 3.8725 - val_loss: 3.6364\n",
      "Epoch 113/1000\n",
      "6/6 [==============================] - 0s 11ms/step - loss: 3.8446 - val_loss: 3.6049\n",
      "Epoch 114/1000\n",
      "6/6 [==============================] - 0s 13ms/step - loss: 3.8165 - val_loss: 3.5735\n",
      "Epoch 115/1000\n",
      "6/6 [==============================] - 0s 12ms/step - loss: 3.7889 - val_loss: 3.5427\n",
      "Epoch 116/1000\n",
      "6/6 [==============================] - 0s 12ms/step - loss: 3.7629 - val_loss: 3.5117\n",
      "Epoch 117/1000\n",
      "6/6 [==============================] - 0s 12ms/step - loss: 3.7364 - val_loss: 3.4814\n",
      "Epoch 118/1000\n",
      "6/6 [==============================] - 0s 11ms/step - loss: 3.7111 - val_loss: 3.4515\n",
      "Epoch 119/1000\n",
      "6/6 [==============================] - 0s 12ms/step - loss: 3.6867 - val_loss: 3.4215\n",
      "Epoch 120/1000\n",
      "6/6 [==============================] - 0s 13ms/step - loss: 3.6617 - val_loss: 3.3920\n",
      "Epoch 121/1000\n",
      "6/6 [==============================] - 0s 14ms/step - loss: 3.6371 - val_loss: 3.3627\n",
      "Epoch 122/1000\n",
      "6/6 [==============================] - 0s 14ms/step - loss: 3.6132 - val_loss: 3.3333\n",
      "Epoch 123/1000\n",
      "6/6 [==============================] - 0s 13ms/step - loss: 3.5895 - val_loss: 3.3040\n",
      "Epoch 124/1000\n",
      "6/6 [==============================] - 0s 12ms/step - loss: 3.5651 - val_loss: 3.2754\n",
      "Epoch 125/1000\n",
      "6/6 [==============================] - 0s 12ms/step - loss: 3.5424 - val_loss: 3.2465\n",
      "Epoch 126/1000\n",
      "6/6 [==============================] - 0s 14ms/step - loss: 3.5196 - val_loss: 3.2179\n",
      "Epoch 127/1000\n",
      "6/6 [==============================] - 0s 12ms/step - loss: 3.4968 - val_loss: 3.1902\n",
      "Epoch 128/1000\n",
      "6/6 [==============================] - 0s 11ms/step - loss: 3.4738 - val_loss: 3.1629\n",
      "Epoch 129/1000\n",
      "6/6 [==============================] - 0s 15ms/step - loss: 3.4513 - val_loss: 3.1359\n",
      "Epoch 130/1000\n",
      "6/6 [==============================] - 0s 11ms/step - loss: 3.4298 - val_loss: 3.1088\n",
      "Epoch 131/1000\n",
      "6/6 [==============================] - 0s 11ms/step - loss: 3.4076 - val_loss: 3.0834\n",
      "Epoch 132/1000\n",
      "6/6 [==============================] - 0s 13ms/step - loss: 3.3859 - val_loss: 3.0585\n",
      "Epoch 133/1000\n",
      "6/6 [==============================] - 0s 11ms/step - loss: 3.3647 - val_loss: 3.0334\n",
      "Epoch 134/1000\n",
      "6/6 [==============================] - 0s 11ms/step - loss: 3.3443 - val_loss: 3.0092\n",
      "Epoch 135/1000\n",
      "6/6 [==============================] - 0s 12ms/step - loss: 3.3230 - val_loss: 2.9862\n",
      "Epoch 136/1000\n",
      "6/6 [==============================] - 0s 11ms/step - loss: 3.3033 - val_loss: 2.9635\n",
      "Epoch 137/1000\n",
      "6/6 [==============================] - 0s 12ms/step - loss: 3.2828 - val_loss: 2.9409\n",
      "Epoch 138/1000\n",
      "6/6 [==============================] - 0s 12ms/step - loss: 3.2620 - val_loss: 2.9200\n",
      "Epoch 139/1000\n",
      "6/6 [==============================] - 0s 14ms/step - loss: 3.2427 - val_loss: 2.8991\n",
      "Epoch 140/1000\n",
      "6/6 [==============================] - 0s 13ms/step - loss: 3.2234 - val_loss: 2.8783\n",
      "Epoch 141/1000\n",
      "6/6 [==============================] - 0s 11ms/step - loss: 3.2038 - val_loss: 2.8577\n",
      "Epoch 142/1000\n",
      "6/6 [==============================] - 0s 12ms/step - loss: 3.1850 - val_loss: 2.8372\n",
      "Epoch 143/1000\n",
      "6/6 [==============================] - 0s 11ms/step - loss: 3.1662 - val_loss: 2.8169\n",
      "Epoch 144/1000\n",
      "6/6 [==============================] - 0s 11ms/step - loss: 3.1477 - val_loss: 2.7969\n",
      "Epoch 145/1000\n",
      "6/6 [==============================] - 0s 12ms/step - loss: 3.1300 - val_loss: 2.7781\n",
      "Epoch 146/1000\n",
      "6/6 [==============================] - 0s 12ms/step - loss: 3.1112 - val_loss: 2.7597\n",
      "Epoch 147/1000\n",
      "6/6 [==============================] - 0s 12ms/step - loss: 3.0947 - val_loss: 2.7409\n",
      "Epoch 148/1000\n",
      "6/6 [==============================] - 0s 12ms/step - loss: 3.0772 - val_loss: 2.7231\n",
      "Epoch 149/1000\n",
      "6/6 [==============================] - 0s 12ms/step - loss: 3.0612 - val_loss: 2.7054\n",
      "Epoch 150/1000\n",
      "6/6 [==============================] - 0s 13ms/step - loss: 3.0448 - val_loss: 2.6881\n",
      "Epoch 151/1000\n",
      "6/6 [==============================] - 0s 13ms/step - loss: 3.0291 - val_loss: 2.6711\n",
      "Epoch 152/1000\n",
      "6/6 [==============================] - 0s 12ms/step - loss: 3.0147 - val_loss: 2.6537\n",
      "Epoch 153/1000\n",
      "6/6 [==============================] - 0s 12ms/step - loss: 2.9990 - val_loss: 2.6379\n",
      "Epoch 154/1000\n",
      "6/6 [==============================] - 0s 12ms/step - loss: 2.9849 - val_loss: 2.6239\n",
      "Epoch 155/1000\n",
      "6/6 [==============================] - 0s 12ms/step - loss: 2.9714 - val_loss: 2.6103\n",
      "Epoch 156/1000\n",
      "6/6 [==============================] - 0s 12ms/step - loss: 2.9580 - val_loss: 2.5974\n",
      "Epoch 157/1000\n",
      "6/6 [==============================] - 0s 11ms/step - loss: 2.9459 - val_loss: 2.5853\n",
      "Epoch 158/1000\n",
      "6/6 [==============================] - 0s 11ms/step - loss: 2.9334 - val_loss: 2.5731\n",
      "Epoch 159/1000\n",
      "6/6 [==============================] - 0s 13ms/step - loss: 2.9207 - val_loss: 2.5610\n",
      "Epoch 160/1000\n",
      "6/6 [==============================] - 0s 11ms/step - loss: 2.9083 - val_loss: 2.5493\n",
      "Epoch 161/1000\n",
      "6/6 [==============================] - 0s 12ms/step - loss: 2.8970 - val_loss: 2.5371\n",
      "Epoch 162/1000\n",
      "6/6 [==============================] - 0s 13ms/step - loss: 2.8841 - val_loss: 2.5254\n",
      "Epoch 163/1000\n",
      "6/6 [==============================] - 0s 12ms/step - loss: 2.8719 - val_loss: 2.5138\n",
      "Epoch 164/1000\n"
     ]
    },
    {
     "name": "stdout",
     "output_type": "stream",
     "text": [
      "6/6 [==============================] - 0s 13ms/step - loss: 2.8598 - val_loss: 2.5022\n",
      "Epoch 165/1000\n",
      "6/6 [==============================] - 0s 13ms/step - loss: 2.8483 - val_loss: 2.4902\n",
      "Epoch 166/1000\n",
      "6/6 [==============================] - 0s 12ms/step - loss: 2.8362 - val_loss: 2.4783\n",
      "Epoch 167/1000\n",
      "6/6 [==============================] - 0s 12ms/step - loss: 2.8243 - val_loss: 2.4664\n",
      "Epoch 168/1000\n",
      "6/6 [==============================] - 0s 12ms/step - loss: 2.8125 - val_loss: 2.4547\n",
      "Epoch 169/1000\n",
      "6/6 [==============================] - 0s 12ms/step - loss: 2.8002 - val_loss: 2.4432\n",
      "Epoch 170/1000\n",
      "6/6 [==============================] - 0s 12ms/step - loss: 2.7899 - val_loss: 2.4308\n",
      "Epoch 171/1000\n",
      "6/6 [==============================] - 0s 12ms/step - loss: 2.7769 - val_loss: 2.4197\n",
      "Epoch 172/1000\n",
      "6/6 [==============================] - 0s 11ms/step - loss: 2.7654 - val_loss: 2.4092\n",
      "Epoch 173/1000\n",
      "6/6 [==============================] - 0s 13ms/step - loss: 2.7546 - val_loss: 2.3986\n",
      "Epoch 174/1000\n",
      "6/6 [==============================] - 0s 12ms/step - loss: 2.7440 - val_loss: 2.3882\n",
      "Epoch 175/1000\n",
      "6/6 [==============================] - 0s 12ms/step - loss: 2.7340 - val_loss: 2.3778\n",
      "Epoch 176/1000\n",
      "6/6 [==============================] - 0s 12ms/step - loss: 2.7232 - val_loss: 2.3678\n",
      "Epoch 177/1000\n",
      "6/6 [==============================] - 0s 11ms/step - loss: 2.7143 - val_loss: 2.3574\n",
      "Epoch 178/1000\n",
      "6/6 [==============================] - 0s 12ms/step - loss: 2.7039 - val_loss: 2.3475\n",
      "Epoch 179/1000\n",
      "6/6 [==============================] - 0s 11ms/step - loss: 2.6940 - val_loss: 2.3378\n",
      "Epoch 180/1000\n",
      "6/6 [==============================] - 0s 12ms/step - loss: 2.6849 - val_loss: 2.3281\n",
      "Epoch 181/1000\n",
      "6/6 [==============================] - 0s 13ms/step - loss: 2.6756 - val_loss: 2.3184\n",
      "Epoch 182/1000\n",
      "6/6 [==============================] - 0s 12ms/step - loss: 2.6665 - val_loss: 2.3085\n",
      "Epoch 183/1000\n",
      "6/6 [==============================] - 0s 14ms/step - loss: 2.6572 - val_loss: 2.2989\n",
      "Epoch 184/1000\n",
      "6/6 [==============================] - 0s 12ms/step - loss: 2.6485 - val_loss: 2.2903\n",
      "Epoch 185/1000\n",
      "6/6 [==============================] - 0s 14ms/step - loss: 2.6402 - val_loss: 2.2817\n",
      "Epoch 186/1000\n",
      "6/6 [==============================] - 0s 16ms/step - loss: 2.6317 - val_loss: 2.2737\n",
      "Epoch 187/1000\n",
      "6/6 [==============================] - 0s 12ms/step - loss: 2.6248 - val_loss: 2.2659\n",
      "Epoch 188/1000\n",
      "6/6 [==============================] - 0s 11ms/step - loss: 2.6181 - val_loss: 2.2578\n",
      "Epoch 189/1000\n",
      "6/6 [==============================] - 0s 13ms/step - loss: 2.6106 - val_loss: 2.2502\n",
      "Epoch 190/1000\n",
      "6/6 [==============================] - 0s 12ms/step - loss: 2.6038 - val_loss: 2.2426\n",
      "Epoch 191/1000\n",
      "6/6 [==============================] - 0s 11ms/step - loss: 2.5968 - val_loss: 2.2351\n",
      "Epoch 192/1000\n",
      "6/6 [==============================] - 0s 11ms/step - loss: 2.5901 - val_loss: 2.2273\n",
      "Epoch 193/1000\n",
      "6/6 [==============================] - 0s 13ms/step - loss: 2.5834 - val_loss: 2.2201\n",
      "Epoch 194/1000\n",
      "6/6 [==============================] - 0s 13ms/step - loss: 2.5762 - val_loss: 2.2131\n",
      "Epoch 195/1000\n",
      "6/6 [==============================] - 0s 12ms/step - loss: 2.5698 - val_loss: 2.2062\n",
      "Epoch 196/1000\n",
      "6/6 [==============================] - 0s 14ms/step - loss: 2.5635 - val_loss: 2.1994\n",
      "Epoch 197/1000\n",
      "6/6 [==============================] - 0s 12ms/step - loss: 2.5571 - val_loss: 2.1929\n",
      "Epoch 198/1000\n",
      "6/6 [==============================] - 0s 12ms/step - loss: 2.5511 - val_loss: 2.1869\n",
      "Epoch 199/1000\n",
      "6/6 [==============================] - 0s 12ms/step - loss: 2.5455 - val_loss: 2.1811\n",
      "Epoch 200/1000\n",
      "6/6 [==============================] - 0s 13ms/step - loss: 2.5402 - val_loss: 2.1761\n",
      "Epoch 201/1000\n",
      "6/6 [==============================] - 0s 12ms/step - loss: 2.5348 - val_loss: 2.1713\n",
      "Epoch 202/1000\n",
      "6/6 [==============================] - 0s 12ms/step - loss: 2.5294 - val_loss: 2.1667\n",
      "Epoch 203/1000\n",
      "6/6 [==============================] - 0s 13ms/step - loss: 2.5239 - val_loss: 2.1623\n",
      "Epoch 204/1000\n",
      "6/6 [==============================] - 0s 11ms/step - loss: 2.5188 - val_loss: 2.1580\n",
      "Epoch 205/1000\n",
      "6/6 [==============================] - 0s 11ms/step - loss: 2.5146 - val_loss: 2.1537\n",
      "Epoch 206/1000\n",
      "6/6 [==============================] - 0s 12ms/step - loss: 2.5087 - val_loss: 2.1499\n",
      "Epoch 207/1000\n",
      "6/6 [==============================] - 0s 12ms/step - loss: 2.5040 - val_loss: 2.1459\n",
      "Epoch 208/1000\n",
      "6/6 [==============================] - 0s 12ms/step - loss: 2.4989 - val_loss: 2.1420\n",
      "Epoch 209/1000\n",
      "6/6 [==============================] - 0s 12ms/step - loss: 2.4941 - val_loss: 2.1380\n",
      "Epoch 210/1000\n",
      "6/6 [==============================] - 0s 17ms/step - loss: 2.4893 - val_loss: 2.1342\n",
      "Epoch 211/1000\n",
      "6/6 [==============================] - 0s 13ms/step - loss: 2.4853 - val_loss: 2.1303\n",
      "Epoch 212/1000\n",
      "6/6 [==============================] - 0s 14ms/step - loss: 2.4811 - val_loss: 2.1264\n",
      "Epoch 213/1000\n",
      "6/6 [==============================] - 0s 14ms/step - loss: 2.4759 - val_loss: 2.1229\n",
      "Epoch 214/1000\n",
      "6/6 [==============================] - 0s 18ms/step - loss: 2.4719 - val_loss: 2.1192\n",
      "Epoch 215/1000\n",
      "6/6 [==============================] - 0s 14ms/step - loss: 2.4673 - val_loss: 2.1157\n",
      "Epoch 216/1000\n",
      "6/6 [==============================] - 0s 14ms/step - loss: 2.4632 - val_loss: 2.1119\n",
      "Epoch 217/1000\n",
      "6/6 [==============================] - 0s 12ms/step - loss: 2.4589 - val_loss: 2.1081\n",
      "Epoch 218/1000\n",
      "6/6 [==============================] - 0s 14ms/step - loss: 2.4548 - val_loss: 2.1043\n",
      "Epoch 219/1000\n",
      "6/6 [==============================] - 0s 12ms/step - loss: 2.4506 - val_loss: 2.1008\n",
      "Epoch 220/1000\n",
      "6/6 [==============================] - 0s 12ms/step - loss: 2.4458 - val_loss: 2.0978\n",
      "Epoch 221/1000\n",
      "6/6 [==============================] - 0s 12ms/step - loss: 2.4417 - val_loss: 2.0949\n",
      "Epoch 222/1000\n",
      "6/6 [==============================] - 0s 12ms/step - loss: 2.4380 - val_loss: 2.0922\n",
      "Epoch 223/1000\n",
      "6/6 [==============================] - 0s 12ms/step - loss: 2.4342 - val_loss: 2.0898\n",
      "Epoch 224/1000\n",
      "6/6 [==============================] - 0s 13ms/step - loss: 2.4301 - val_loss: 2.0874\n",
      "Epoch 225/1000\n",
      "6/6 [==============================] - 0s 14ms/step - loss: 2.4259 - val_loss: 2.0851\n",
      "Epoch 226/1000\n",
      "6/6 [==============================] - 0s 15ms/step - loss: 2.4221 - val_loss: 2.0827\n",
      "Epoch 227/1000\n",
      "6/6 [==============================] - 0s 14ms/step - loss: 2.4181 - val_loss: 2.0805\n",
      "Epoch 228/1000\n",
      "6/6 [==============================] - 0s 12ms/step - loss: 2.4140 - val_loss: 2.0787\n",
      "Epoch 229/1000\n",
      "6/6 [==============================] - 0s 13ms/step - loss: 2.4100 - val_loss: 2.0770\n",
      "Epoch 230/1000\n",
      "6/6 [==============================] - 0s 13ms/step - loss: 2.4066 - val_loss: 2.0751\n",
      "Epoch 231/1000\n",
      "6/6 [==============================] - 0s 12ms/step - loss: 2.4025 - val_loss: 2.0733\n",
      "Epoch 232/1000\n",
      "6/6 [==============================] - 0s 13ms/step - loss: 2.3985 - val_loss: 2.0717\n",
      "Epoch 233/1000\n",
      "6/6 [==============================] - 0s 11ms/step - loss: 2.3952 - val_loss: 2.0698\n",
      "Epoch 234/1000\n",
      "6/6 [==============================] - 0s 11ms/step - loss: 2.3910 - val_loss: 2.0680\n",
      "Epoch 235/1000\n",
      "6/6 [==============================] - 0s 11ms/step - loss: 2.3875 - val_loss: 2.0661\n",
      "Epoch 236/1000\n",
      "6/6 [==============================] - 0s 11ms/step - loss: 2.3837 - val_loss: 2.0644\n",
      "Epoch 237/1000\n",
      "6/6 [==============================] - 0s 11ms/step - loss: 2.3805 - val_loss: 2.0624\n",
      "Epoch 238/1000\n",
      "6/6 [==============================] - 0s 11ms/step - loss: 2.3770 - val_loss: 2.0605\n",
      "Epoch 239/1000\n",
      "6/6 [==============================] - 0s 11ms/step - loss: 2.3725 - val_loss: 2.0592\n",
      "Epoch 240/1000\n",
      "6/6 [==============================] - 0s 13ms/step - loss: 2.3688 - val_loss: 2.0580\n",
      "Epoch 241/1000\n",
      "6/6 [==============================] - 0s 12ms/step - loss: 2.3656 - val_loss: 2.0565\n",
      "Epoch 242/1000\n",
      "6/6 [==============================] - 0s 12ms/step - loss: 2.3616 - val_loss: 2.0552\n",
      "Epoch 243/1000\n",
      "6/6 [==============================] - 0s 11ms/step - loss: 2.3579 - val_loss: 2.0539\n",
      "Epoch 244/1000\n",
      "6/6 [==============================] - 0s 11ms/step - loss: 2.3544 - val_loss: 2.0525\n",
      "Epoch 245/1000\n"
     ]
    },
    {
     "name": "stdout",
     "output_type": "stream",
     "text": [
      "6/6 [==============================] - 0s 12ms/step - loss: 2.3507 - val_loss: 2.0511\n",
      "Epoch 246/1000\n",
      "6/6 [==============================] - 0s 11ms/step - loss: 2.3470 - val_loss: 2.0498\n",
      "Epoch 247/1000\n",
      "6/6 [==============================] - 0s 12ms/step - loss: 2.3437 - val_loss: 2.0485\n",
      "Epoch 248/1000\n",
      "6/6 [==============================] - 0s 14ms/step - loss: 2.3405 - val_loss: 2.0473\n",
      "Epoch 249/1000\n",
      "6/6 [==============================] - 0s 13ms/step - loss: 2.3373 - val_loss: 2.0462\n",
      "Epoch 250/1000\n",
      "6/6 [==============================] - 0s 12ms/step - loss: 2.3346 - val_loss: 2.0450\n",
      "Epoch 251/1000\n",
      "6/6 [==============================] - 0s 11ms/step - loss: 2.3315 - val_loss: 2.0440\n",
      "Epoch 252/1000\n",
      "6/6 [==============================] - 0s 11ms/step - loss: 2.3291 - val_loss: 2.0431\n",
      "Epoch 253/1000\n",
      "6/6 [==============================] - 0s 12ms/step - loss: 2.3260 - val_loss: 2.0424\n",
      "Epoch 254/1000\n",
      "6/6 [==============================] - 0s 12ms/step - loss: 2.3232 - val_loss: 2.0417\n",
      "Epoch 255/1000\n",
      "6/6 [==============================] - 0s 12ms/step - loss: 2.3207 - val_loss: 2.0409\n",
      "Epoch 256/1000\n",
      "6/6 [==============================] - 0s 13ms/step - loss: 2.3175 - val_loss: 2.0402\n",
      "Epoch 257/1000\n",
      "6/6 [==============================] - 0s 12ms/step - loss: 2.3148 - val_loss: 2.0394\n",
      "Epoch 258/1000\n",
      "6/6 [==============================] - 0s 13ms/step - loss: 2.3117 - val_loss: 2.0387\n",
      "Epoch 259/1000\n",
      "6/6 [==============================] - 0s 13ms/step - loss: 2.3090 - val_loss: 2.0380\n",
      "Epoch 260/1000\n",
      "6/6 [==============================] - 0s 12ms/step - loss: 2.3069 - val_loss: 2.0372\n",
      "Epoch 261/1000\n",
      "6/6 [==============================] - 0s 11ms/step - loss: 2.3038 - val_loss: 2.0365\n",
      "Epoch 262/1000\n",
      "6/6 [==============================] - 0s 11ms/step - loss: 2.3013 - val_loss: 2.0359\n",
      "Epoch 263/1000\n",
      "6/6 [==============================] - 0s 13ms/step - loss: 2.2991 - val_loss: 2.0352\n",
      "Epoch 264/1000\n",
      "6/6 [==============================] - 0s 11ms/step - loss: 2.2968 - val_loss: 2.0346\n",
      "Epoch 265/1000\n",
      "6/6 [==============================] - 0s 12ms/step - loss: 2.2946 - val_loss: 2.0339\n",
      "Epoch 266/1000\n",
      "6/6 [==============================] - 0s 12ms/step - loss: 2.2928 - val_loss: 2.0332\n",
      "Epoch 267/1000\n",
      "6/6 [==============================] - 0s 11ms/step - loss: 2.2905 - val_loss: 2.0326\n",
      "Epoch 268/1000\n",
      "6/6 [==============================] - 0s 12ms/step - loss: 2.2880 - val_loss: 2.0319\n",
      "Epoch 269/1000\n",
      "6/6 [==============================] - 0s 11ms/step - loss: 2.2862 - val_loss: 2.0313\n",
      "Epoch 270/1000\n",
      "6/6 [==============================] - 0s 12ms/step - loss: 2.2841 - val_loss: 2.0307\n",
      "Epoch 271/1000\n",
      "6/6 [==============================] - 0s 13ms/step - loss: 2.2822 - val_loss: 2.0300\n",
      "Epoch 272/1000\n",
      "6/6 [==============================] - 0s 12ms/step - loss: 2.2801 - val_loss: 2.0294\n",
      "Epoch 273/1000\n",
      "6/6 [==============================] - 0s 14ms/step - loss: 2.2782 - val_loss: 2.0288\n",
      "Epoch 274/1000\n",
      "6/6 [==============================] - 0s 14ms/step - loss: 2.2764 - val_loss: 2.0281\n",
      "Epoch 275/1000\n",
      "6/6 [==============================] - 0s 14ms/step - loss: 2.2747 - val_loss: 2.0275\n",
      "Epoch 276/1000\n",
      "6/6 [==============================] - 0s 15ms/step - loss: 2.2727 - val_loss: 2.0268\n",
      "Epoch 277/1000\n",
      "6/6 [==============================] - 0s 15ms/step - loss: 2.2713 - val_loss: 2.0262\n",
      "Epoch 278/1000\n",
      "6/6 [==============================] - 0s 12ms/step - loss: 2.2694 - val_loss: 2.0255\n",
      "Epoch 279/1000\n",
      "6/6 [==============================] - 0s 11ms/step - loss: 2.2678 - val_loss: 2.0249\n",
      "Epoch 280/1000\n",
      "6/6 [==============================] - 0s 11ms/step - loss: 2.2664 - val_loss: 2.0243\n",
      "Epoch 281/1000\n",
      "6/6 [==============================] - 0s 11ms/step - loss: 2.2649 - val_loss: 2.0236\n",
      "Epoch 282/1000\n",
      "6/6 [==============================] - 0s 11ms/step - loss: 2.2632 - val_loss: 2.0230\n",
      "Epoch 283/1000\n",
      "6/6 [==============================] - 0s 11ms/step - loss: 2.2618 - val_loss: 2.0224\n",
      "Epoch 284/1000\n",
      "6/6 [==============================] - 0s 11ms/step - loss: 2.2602 - val_loss: 2.0218\n",
      "Epoch 285/1000\n",
      "6/6 [==============================] - 0s 11ms/step - loss: 2.2588 - val_loss: 2.0211\n",
      "Epoch 286/1000\n",
      "6/6 [==============================] - 0s 12ms/step - loss: 2.2571 - val_loss: 2.0206\n",
      "Epoch 287/1000\n",
      "6/6 [==============================] - 0s 12ms/step - loss: 2.2556 - val_loss: 2.0199\n",
      "Epoch 288/1000\n",
      "6/6 [==============================] - 0s 11ms/step - loss: 2.2541 - val_loss: 2.0194\n",
      "Epoch 289/1000\n",
      "6/6 [==============================] - 0s 11ms/step - loss: 2.2526 - val_loss: 2.0188\n",
      "Epoch 290/1000\n",
      "6/6 [==============================] - 0s 12ms/step - loss: 2.2511 - val_loss: 2.0182\n",
      "Epoch 291/1000\n",
      "6/6 [==============================] - 0s 11ms/step - loss: 2.2496 - val_loss: 2.0176\n",
      "Epoch 292/1000\n",
      "6/6 [==============================] - 0s 12ms/step - loss: 2.2479 - val_loss: 2.0170\n",
      "Epoch 293/1000\n",
      "6/6 [==============================] - 0s 12ms/step - loss: 2.2465 - val_loss: 2.0163\n",
      "Epoch 294/1000\n",
      "6/6 [==============================] - 0s 11ms/step - loss: 2.2449 - val_loss: 2.0158\n",
      "Epoch 295/1000\n",
      "6/6 [==============================] - 0s 12ms/step - loss: 2.2433 - val_loss: 2.0151\n",
      "Epoch 296/1000\n",
      "6/6 [==============================] - 0s 12ms/step - loss: 2.2418 - val_loss: 2.0146\n",
      "Epoch 297/1000\n",
      "6/6 [==============================] - 0s 12ms/step - loss: 2.2402 - val_loss: 2.0140\n",
      "Epoch 298/1000\n",
      "6/6 [==============================] - 0s 12ms/step - loss: 2.2388 - val_loss: 2.0133\n",
      "Epoch 299/1000\n",
      "6/6 [==============================] - 0s 11ms/step - loss: 2.2371 - val_loss: 2.0127\n",
      "Epoch 300/1000\n",
      "6/6 [==============================] - 0s 11ms/step - loss: 2.2358 - val_loss: 2.0120\n",
      "Epoch 301/1000\n",
      "6/6 [==============================] - 0s 12ms/step - loss: 2.2342 - val_loss: 2.0115\n",
      "Epoch 302/1000\n",
      "6/6 [==============================] - 0s 11ms/step - loss: 2.2327 - val_loss: 2.0108\n",
      "Epoch 303/1000\n",
      "6/6 [==============================] - 0s 13ms/step - loss: 2.2313 - val_loss: 2.0102\n",
      "Epoch 304/1000\n",
      "6/6 [==============================] - 0s 13ms/step - loss: 2.2297 - val_loss: 2.0095\n",
      "Epoch 305/1000\n",
      "6/6 [==============================] - 0s 13ms/step - loss: 2.2281 - val_loss: 2.0088\n",
      "Epoch 306/1000\n",
      "6/6 [==============================] - 0s 15ms/step - loss: 2.2265 - val_loss: 2.0081\n",
      "Epoch 307/1000\n",
      "6/6 [==============================] - 0s 12ms/step - loss: 2.2252 - val_loss: 2.0075\n",
      "Epoch 308/1000\n",
      "6/6 [==============================] - 0s 12ms/step - loss: 2.2236 - val_loss: 2.0070\n",
      "Epoch 309/1000\n",
      "6/6 [==============================] - 0s 13ms/step - loss: 2.2221 - val_loss: 2.0063\n",
      "Epoch 310/1000\n",
      "6/6 [==============================] - 0s 14ms/step - loss: 2.2207 - val_loss: 2.0057\n",
      "Epoch 311/1000\n",
      "6/6 [==============================] - 0s 13ms/step - loss: 2.2192 - val_loss: 2.0051\n",
      "Epoch 312/1000\n",
      "6/6 [==============================] - 0s 12ms/step - loss: 2.2178 - val_loss: 2.0045\n",
      "Epoch 313/1000\n",
      "6/6 [==============================] - 0s 12ms/step - loss: 2.2164 - val_loss: 2.0040\n",
      "Epoch 314/1000\n",
      "6/6 [==============================] - 0s 13ms/step - loss: 2.2149 - val_loss: 2.0033\n",
      "Epoch 315/1000\n",
      "6/6 [==============================] - 0s 13ms/step - loss: 2.2136 - val_loss: 2.0027\n",
      "Epoch 316/1000\n",
      "6/6 [==============================] - 0s 14ms/step - loss: 2.2120 - val_loss: 2.0022\n",
      "Epoch 317/1000\n",
      "6/6 [==============================] - 0s 12ms/step - loss: 2.2105 - val_loss: 2.0016\n",
      "Epoch 318/1000\n",
      "6/6 [==============================] - 0s 12ms/step - loss: 2.2093 - val_loss: 2.0011\n",
      "Epoch 319/1000\n",
      "6/6 [==============================] - 0s 14ms/step - loss: 2.2077 - val_loss: 2.0004\n",
      "Epoch 320/1000\n",
      "6/6 [==============================] - 0s 13ms/step - loss: 2.2063 - val_loss: 1.9999\n",
      "Epoch 321/1000\n",
      "6/6 [==============================] - 0s 14ms/step - loss: 2.2048 - val_loss: 1.9993\n",
      "Epoch 322/1000\n",
      "6/6 [==============================] - 0s 17ms/step - loss: 2.2034 - val_loss: 1.9986\n",
      "Epoch 323/1000\n",
      "6/6 [==============================] - 0s 14ms/step - loss: 2.2019 - val_loss: 1.9980\n",
      "Epoch 324/1000\n",
      "6/6 [==============================] - 0s 12ms/step - loss: 2.2004 - val_loss: 1.9974\n",
      "Epoch 325/1000\n",
      "6/6 [==============================] - 0s 11ms/step - loss: 2.1991 - val_loss: 1.9967\n",
      "Epoch 326/1000\n"
     ]
    },
    {
     "name": "stdout",
     "output_type": "stream",
     "text": [
      "6/6 [==============================] - 0s 11ms/step - loss: 2.1976 - val_loss: 1.9961\n",
      "Epoch 327/1000\n",
      "6/6 [==============================] - 0s 11ms/step - loss: 2.1961 - val_loss: 1.9956\n",
      "Epoch 328/1000\n",
      "6/6 [==============================] - 0s 11ms/step - loss: 2.1948 - val_loss: 1.9951\n",
      "Epoch 329/1000\n",
      "6/6 [==============================] - 0s 11ms/step - loss: 2.1934 - val_loss: 1.9944\n",
      "Epoch 330/1000\n",
      "6/6 [==============================] - 0s 12ms/step - loss: 2.1920 - val_loss: 1.9938\n",
      "Epoch 331/1000\n",
      "6/6 [==============================] - 0s 12ms/step - loss: 2.1906 - val_loss: 1.9932\n",
      "Epoch 332/1000\n",
      "6/6 [==============================] - 0s 12ms/step - loss: 2.1892 - val_loss: 1.9926\n",
      "Epoch 333/1000\n",
      "6/6 [==============================] - 0s 12ms/step - loss: 2.1877 - val_loss: 1.9920\n",
      "Epoch 334/1000\n",
      "6/6 [==============================] - 0s 12ms/step - loss: 2.1863 - val_loss: 1.9914\n",
      "Epoch 335/1000\n",
      "6/6 [==============================] - 0s 12ms/step - loss: 2.1850 - val_loss: 1.9908\n",
      "Epoch 336/1000\n",
      "6/6 [==============================] - 0s 11ms/step - loss: 2.1835 - val_loss: 1.9902\n",
      "Epoch 337/1000\n",
      "6/6 [==============================] - 0s 11ms/step - loss: 2.1821 - val_loss: 1.9896\n",
      "Epoch 338/1000\n",
      "6/6 [==============================] - 0s 12ms/step - loss: 2.1805 - val_loss: 1.9889\n",
      "Epoch 339/1000\n",
      "6/6 [==============================] - 0s 12ms/step - loss: 2.1791 - val_loss: 1.9883\n",
      "Epoch 340/1000\n",
      "6/6 [==============================] - 0s 11ms/step - loss: 2.1777 - val_loss: 1.9877\n",
      "Epoch 341/1000\n",
      "6/6 [==============================] - 0s 12ms/step - loss: 2.1763 - val_loss: 1.9871\n",
      "Epoch 342/1000\n",
      "6/6 [==============================] - 0s 12ms/step - loss: 2.1750 - val_loss: 1.9865\n",
      "Epoch 343/1000\n",
      "6/6 [==============================] - 0s 12ms/step - loss: 2.1734 - val_loss: 1.9858\n",
      "Epoch 344/1000\n",
      "6/6 [==============================] - 0s 11ms/step - loss: 2.1720 - val_loss: 1.9853\n",
      "Epoch 345/1000\n",
      "6/6 [==============================] - 0s 11ms/step - loss: 2.1706 - val_loss: 1.9846\n",
      "Epoch 346/1000\n",
      "6/6 [==============================] - 0s 12ms/step - loss: 2.1691 - val_loss: 1.9840\n",
      "Epoch 347/1000\n",
      "6/6 [==============================] - 0s 12ms/step - loss: 2.1676 - val_loss: 1.9834\n",
      "Epoch 348/1000\n",
      "6/6 [==============================] - 0s 13ms/step - loss: 2.1662 - val_loss: 1.9827\n",
      "Epoch 349/1000\n",
      "6/6 [==============================] - 0s 12ms/step - loss: 2.1648 - val_loss: 1.9821\n",
      "Epoch 350/1000\n",
      "6/6 [==============================] - 0s 12ms/step - loss: 2.1632 - val_loss: 1.9814\n",
      "Epoch 351/1000\n",
      "6/6 [==============================] - 0s 11ms/step - loss: 2.1621 - val_loss: 1.9809\n",
      "Epoch 352/1000\n",
      "6/6 [==============================] - 0s 11ms/step - loss: 2.1604 - val_loss: 1.9803\n",
      "Epoch 353/1000\n",
      "6/6 [==============================] - 0s 12ms/step - loss: 2.1590 - val_loss: 1.9796\n",
      "Epoch 354/1000\n",
      "6/6 [==============================] - 0s 14ms/step - loss: 2.1575 - val_loss: 1.9791\n",
      "Epoch 355/1000\n",
      "6/6 [==============================] - 0s 13ms/step - loss: 2.1561 - val_loss: 1.9784\n",
      "Epoch 356/1000\n",
      "6/6 [==============================] - 0s 12ms/step - loss: 2.1545 - val_loss: 1.9778\n",
      "Epoch 357/1000\n",
      "6/6 [==============================] - 0s 11ms/step - loss: 2.1530 - val_loss: 1.9772\n",
      "Epoch 358/1000\n",
      "6/6 [==============================] - 0s 11ms/step - loss: 2.1517 - val_loss: 1.9765\n",
      "Epoch 359/1000\n",
      "6/6 [==============================] - 0s 12ms/step - loss: 2.1502 - val_loss: 1.9760\n",
      "Epoch 360/1000\n",
      "6/6 [==============================] - 0s 11ms/step - loss: 2.1486 - val_loss: 1.9754\n",
      "Epoch 361/1000\n",
      "6/6 [==============================] - 0s 12ms/step - loss: 2.1471 - val_loss: 1.9747\n",
      "Epoch 362/1000\n",
      "6/6 [==============================] - 0s 12ms/step - loss: 2.1458 - val_loss: 1.9740\n",
      "Epoch 363/1000\n",
      "6/6 [==============================] - 0s 12ms/step - loss: 2.1443 - val_loss: 1.9734\n",
      "Epoch 364/1000\n",
      "6/6 [==============================] - 0s 13ms/step - loss: 2.1428 - val_loss: 1.9728\n",
      "Epoch 365/1000\n",
      "6/6 [==============================] - 0s 12ms/step - loss: 2.1413 - val_loss: 1.9721\n",
      "Epoch 366/1000\n",
      "6/6 [==============================] - 0s 12ms/step - loss: 2.1398 - val_loss: 1.9715\n",
      "Epoch 367/1000\n",
      "6/6 [==============================] - 0s 12ms/step - loss: 2.1384 - val_loss: 1.9708\n",
      "Epoch 368/1000\n",
      "6/6 [==============================] - 0s 13ms/step - loss: 2.1370 - val_loss: 1.9702\n",
      "Epoch 369/1000\n",
      "6/6 [==============================] - 0s 15ms/step - loss: 2.1354 - val_loss: 1.9695\n",
      "Epoch 370/1000\n",
      "6/6 [==============================] - 0s 11ms/step - loss: 2.1338 - val_loss: 1.9689\n",
      "Epoch 371/1000\n",
      "6/6 [==============================] - 0s 12ms/step - loss: 2.1324 - val_loss: 1.9682\n",
      "Epoch 372/1000\n",
      "6/6 [==============================] - 0s 12ms/step - loss: 2.1308 - val_loss: 1.9676\n",
      "Epoch 373/1000\n",
      "6/6 [==============================] - 0s 11ms/step - loss: 2.1293 - val_loss: 1.9670\n",
      "Epoch 374/1000\n",
      "6/6 [==============================] - 0s 12ms/step - loss: 2.1278 - val_loss: 1.9664\n",
      "Epoch 375/1000\n",
      "6/6 [==============================] - 0s 12ms/step - loss: 2.1264 - val_loss: 1.9658\n",
      "Epoch 376/1000\n",
      "6/6 [==============================] - 0s 12ms/step - loss: 2.1249 - val_loss: 1.9652\n",
      "Epoch 377/1000\n",
      "6/6 [==============================] - 0s 12ms/step - loss: 2.1233 - val_loss: 1.9645\n",
      "Epoch 378/1000\n",
      "6/6 [==============================] - 0s 11ms/step - loss: 2.1218 - val_loss: 1.9639\n",
      "Epoch 379/1000\n",
      "6/6 [==============================] - 0s 11ms/step - loss: 2.1204 - val_loss: 1.9632\n",
      "Epoch 380/1000\n",
      "6/6 [==============================] - 0s 13ms/step - loss: 2.1188 - val_loss: 1.9624\n",
      "Epoch 381/1000\n",
      "6/6 [==============================] - 0s 12ms/step - loss: 2.1173 - val_loss: 1.9618\n",
      "Epoch 382/1000\n",
      "6/6 [==============================] - 0s 13ms/step - loss: 2.1158 - val_loss: 1.9613\n",
      "Epoch 383/1000\n",
      "6/6 [==============================] - 0s 12ms/step - loss: 2.1145 - val_loss: 1.9605\n",
      "Epoch 384/1000\n",
      "6/6 [==============================] - 0s 12ms/step - loss: 2.1128 - val_loss: 1.9598\n",
      "Epoch 385/1000\n",
      "6/6 [==============================] - 0s 15ms/step - loss: 2.1114 - val_loss: 1.9591\n",
      "Epoch 386/1000\n",
      "6/6 [==============================] - 0s 12ms/step - loss: 2.1098 - val_loss: 1.9584\n",
      "Epoch 387/1000\n",
      "6/6 [==============================] - 0s 12ms/step - loss: 2.1084 - val_loss: 1.9577\n",
      "Epoch 388/1000\n",
      "6/6 [==============================] - 0s 12ms/step - loss: 2.1069 - val_loss: 1.9571\n",
      "Epoch 389/1000\n",
      "6/6 [==============================] - 0s 12ms/step - loss: 2.1053 - val_loss: 1.9565\n",
      "Epoch 390/1000\n",
      "6/6 [==============================] - 0s 12ms/step - loss: 2.1038 - val_loss: 1.9558\n",
      "Epoch 391/1000\n",
      "6/6 [==============================] - 0s 13ms/step - loss: 2.1021 - val_loss: 1.9551\n",
      "Epoch 392/1000\n",
      "6/6 [==============================] - 0s 14ms/step - loss: 2.1008 - val_loss: 1.9543\n",
      "Epoch 393/1000\n",
      "6/6 [==============================] - 0s 14ms/step - loss: 2.0994 - val_loss: 1.9536\n",
      "Epoch 394/1000\n",
      "6/6 [==============================] - 0s 13ms/step - loss: 2.0977 - val_loss: 1.9530\n",
      "Epoch 395/1000\n",
      "6/6 [==============================] - 0s 12ms/step - loss: 2.0963 - val_loss: 1.9523\n",
      "Epoch 396/1000\n",
      "6/6 [==============================] - 0s 15ms/step - loss: 2.0946 - val_loss: 1.9516\n",
      "Epoch 397/1000\n",
      "6/6 [==============================] - 0s 15ms/step - loss: 2.0932 - val_loss: 1.9509\n",
      "Epoch 398/1000\n",
      "6/6 [==============================] - 0s 15ms/step - loss: 2.0915 - val_loss: 1.9503\n",
      "Epoch 399/1000\n",
      "6/6 [==============================] - 0s 14ms/step - loss: 2.0900 - val_loss: 1.9496\n",
      "Epoch 400/1000\n",
      "6/6 [==============================] - 0s 9ms/step - loss: 2.0885 - val_loss: 1.9489\n",
      "Epoch 401/1000\n",
      "6/6 [==============================] - 0s 12ms/step - loss: 2.0869 - val_loss: 1.9482\n",
      "Epoch 402/1000\n",
      "6/6 [==============================] - 0s 13ms/step - loss: 2.0855 - val_loss: 1.9475\n",
      "Epoch 403/1000\n",
      "6/6 [==============================] - 0s 12ms/step - loss: 2.0839 - val_loss: 1.9468\n",
      "Epoch 404/1000\n",
      "6/6 [==============================] - 0s 11ms/step - loss: 2.0823 - val_loss: 1.9463\n",
      "Epoch 405/1000\n",
      "6/6 [==============================] - 0s 12ms/step - loss: 2.0807 - val_loss: 1.9457\n",
      "Epoch 406/1000\n",
      "6/6 [==============================] - 0s 11ms/step - loss: 2.0791 - val_loss: 1.9451\n",
      "Epoch 407/1000\n"
     ]
    },
    {
     "name": "stdout",
     "output_type": "stream",
     "text": [
      "6/6 [==============================] - 0s 11ms/step - loss: 2.0776 - val_loss: 1.9445\n",
      "Epoch 408/1000\n",
      "6/6 [==============================] - 0s 11ms/step - loss: 2.0762 - val_loss: 1.9438\n",
      "Epoch 409/1000\n",
      "6/6 [==============================] - 0s 11ms/step - loss: 2.0747 - val_loss: 1.9432\n",
      "Epoch 410/1000\n",
      "6/6 [==============================] - 0s 12ms/step - loss: 2.0730 - val_loss: 1.9425\n",
      "Epoch 411/1000\n",
      "6/6 [==============================] - 0s 13ms/step - loss: 2.0715 - val_loss: 1.9418\n",
      "Epoch 412/1000\n",
      "6/6 [==============================] - 0s 12ms/step - loss: 2.0702 - val_loss: 1.9412\n",
      "Epoch 413/1000\n",
      "6/6 [==============================] - 0s 12ms/step - loss: 2.0685 - val_loss: 1.9405\n",
      "Epoch 414/1000\n",
      "6/6 [==============================] - 0s 14ms/step - loss: 2.0671 - val_loss: 1.9399\n",
      "Epoch 415/1000\n",
      "6/6 [==============================] - 0s 14ms/step - loss: 2.0656 - val_loss: 1.9393\n",
      "Epoch 416/1000\n",
      "6/6 [==============================] - 0s 12ms/step - loss: 2.0642 - val_loss: 1.9387\n",
      "Epoch 417/1000\n",
      "6/6 [==============================] - 0s 11ms/step - loss: 2.0628 - val_loss: 1.9381\n",
      "Epoch 418/1000\n",
      "6/6 [==============================] - 0s 11ms/step - loss: 2.0616 - val_loss: 1.9374\n",
      "Epoch 419/1000\n",
      "6/6 [==============================] - 0s 11ms/step - loss: 2.0603 - val_loss: 1.9367\n",
      "Epoch 420/1000\n",
      "6/6 [==============================] - 0s 12ms/step - loss: 2.0590 - val_loss: 1.9360\n",
      "Epoch 421/1000\n",
      "6/6 [==============================] - 0s 14ms/step - loss: 2.0578 - val_loss: 1.9353\n",
      "Epoch 422/1000\n",
      "6/6 [==============================] - 0s 12ms/step - loss: 2.0566 - val_loss: 1.9346\n",
      "Epoch 423/1000\n",
      "6/6 [==============================] - 0s 11ms/step - loss: 2.0553 - val_loss: 1.9340\n",
      "Epoch 424/1000\n",
      "6/6 [==============================] - 0s 11ms/step - loss: 2.0542 - val_loss: 1.9332\n",
      "Epoch 425/1000\n",
      "6/6 [==============================] - 0s 11ms/step - loss: 2.0530 - val_loss: 1.9324\n",
      "Epoch 426/1000\n",
      "6/6 [==============================] - 0s 12ms/step - loss: 2.0515 - val_loss: 1.9318\n",
      "Epoch 427/1000\n",
      "6/6 [==============================] - 0s 12ms/step - loss: 2.0504 - val_loss: 1.9311\n",
      "Epoch 428/1000\n",
      "6/6 [==============================] - 0s 17ms/step - loss: 2.0490 - val_loss: 1.9304\n",
      "Epoch 429/1000\n",
      "6/6 [==============================] - 0s 15ms/step - loss: 2.0479 - val_loss: 1.9297\n",
      "Epoch 430/1000\n",
      "6/6 [==============================] - 0s 11ms/step - loss: 2.0465 - val_loss: 1.9290\n",
      "Epoch 431/1000\n",
      "6/6 [==============================] - 0s 11ms/step - loss: 2.0454 - val_loss: 1.9284\n",
      "Epoch 432/1000\n",
      "6/6 [==============================] - 0s 11ms/step - loss: 2.0440 - val_loss: 1.9277\n",
      "Epoch 433/1000\n",
      "6/6 [==============================] - 0s 11ms/step - loss: 2.0429 - val_loss: 1.9269\n",
      "Epoch 434/1000\n",
      "6/6 [==============================] - 0s 11ms/step - loss: 2.0415 - val_loss: 1.9261\n",
      "Epoch 435/1000\n",
      "6/6 [==============================] - 0s 12ms/step - loss: 2.0403 - val_loss: 1.9255\n",
      "Epoch 436/1000\n",
      "6/6 [==============================] - 0s 12ms/step - loss: 2.0390 - val_loss: 1.9248\n",
      "Epoch 437/1000\n",
      "6/6 [==============================] - 0s 13ms/step - loss: 2.0378 - val_loss: 1.9241\n",
      "Epoch 438/1000\n",
      "6/6 [==============================] - 0s 12ms/step - loss: 2.0365 - val_loss: 1.9234\n",
      "Epoch 439/1000\n",
      "6/6 [==============================] - 0s 12ms/step - loss: 2.0352 - val_loss: 1.9227\n",
      "Epoch 440/1000\n",
      "6/6 [==============================] - 0s 12ms/step - loss: 2.0340 - val_loss: 1.9220\n",
      "Epoch 441/1000\n",
      "6/6 [==============================] - 0s 12ms/step - loss: 2.0325 - val_loss: 1.9213\n",
      "Epoch 442/1000\n",
      "6/6 [==============================] - 0s 12ms/step - loss: 2.0316 - val_loss: 1.9205\n",
      "Epoch 443/1000\n",
      "6/6 [==============================] - 0s 14ms/step - loss: 2.0302 - val_loss: 1.9198\n",
      "Epoch 444/1000\n",
      "6/6 [==============================] - 0s 12ms/step - loss: 2.0288 - val_loss: 1.9191\n",
      "Epoch 445/1000\n",
      "6/6 [==============================] - 0s 14ms/step - loss: 2.0275 - val_loss: 1.9184\n",
      "Epoch 446/1000\n",
      "6/6 [==============================] - 0s 12ms/step - loss: 2.0263 - val_loss: 1.9176\n",
      "Epoch 447/1000\n",
      "6/6 [==============================] - 0s 12ms/step - loss: 2.0249 - val_loss: 1.9169\n",
      "Epoch 448/1000\n",
      "6/6 [==============================] - 0s 13ms/step - loss: 2.0237 - val_loss: 1.9162\n",
      "Epoch 449/1000\n",
      "6/6 [==============================] - 0s 14ms/step - loss: 2.0225 - val_loss: 1.9155\n",
      "Epoch 450/1000\n",
      "6/6 [==============================] - 0s 14ms/step - loss: 2.0212 - val_loss: 1.9146\n",
      "Epoch 451/1000\n",
      "6/6 [==============================] - 0s 13ms/step - loss: 2.0198 - val_loss: 1.9140\n",
      "Epoch 452/1000\n",
      "6/6 [==============================] - 0s 15ms/step - loss: 2.0184 - val_loss: 1.9133\n",
      "Epoch 453/1000\n",
      "6/6 [==============================] - 0s 13ms/step - loss: 2.0172 - val_loss: 1.9127\n",
      "Epoch 454/1000\n",
      "6/6 [==============================] - 0s 13ms/step - loss: 2.0159 - val_loss: 1.9121\n",
      "Epoch 455/1000\n",
      "6/6 [==============================] - 0s 12ms/step - loss: 2.0146 - val_loss: 1.9112\n",
      "Epoch 456/1000\n",
      "6/6 [==============================] - 0s 12ms/step - loss: 2.0133 - val_loss: 1.9106\n",
      "Epoch 457/1000\n",
      "6/6 [==============================] - 0s 12ms/step - loss: 2.0120 - val_loss: 1.9098\n",
      "Epoch 458/1000\n",
      "6/6 [==============================] - 0s 14ms/step - loss: 2.0107 - val_loss: 1.9092\n",
      "Epoch 459/1000\n",
      "6/6 [==============================] - 0s 16ms/step - loss: 2.0094 - val_loss: 1.9087\n",
      "Epoch 460/1000\n",
      "6/6 [==============================] - 0s 14ms/step - loss: 2.0080 - val_loss: 1.9079\n",
      "Epoch 461/1000\n",
      "6/6 [==============================] - 0s 12ms/step - loss: 2.0067 - val_loss: 1.9072\n",
      "Epoch 462/1000\n",
      "6/6 [==============================] - 0s 11ms/step - loss: 2.0055 - val_loss: 1.9065\n",
      "Epoch 463/1000\n",
      "6/6 [==============================] - 0s 12ms/step - loss: 2.0041 - val_loss: 1.9058\n",
      "Epoch 464/1000\n",
      "6/6 [==============================] - 0s 12ms/step - loss: 2.0028 - val_loss: 1.9052\n",
      "Epoch 465/1000\n",
      "6/6 [==============================] - 0s 11ms/step - loss: 2.0015 - val_loss: 1.9044\n",
      "Epoch 466/1000\n",
      "6/6 [==============================] - 0s 11ms/step - loss: 2.0003 - val_loss: 1.9039\n",
      "Epoch 467/1000\n",
      "6/6 [==============================] - 0s 12ms/step - loss: 1.9992 - val_loss: 1.9032\n",
      "Epoch 468/1000\n",
      "6/6 [==============================] - 0s 11ms/step - loss: 1.9979 - val_loss: 1.9027\n",
      "Epoch 469/1000\n",
      "6/6 [==============================] - 0s 12ms/step - loss: 1.9966 - val_loss: 1.9023\n",
      "Epoch 470/1000\n",
      "6/6 [==============================] - 0s 11ms/step - loss: 1.9955 - val_loss: 1.9019\n",
      "Epoch 471/1000\n",
      "6/6 [==============================] - 0s 11ms/step - loss: 1.9943 - val_loss: 1.9015\n",
      "Epoch 472/1000\n",
      "6/6 [==============================] - 0s 12ms/step - loss: 1.9933 - val_loss: 1.9010\n",
      "Epoch 473/1000\n",
      "6/6 [==============================] - 0s 11ms/step - loss: 1.9921 - val_loss: 1.9005\n",
      "Epoch 474/1000\n",
      "6/6 [==============================] - 0s 13ms/step - loss: 1.9911 - val_loss: 1.9002\n",
      "Epoch 475/1000\n",
      "6/6 [==============================] - 0s 12ms/step - loss: 1.9898 - val_loss: 1.8996\n",
      "Epoch 476/1000\n",
      "6/6 [==============================] - 0s 12ms/step - loss: 1.9888 - val_loss: 1.8993\n",
      "Epoch 477/1000\n",
      "6/6 [==============================] - 0s 11ms/step - loss: 1.9875 - val_loss: 1.8989\n",
      "Epoch 478/1000\n",
      "6/6 [==============================] - 0s 12ms/step - loss: 1.9864 - val_loss: 1.8985\n",
      "Epoch 479/1000\n",
      "6/6 [==============================] - 0s 12ms/step - loss: 1.9854 - val_loss: 1.8981\n",
      "Epoch 480/1000\n",
      "6/6 [==============================] - 0s 11ms/step - loss: 1.9843 - val_loss: 1.8977\n",
      "Epoch 481/1000\n",
      "6/6 [==============================] - 0s 12ms/step - loss: 1.9831 - val_loss: 1.8972\n",
      "Epoch 482/1000\n",
      "6/6 [==============================] - 0s 12ms/step - loss: 1.9820 - val_loss: 1.8968\n",
      "Epoch 483/1000\n",
      "6/6 [==============================] - 0s 11ms/step - loss: 1.9812 - val_loss: 1.8966\n",
      "Epoch 484/1000\n",
      "6/6 [==============================] - 0s 11ms/step - loss: 1.9799 - val_loss: 1.8964\n",
      "Epoch 485/1000\n",
      "6/6 [==============================] - 0s 11ms/step - loss: 1.9788 - val_loss: 1.8956\n",
      "Epoch 486/1000\n",
      "6/6 [==============================] - 0s 11ms/step - loss: 1.9777 - val_loss: 1.8952\n",
      "Epoch 487/1000\n",
      "6/6 [==============================] - 0s 12ms/step - loss: 1.9766 - val_loss: 1.8949\n",
      "Epoch 488/1000\n"
     ]
    },
    {
     "name": "stdout",
     "output_type": "stream",
     "text": [
      "6/6 [==============================] - 0s 14ms/step - loss: 1.9753 - val_loss: 1.8945\n",
      "Epoch 489/1000\n",
      "6/6 [==============================] - 0s 14ms/step - loss: 1.9744 - val_loss: 1.8939\n",
      "Epoch 490/1000\n",
      "6/6 [==============================] - 0s 14ms/step - loss: 1.9732 - val_loss: 1.8934\n",
      "Epoch 491/1000\n",
      "6/6 [==============================] - 0s 11ms/step - loss: 1.9720 - val_loss: 1.8930\n",
      "Epoch 492/1000\n",
      "6/6 [==============================] - 0s 11ms/step - loss: 1.9710 - val_loss: 1.8926\n",
      "Epoch 493/1000\n",
      "6/6 [==============================] - 0s 11ms/step - loss: 1.9700 - val_loss: 1.8924\n",
      "Epoch 494/1000\n",
      "6/6 [==============================] - 0s 12ms/step - loss: 1.9688 - val_loss: 1.8918\n",
      "Epoch 495/1000\n",
      "6/6 [==============================] - 0s 13ms/step - loss: 1.9677 - val_loss: 1.8914\n",
      "Epoch 496/1000\n",
      "6/6 [==============================] - 0s 12ms/step - loss: 1.9665 - val_loss: 1.8910\n",
      "Epoch 497/1000\n",
      "6/6 [==============================] - 0s 12ms/step - loss: 1.9655 - val_loss: 1.8904\n",
      "Epoch 498/1000\n",
      "6/6 [==============================] - 0s 13ms/step - loss: 1.9643 - val_loss: 1.8901\n",
      "Epoch 499/1000\n",
      "6/6 [==============================] - 0s 12ms/step - loss: 1.9632 - val_loss: 1.8897\n",
      "Epoch 500/1000\n",
      "6/6 [==============================] - 0s 11ms/step - loss: 1.9621 - val_loss: 1.8893\n",
      "Epoch 501/1000\n",
      "6/6 [==============================] - 0s 11ms/step - loss: 1.9610 - val_loss: 1.8888\n",
      "Epoch 502/1000\n",
      "6/6 [==============================] - 0s 12ms/step - loss: 1.9599 - val_loss: 1.8884\n",
      "Epoch 503/1000\n",
      "6/6 [==============================] - 0s 11ms/step - loss: 1.9588 - val_loss: 1.8880\n",
      "Epoch 504/1000\n",
      "6/6 [==============================] - 0s 12ms/step - loss: 1.9577 - val_loss: 1.8875\n",
      "Epoch 505/1000\n",
      "6/6 [==============================] - 0s 13ms/step - loss: 1.9568 - val_loss: 1.8872\n",
      "Epoch 506/1000\n",
      "6/6 [==============================] - 0s 16ms/step - loss: 1.9558 - val_loss: 1.8867\n",
      "Epoch 507/1000\n",
      "6/6 [==============================] - 0s 17ms/step - loss: 1.9546 - val_loss: 1.8862\n",
      "Epoch 508/1000\n",
      "6/6 [==============================] - 0s 11ms/step - loss: 1.9536 - val_loss: 1.8858\n",
      "Epoch 509/1000\n",
      "6/6 [==============================] - 0s 12ms/step - loss: 1.9525 - val_loss: 1.8852\n",
      "Epoch 510/1000\n",
      "6/6 [==============================] - 0s 12ms/step - loss: 1.9516 - val_loss: 1.8847\n",
      "Epoch 511/1000\n",
      "6/6 [==============================] - 0s 11ms/step - loss: 1.9507 - val_loss: 1.8842\n",
      "Epoch 512/1000\n",
      "6/6 [==============================] - 0s 11ms/step - loss: 1.9496 - val_loss: 1.8840\n",
      "Epoch 513/1000\n",
      "6/6 [==============================] - 0s 11ms/step - loss: 1.9487 - val_loss: 1.8836\n",
      "Epoch 514/1000\n",
      "6/6 [==============================] - 0s 12ms/step - loss: 1.9476 - val_loss: 1.8832\n",
      "Epoch 515/1000\n",
      "6/6 [==============================] - 0s 11ms/step - loss: 1.9467 - val_loss: 1.8830\n",
      "Epoch 516/1000\n",
      "6/6 [==============================] - 0s 11ms/step - loss: 1.9457 - val_loss: 1.8826\n",
      "Epoch 517/1000\n",
      "6/6 [==============================] - 0s 12ms/step - loss: 1.9446 - val_loss: 1.8824\n",
      "Epoch 518/1000\n",
      "6/6 [==============================] - 0s 12ms/step - loss: 1.9436 - val_loss: 1.8820\n",
      "Epoch 519/1000\n",
      "6/6 [==============================] - 0s 12ms/step - loss: 1.9427 - val_loss: 1.8815\n",
      "Epoch 520/1000\n",
      "6/6 [==============================] - 0s 12ms/step - loss: 1.9418 - val_loss: 1.8812\n",
      "Epoch 521/1000\n",
      "6/6 [==============================] - 0s 12ms/step - loss: 1.9408 - val_loss: 1.8812\n",
      "Epoch 522/1000\n",
      "6/6 [==============================] - 0s 11ms/step - loss: 1.9399 - val_loss: 1.8807\n",
      "Epoch 523/1000\n",
      "6/6 [==============================] - 0s 12ms/step - loss: 1.9388 - val_loss: 1.8803\n",
      "Epoch 524/1000\n",
      "6/6 [==============================] - 0s 11ms/step - loss: 1.9378 - val_loss: 1.8799\n",
      "Epoch 525/1000\n",
      "6/6 [==============================] - 0s 12ms/step - loss: 1.9368 - val_loss: 1.8796\n",
      "Epoch 526/1000\n",
      "6/6 [==============================] - 0s 11ms/step - loss: 1.9359 - val_loss: 1.8791\n",
      "Epoch 527/1000\n",
      "6/6 [==============================] - 0s 11ms/step - loss: 1.9349 - val_loss: 1.8789\n",
      "Epoch 528/1000\n",
      "6/6 [==============================] - 0s 11ms/step - loss: 1.9341 - val_loss: 1.8782\n",
      "Epoch 529/1000\n",
      "6/6 [==============================] - 0s 12ms/step - loss: 1.9331 - val_loss: 1.8780\n",
      "Epoch 530/1000\n",
      "6/6 [==============================] - 0s 12ms/step - loss: 1.9322 - val_loss: 1.8777\n",
      "Epoch 531/1000\n",
      "6/6 [==============================] - 0s 13ms/step - loss: 1.9312 - val_loss: 1.8774\n",
      "Epoch 532/1000\n",
      "6/6 [==============================] - 0s 14ms/step - loss: 1.9304 - val_loss: 1.8768\n",
      "Epoch 533/1000\n",
      "6/6 [==============================] - 0s 12ms/step - loss: 1.9293 - val_loss: 1.8765\n",
      "Epoch 534/1000\n",
      "6/6 [==============================] - 0s 11ms/step - loss: 1.9285 - val_loss: 1.8762\n",
      "Epoch 535/1000\n",
      "6/6 [==============================] - 0s 11ms/step - loss: 1.9275 - val_loss: 1.8757\n",
      "Epoch 536/1000\n",
      "6/6 [==============================] - 0s 12ms/step - loss: 1.9266 - val_loss: 1.8753\n",
      "Epoch 537/1000\n",
      "6/6 [==============================] - 0s 13ms/step - loss: 1.9256 - val_loss: 1.8749\n",
      "Epoch 538/1000\n",
      "6/6 [==============================] - 0s 11ms/step - loss: 1.9246 - val_loss: 1.8746\n",
      "Epoch 539/1000\n",
      "6/6 [==============================] - 0s 11ms/step - loss: 1.9238 - val_loss: 1.8741\n",
      "Epoch 540/1000\n",
      "6/6 [==============================] - 0s 11ms/step - loss: 1.9228 - val_loss: 1.8737\n",
      "Epoch 541/1000\n",
      "6/6 [==============================] - 0s 11ms/step - loss: 1.9220 - val_loss: 1.8733\n",
      "Epoch 542/1000\n",
      "6/6 [==============================] - 0s 11ms/step - loss: 1.9211 - val_loss: 1.8732\n",
      "Epoch 543/1000\n",
      "6/6 [==============================] - 0s 11ms/step - loss: 1.9199 - val_loss: 1.8727\n",
      "Epoch 544/1000\n",
      "6/6 [==============================] - 0s 12ms/step - loss: 1.9190 - val_loss: 1.8723\n",
      "Epoch 545/1000\n",
      "6/6 [==============================] - 0s 13ms/step - loss: 1.9181 - val_loss: 1.8720\n",
      "Epoch 546/1000\n",
      "6/6 [==============================] - 0s 12ms/step - loss: 1.9171 - val_loss: 1.8716\n",
      "Epoch 547/1000\n",
      "6/6 [==============================] - 0s 13ms/step - loss: 1.9162 - val_loss: 1.8711\n",
      "Epoch 548/1000\n",
      "6/6 [==============================] - 0s 12ms/step - loss: 1.9155 - val_loss: 1.8705\n",
      "Epoch 549/1000\n",
      "6/6 [==============================] - 0s 12ms/step - loss: 1.9146 - val_loss: 1.8701\n",
      "Epoch 550/1000\n",
      "6/6 [==============================] - 0s 12ms/step - loss: 1.9136 - val_loss: 1.8697\n",
      "Epoch 551/1000\n",
      "6/6 [==============================] - 0s 12ms/step - loss: 1.9129 - val_loss: 1.8691\n",
      "Epoch 552/1000\n",
      "6/6 [==============================] - 0s 11ms/step - loss: 1.9120 - val_loss: 1.8689\n",
      "Epoch 553/1000\n",
      "6/6 [==============================] - 0s 14ms/step - loss: 1.9111 - val_loss: 1.8683\n",
      "Epoch 554/1000\n",
      "6/6 [==============================] - 0s 13ms/step - loss: 1.9103 - val_loss: 1.8676\n",
      "Epoch 555/1000\n",
      "6/6 [==============================] - 0s 10ms/step - loss: 1.9095 - val_loss: 1.8674\n",
      "Epoch 556/1000\n",
      "6/6 [==============================] - 0s 11ms/step - loss: 1.9086 - val_loss: 1.8668\n",
      "Epoch 557/1000\n",
      "6/6 [==============================] - 0s 13ms/step - loss: 1.9078 - val_loss: 1.8664\n",
      "Epoch 558/1000\n",
      "6/6 [==============================] - 0s 13ms/step - loss: 1.9069 - val_loss: 1.8659\n",
      "Epoch 559/1000\n",
      "6/6 [==============================] - 0s 14ms/step - loss: 1.9062 - val_loss: 1.8654\n",
      "Epoch 560/1000\n",
      "6/6 [==============================] - 0s 13ms/step - loss: 1.9052 - val_loss: 1.8651\n",
      "Epoch 561/1000\n",
      "6/6 [==============================] - 0s 13ms/step - loss: 1.9044 - val_loss: 1.8647\n",
      "Epoch 562/1000\n",
      "6/6 [==============================] - 0s 12ms/step - loss: 1.9036 - val_loss: 1.8644\n",
      "Epoch 563/1000\n",
      "6/6 [==============================] - 0s 11ms/step - loss: 1.9030 - val_loss: 1.8635\n",
      "Epoch 564/1000\n",
      "6/6 [==============================] - 0s 11ms/step - loss: 1.9020 - val_loss: 1.8631\n",
      "Epoch 565/1000\n",
      "6/6 [==============================] - 0s 11ms/step - loss: 1.9011 - val_loss: 1.8625\n",
      "Epoch 566/1000\n",
      "6/6 [==============================] - 0s 12ms/step - loss: 1.9004 - val_loss: 1.8617\n",
      "Epoch 567/1000\n",
      "6/6 [==============================] - 0s 13ms/step - loss: 1.8995 - val_loss: 1.8613\n",
      "Epoch 568/1000\n",
      "6/6 [==============================] - 0s 12ms/step - loss: 1.8987 - val_loss: 1.8607\n",
      "Epoch 569/1000\n"
     ]
    },
    {
     "name": "stdout",
     "output_type": "stream",
     "text": [
      "6/6 [==============================] - 0s 13ms/step - loss: 1.8979 - val_loss: 1.8602\n",
      "Epoch 570/1000\n",
      "6/6 [==============================] - 0s 12ms/step - loss: 1.8971 - val_loss: 1.8596\n",
      "Epoch 571/1000\n",
      "6/6 [==============================] - 0s 11ms/step - loss: 1.8967 - val_loss: 1.8587\n",
      "Epoch 572/1000\n",
      "6/6 [==============================] - 0s 12ms/step - loss: 1.8955 - val_loss: 1.8582\n",
      "Epoch 573/1000\n",
      "6/6 [==============================] - 0s 11ms/step - loss: 1.8947 - val_loss: 1.8577\n",
      "Epoch 574/1000\n",
      "6/6 [==============================] - 0s 11ms/step - loss: 1.8939 - val_loss: 1.8574\n",
      "Epoch 575/1000\n",
      "6/6 [==============================] - 0s 12ms/step - loss: 1.8933 - val_loss: 1.8566\n",
      "Epoch 576/1000\n",
      "6/6 [==============================] - 0s 12ms/step - loss: 1.8923 - val_loss: 1.8558\n",
      "Epoch 577/1000\n",
      "6/6 [==============================] - 0s 11ms/step - loss: 1.8914 - val_loss: 1.8556\n",
      "Epoch 578/1000\n",
      "6/6 [==============================] - 0s 11ms/step - loss: 1.8906 - val_loss: 1.8551\n",
      "Epoch 579/1000\n",
      "6/6 [==============================] - 0s 12ms/step - loss: 1.8898 - val_loss: 1.8545\n",
      "Epoch 580/1000\n",
      "6/6 [==============================] - 0s 11ms/step - loss: 1.8890 - val_loss: 1.8537\n",
      "Epoch 581/1000\n",
      "6/6 [==============================] - 0s 14ms/step - loss: 1.8882 - val_loss: 1.8532\n",
      "Epoch 582/1000\n",
      "6/6 [==============================] - 0s 14ms/step - loss: 1.8874 - val_loss: 1.8525\n",
      "Epoch 583/1000\n",
      "6/6 [==============================] - 0s 13ms/step - loss: 1.8866 - val_loss: 1.8522\n",
      "Epoch 584/1000\n",
      "6/6 [==============================] - 0s 13ms/step - loss: 1.8857 - val_loss: 1.8516\n",
      "Epoch 585/1000\n",
      "6/6 [==============================] - 0s 12ms/step - loss: 1.8849 - val_loss: 1.8512\n",
      "Epoch 586/1000\n",
      "6/6 [==============================] - 0s 12ms/step - loss: 1.8841 - val_loss: 1.8506\n",
      "Epoch 587/1000\n",
      "6/6 [==============================] - 0s 12ms/step - loss: 1.8833 - val_loss: 1.8501\n",
      "Epoch 588/1000\n",
      "6/6 [==============================] - 0s 11ms/step - loss: 1.8824 - val_loss: 1.8496\n",
      "Epoch 589/1000\n",
      "6/6 [==============================] - 0s 11ms/step - loss: 1.8816 - val_loss: 1.8492\n",
      "Epoch 590/1000\n",
      "6/6 [==============================] - 0s 12ms/step - loss: 1.8807 - val_loss: 1.8485\n",
      "Epoch 591/1000\n",
      "6/6 [==============================] - 0s 11ms/step - loss: 1.8799 - val_loss: 1.8477\n",
      "Epoch 592/1000\n",
      "6/6 [==============================] - 0s 12ms/step - loss: 1.8791 - val_loss: 1.8470\n",
      "Epoch 593/1000\n",
      "6/6 [==============================] - 0s 12ms/step - loss: 1.8784 - val_loss: 1.8467\n",
      "Epoch 594/1000\n",
      "6/6 [==============================] - 0s 12ms/step - loss: 1.8777 - val_loss: 1.8465\n",
      "Epoch 595/1000\n",
      "6/6 [==============================] - 0s 13ms/step - loss: 1.8766 - val_loss: 1.8459\n",
      "Epoch 596/1000\n",
      "6/6 [==============================] - 0s 12ms/step - loss: 1.8757 - val_loss: 1.8450\n",
      "Epoch 597/1000\n",
      "6/6 [==============================] - 0s 12ms/step - loss: 1.8749 - val_loss: 1.8444\n",
      "Epoch 598/1000\n",
      "6/6 [==============================] - 0s 14ms/step - loss: 1.8741 - val_loss: 1.8440\n",
      "Epoch 599/1000\n",
      "6/6 [==============================] - 0s 12ms/step - loss: 1.8735 - val_loss: 1.8430\n",
      "Epoch 600/1000\n",
      "6/6 [==============================] - 0s 14ms/step - loss: 1.8724 - val_loss: 1.8425\n",
      "Epoch 601/1000\n",
      "6/6 [==============================] - 0s 13ms/step - loss: 1.8717 - val_loss: 1.8424\n",
      "Epoch 602/1000\n",
      "6/6 [==============================] - 0s 11ms/step - loss: 1.8708 - val_loss: 1.8419\n",
      "Epoch 603/1000\n",
      "6/6 [==============================] - 0s 12ms/step - loss: 1.8699 - val_loss: 1.8411\n",
      "Epoch 604/1000\n",
      "6/6 [==============================] - 0s 11ms/step - loss: 1.8691 - val_loss: 1.8406\n",
      "Epoch 605/1000\n",
      "6/6 [==============================] - 0s 11ms/step - loss: 1.8682 - val_loss: 1.8399\n",
      "Epoch 606/1000\n",
      "6/6 [==============================] - 0s 11ms/step - loss: 1.8674 - val_loss: 1.8393\n",
      "Epoch 607/1000\n",
      "6/6 [==============================] - 0s 12ms/step - loss: 1.8666 - val_loss: 1.8389\n",
      "Epoch 608/1000\n",
      "6/6 [==============================] - 0s 11ms/step - loss: 1.8657 - val_loss: 1.8383\n",
      "Epoch 609/1000\n",
      "6/6 [==============================] - 0s 11ms/step - loss: 1.8650 - val_loss: 1.8381\n",
      "Epoch 610/1000\n",
      "6/6 [==============================] - 0s 12ms/step - loss: 1.8640 - val_loss: 1.8374\n",
      "Epoch 611/1000\n",
      "6/6 [==============================] - 0s 14ms/step - loss: 1.8633 - val_loss: 1.8371\n",
      "Epoch 612/1000\n",
      "6/6 [==============================] - 0s 12ms/step - loss: 1.8626 - val_loss: 1.8362\n",
      "Epoch 613/1000\n",
      "6/6 [==============================] - 0s 12ms/step - loss: 1.8617 - val_loss: 1.8356\n",
      "Epoch 614/1000\n",
      "6/6 [==============================] - 0s 13ms/step - loss: 1.8608 - val_loss: 1.8356\n",
      "Epoch 615/1000\n",
      "6/6 [==============================] - 0s 12ms/step - loss: 1.8597 - val_loss: 1.8351\n",
      "Epoch 616/1000\n",
      "6/6 [==============================] - 0s 13ms/step - loss: 1.8589 - val_loss: 1.8345\n",
      "Epoch 617/1000\n",
      "6/6 [==============================] - 0s 12ms/step - loss: 1.8581 - val_loss: 1.8339\n",
      "Epoch 618/1000\n",
      "6/6 [==============================] - 0s 12ms/step - loss: 1.8572 - val_loss: 1.8333\n",
      "Epoch 619/1000\n",
      "6/6 [==============================] - 0s 12ms/step - loss: 1.8563 - val_loss: 1.8328\n",
      "Epoch 620/1000\n",
      "6/6 [==============================] - 0s 11ms/step - loss: 1.8555 - val_loss: 1.8324\n",
      "Epoch 621/1000\n",
      "6/6 [==============================] - 0s 12ms/step - loss: 1.8546 - val_loss: 1.8319\n",
      "Epoch 622/1000\n",
      "6/6 [==============================] - 0s 12ms/step - loss: 1.8538 - val_loss: 1.8312\n",
      "Epoch 623/1000\n",
      "6/6 [==============================] - 0s 11ms/step - loss: 1.8530 - val_loss: 1.8309\n",
      "Epoch 624/1000\n",
      "6/6 [==============================] - 0s 11ms/step - loss: 1.8521 - val_loss: 1.8301\n",
      "Epoch 625/1000\n",
      "6/6 [==============================] - 0s 13ms/step - loss: 1.8512 - val_loss: 1.8295\n",
      "Epoch 626/1000\n",
      "6/6 [==============================] - 0s 11ms/step - loss: 1.8504 - val_loss: 1.8290\n",
      "Epoch 627/1000\n",
      "6/6 [==============================] - 0s 12ms/step - loss: 1.8494 - val_loss: 1.8284\n",
      "Epoch 628/1000\n",
      "6/6 [==============================] - 0s 14ms/step - loss: 1.8486 - val_loss: 1.8279\n",
      "Epoch 629/1000\n",
      "6/6 [==============================] - 0s 13ms/step - loss: 1.8477 - val_loss: 1.8274\n",
      "Epoch 630/1000\n",
      "6/6 [==============================] - 0s 13ms/step - loss: 1.8471 - val_loss: 1.8274\n",
      "Epoch 631/1000\n",
      "6/6 [==============================] - 0s 11ms/step - loss: 1.8460 - val_loss: 1.8268\n",
      "Epoch 632/1000\n",
      "6/6 [==============================] - 0s 11ms/step - loss: 1.8453 - val_loss: 1.8260\n",
      "Epoch 633/1000\n",
      "6/6 [==============================] - 0s 11ms/step - loss: 1.8443 - val_loss: 1.8255\n",
      "Epoch 634/1000\n",
      "6/6 [==============================] - 0s 11ms/step - loss: 1.8434 - val_loss: 1.8250\n",
      "Epoch 635/1000\n",
      "6/6 [==============================] - 0s 11ms/step - loss: 1.8426 - val_loss: 1.8243\n",
      "Epoch 636/1000\n",
      "6/6 [==============================] - 0s 11ms/step - loss: 1.8416 - val_loss: 1.8238\n",
      "Epoch 637/1000\n",
      "6/6 [==============================] - 0s 12ms/step - loss: 1.8408 - val_loss: 1.8232\n",
      "Epoch 638/1000\n",
      "6/6 [==============================] - 0s 11ms/step - loss: 1.8399 - val_loss: 1.8229\n",
      "Epoch 639/1000\n",
      "6/6 [==============================] - 0s 11ms/step - loss: 1.8392 - val_loss: 1.8224\n",
      "Epoch 640/1000\n",
      "6/6 [==============================] - 0s 14ms/step - loss: 1.8382 - val_loss: 1.8217\n",
      "Epoch 641/1000\n",
      "6/6 [==============================] - 0s 14ms/step - loss: 1.8375 - val_loss: 1.8214\n",
      "Epoch 642/1000\n",
      "6/6 [==============================] - 0s 16ms/step - loss: 1.8366 - val_loss: 1.8206\n",
      "Epoch 643/1000\n",
      "6/6 [==============================] - 0s 16ms/step - loss: 1.8357 - val_loss: 1.8200\n",
      "Epoch 644/1000\n",
      "6/6 [==============================] - 0s 16ms/step - loss: 1.8348 - val_loss: 1.8195\n",
      "Epoch 645/1000\n",
      "6/6 [==============================] - 0s 16ms/step - loss: 1.8342 - val_loss: 1.8188\n",
      "Epoch 646/1000\n",
      "6/6 [==============================] - 0s 19ms/step - loss: 1.8331 - val_loss: 1.8182\n",
      "Epoch 647/1000\n",
      "6/6 [==============================] - 0s 13ms/step - loss: 1.8323 - val_loss: 1.8177\n",
      "Epoch 648/1000\n",
      "6/6 [==============================] - 0s 14ms/step - loss: 1.8316 - val_loss: 1.8174\n",
      "Epoch 649/1000\n",
      "6/6 [==============================] - 0s 14ms/step - loss: 1.8305 - val_loss: 1.8167\n",
      "Epoch 650/1000\n"
     ]
    },
    {
     "name": "stdout",
     "output_type": "stream",
     "text": [
      "6/6 [==============================] - 0s 14ms/step - loss: 1.8298 - val_loss: 1.8163\n",
      "Epoch 651/1000\n",
      "6/6 [==============================] - 0s 14ms/step - loss: 1.8290 - val_loss: 1.8154\n",
      "Epoch 652/1000\n",
      "6/6 [==============================] - 0s 13ms/step - loss: 1.8279 - val_loss: 1.8149\n",
      "Epoch 653/1000\n",
      "6/6 [==============================] - 0s 12ms/step - loss: 1.8271 - val_loss: 1.8142\n",
      "Epoch 654/1000\n",
      "6/6 [==============================] - 0s 12ms/step - loss: 1.8263 - val_loss: 1.8134\n",
      "Epoch 655/1000\n",
      "6/6 [==============================] - 0s 12ms/step - loss: 1.8254 - val_loss: 1.8128\n",
      "Epoch 656/1000\n",
      "6/6 [==============================] - 0s 12ms/step - loss: 1.8246 - val_loss: 1.8121\n",
      "Epoch 657/1000\n",
      "6/6 [==============================] - 0s 14ms/step - loss: 1.8238 - val_loss: 1.8119\n",
      "Epoch 658/1000\n",
      "6/6 [==============================] - 0s 12ms/step - loss: 1.8228 - val_loss: 1.8112\n",
      "Epoch 659/1000\n",
      "6/6 [==============================] - 0s 13ms/step - loss: 1.8220 - val_loss: 1.8105\n",
      "Epoch 660/1000\n",
      "6/6 [==============================] - 0s 13ms/step - loss: 1.8213 - val_loss: 1.8101\n",
      "Epoch 661/1000\n",
      "6/6 [==============================] - 0s 13ms/step - loss: 1.8202 - val_loss: 1.8094\n",
      "Epoch 662/1000\n",
      "6/6 [==============================] - 0s 14ms/step - loss: 1.8194 - val_loss: 1.8086\n",
      "Epoch 663/1000\n",
      "6/6 [==============================] - 0s 13ms/step - loss: 1.8185 - val_loss: 1.8081\n",
      "Epoch 664/1000\n",
      "6/6 [==============================] - 0s 13ms/step - loss: 1.8177 - val_loss: 1.8077\n",
      "Epoch 665/1000\n",
      "6/6 [==============================] - 0s 12ms/step - loss: 1.8168 - val_loss: 1.8072\n",
      "Epoch 666/1000\n",
      "6/6 [==============================] - 0s 12ms/step - loss: 1.8159 - val_loss: 1.8068\n",
      "Epoch 667/1000\n",
      "6/6 [==============================] - 0s 12ms/step - loss: 1.8152 - val_loss: 1.8062\n",
      "Epoch 668/1000\n",
      "6/6 [==============================] - 0s 12ms/step - loss: 1.8142 - val_loss: 1.8057\n",
      "Epoch 669/1000\n",
      "6/6 [==============================] - 0s 14ms/step - loss: 1.8134 - val_loss: 1.8052\n",
      "Epoch 670/1000\n",
      "6/6 [==============================] - 0s 14ms/step - loss: 1.8125 - val_loss: 1.8047\n",
      "Epoch 671/1000\n",
      "6/6 [==============================] - 0s 13ms/step - loss: 1.8117 - val_loss: 1.8043\n",
      "Epoch 672/1000\n",
      "6/6 [==============================] - 0s 15ms/step - loss: 1.8109 - val_loss: 1.8036\n",
      "Epoch 673/1000\n",
      "6/6 [==============================] - 0s 15ms/step - loss: 1.8100 - val_loss: 1.8031\n",
      "Epoch 674/1000\n",
      "6/6 [==============================] - 0s 13ms/step - loss: 1.8091 - val_loss: 1.8026\n",
      "Epoch 675/1000\n",
      "6/6 [==============================] - 0s 13ms/step - loss: 1.8083 - val_loss: 1.8021\n",
      "Epoch 676/1000\n",
      "6/6 [==============================] - 0s 12ms/step - loss: 1.8079 - val_loss: 1.8014\n",
      "Epoch 677/1000\n",
      "6/6 [==============================] - 0s 12ms/step - loss: 1.8065 - val_loss: 1.8011\n",
      "Epoch 678/1000\n",
      "6/6 [==============================] - 0s 13ms/step - loss: 1.8058 - val_loss: 1.8006\n",
      "Epoch 679/1000\n",
      "6/6 [==============================] - 0s 12ms/step - loss: 1.8048 - val_loss: 1.8002\n",
      "Epoch 680/1000\n",
      "6/6 [==============================] - 0s 12ms/step - loss: 1.8041 - val_loss: 1.7996\n",
      "Epoch 681/1000\n",
      "6/6 [==============================] - 0s 12ms/step - loss: 1.8031 - val_loss: 1.7991\n",
      "Epoch 682/1000\n",
      "6/6 [==============================] - 0s 13ms/step - loss: 1.8022 - val_loss: 1.7985\n",
      "Epoch 683/1000\n",
      "6/6 [==============================] - 0s 12ms/step - loss: 1.8015 - val_loss: 1.7979\n",
      "Epoch 684/1000\n",
      "6/6 [==============================] - 0s 13ms/step - loss: 1.8007 - val_loss: 1.7973\n",
      "Epoch 685/1000\n",
      "6/6 [==============================] - 0s 12ms/step - loss: 1.7997 - val_loss: 1.7968\n",
      "Epoch 686/1000\n",
      "6/6 [==============================] - 0s 15ms/step - loss: 1.7989 - val_loss: 1.7964\n",
      "Epoch 687/1000\n",
      "6/6 [==============================] - 0s 14ms/step - loss: 1.7983 - val_loss: 1.7959\n",
      "Epoch 688/1000\n",
      "6/6 [==============================] - 0s 15ms/step - loss: 1.7972 - val_loss: 1.7953\n",
      "Epoch 689/1000\n",
      "6/6 [==============================] - 0s 15ms/step - loss: 1.7963 - val_loss: 1.7949\n",
      "Epoch 690/1000\n",
      "6/6 [==============================] - 0s 14ms/step - loss: 1.7955 - val_loss: 1.7943\n",
      "Epoch 691/1000\n",
      "6/6 [==============================] - 0s 14ms/step - loss: 1.7947 - val_loss: 1.7937\n",
      "Epoch 692/1000\n",
      "6/6 [==============================] - 0s 12ms/step - loss: 1.7937 - val_loss: 1.7931\n",
      "Epoch 693/1000\n",
      "6/6 [==============================] - 0s 12ms/step - loss: 1.7928 - val_loss: 1.7927\n",
      "Epoch 694/1000\n",
      "6/6 [==============================] - 0s 13ms/step - loss: 1.7920 - val_loss: 1.7921\n",
      "Epoch 695/1000\n",
      "6/6 [==============================] - 0s 13ms/step - loss: 1.7914 - val_loss: 1.7914\n",
      "Epoch 696/1000\n",
      "6/6 [==============================] - 0s 13ms/step - loss: 1.7903 - val_loss: 1.7909\n",
      "Epoch 697/1000\n",
      "6/6 [==============================] - 0s 13ms/step - loss: 1.7895 - val_loss: 1.7906\n",
      "Epoch 698/1000\n",
      "6/6 [==============================] - 0s 12ms/step - loss: 1.7885 - val_loss: 1.7900\n",
      "Epoch 699/1000\n",
      "6/6 [==============================] - 0s 12ms/step - loss: 1.7877 - val_loss: 1.7894\n",
      "Epoch 700/1000\n",
      "6/6 [==============================] - 0s 11ms/step - loss: 1.7868 - val_loss: 1.7888\n",
      "Epoch 701/1000\n",
      "6/6 [==============================] - 0s 12ms/step - loss: 1.7860 - val_loss: 1.7882\n",
      "Epoch 702/1000\n",
      "6/6 [==============================] - 0s 11ms/step - loss: 1.7851 - val_loss: 1.7879\n",
      "Epoch 703/1000\n",
      "6/6 [==============================] - 0s 11ms/step - loss: 1.7842 - val_loss: 1.7874\n",
      "Epoch 704/1000\n",
      "6/6 [==============================] - 0s 11ms/step - loss: 1.7833 - val_loss: 1.7868\n",
      "Epoch 705/1000\n",
      "6/6 [==============================] - 0s 11ms/step - loss: 1.7826 - val_loss: 1.7864\n",
      "Epoch 706/1000\n",
      "6/6 [==============================] - 0s 11ms/step - loss: 1.7818 - val_loss: 1.7857\n",
      "Epoch 707/1000\n",
      "6/6 [==============================] - 0s 11ms/step - loss: 1.7808 - val_loss: 1.7851\n",
      "Epoch 708/1000\n",
      "6/6 [==============================] - 0s 12ms/step - loss: 1.7799 - val_loss: 1.7844\n",
      "Epoch 709/1000\n",
      "6/6 [==============================] - 0s 11ms/step - loss: 1.7790 - val_loss: 1.7841\n",
      "Epoch 710/1000\n",
      "6/6 [==============================] - 0s 12ms/step - loss: 1.7782 - val_loss: 1.7836\n",
      "Epoch 711/1000\n",
      "6/6 [==============================] - 0s 11ms/step - loss: 1.7772 - val_loss: 1.7830\n",
      "Epoch 712/1000\n",
      "6/6 [==============================] - 0s 12ms/step - loss: 1.7763 - val_loss: 1.7824\n",
      "Epoch 713/1000\n",
      "6/6 [==============================] - 0s 11ms/step - loss: 1.7755 - val_loss: 1.7819\n",
      "Epoch 714/1000\n",
      "6/6 [==============================] - 0s 11ms/step - loss: 1.7748 - val_loss: 1.7813\n",
      "Epoch 715/1000\n",
      "6/6 [==============================] - 0s 12ms/step - loss: 1.7739 - val_loss: 1.7807\n",
      "Epoch 716/1000\n",
      "6/6 [==============================] - 0s 13ms/step - loss: 1.7731 - val_loss: 1.7803\n",
      "Epoch 717/1000\n",
      "6/6 [==============================] - 0s 13ms/step - loss: 1.7723 - val_loss: 1.7799\n",
      "Epoch 718/1000\n",
      "6/6 [==============================] - 0s 11ms/step - loss: 1.7716 - val_loss: 1.7794\n",
      "Epoch 719/1000\n",
      "6/6 [==============================] - 0s 11ms/step - loss: 1.7706 - val_loss: 1.7788\n",
      "Epoch 720/1000\n",
      "6/6 [==============================] - 0s 11ms/step - loss: 1.7699 - val_loss: 1.7782\n",
      "Epoch 721/1000\n",
      "6/6 [==============================] - 0s 11ms/step - loss: 1.7691 - val_loss: 1.7775\n",
      "Epoch 722/1000\n",
      "6/6 [==============================] - 0s 12ms/step - loss: 1.7683 - val_loss: 1.7769\n",
      "Epoch 723/1000\n",
      "6/6 [==============================] - 0s 11ms/step - loss: 1.7676 - val_loss: 1.7766\n",
      "Epoch 724/1000\n",
      "6/6 [==============================] - 0s 12ms/step - loss: 1.7668 - val_loss: 1.7762\n",
      "Epoch 725/1000\n",
      "6/6 [==============================] - 0s 11ms/step - loss: 1.7660 - val_loss: 1.7756\n",
      "Epoch 726/1000\n",
      "6/6 [==============================] - 0s 11ms/step - loss: 1.7652 - val_loss: 1.7750\n",
      "Epoch 727/1000\n",
      "6/6 [==============================] - 0s 11ms/step - loss: 1.7647 - val_loss: 1.7743\n",
      "Epoch 728/1000\n",
      "6/6 [==============================] - 0s 11ms/step - loss: 1.7636 - val_loss: 1.7738\n",
      "Epoch 729/1000\n",
      "6/6 [==============================] - 0s 12ms/step - loss: 1.7627 - val_loss: 1.7734\n",
      "Epoch 730/1000\n",
      "6/6 [==============================] - 0s 12ms/step - loss: 1.7620 - val_loss: 1.7728\n",
      "Epoch 731/1000\n"
     ]
    },
    {
     "name": "stdout",
     "output_type": "stream",
     "text": [
      "6/6 [==============================] - 0s 12ms/step - loss: 1.7612 - val_loss: 1.7723\n",
      "Epoch 732/1000\n",
      "6/6 [==============================] - 0s 12ms/step - loss: 1.7605 - val_loss: 1.7716\n",
      "Epoch 733/1000\n",
      "6/6 [==============================] - 0s 12ms/step - loss: 1.7596 - val_loss: 1.7711\n",
      "Epoch 734/1000\n",
      "6/6 [==============================] - 0s 12ms/step - loss: 1.7591 - val_loss: 1.7707\n",
      "Epoch 735/1000\n",
      "6/6 [==============================] - 0s 12ms/step - loss: 1.7581 - val_loss: 1.7702\n",
      "Epoch 736/1000\n",
      "6/6 [==============================] - 0s 15ms/step - loss: 1.7574 - val_loss: 1.7696\n",
      "Epoch 737/1000\n",
      "6/6 [==============================] - 0s 15ms/step - loss: 1.7567 - val_loss: 1.7692\n",
      "Epoch 738/1000\n",
      "6/6 [==============================] - 0s 12ms/step - loss: 1.7558 - val_loss: 1.7686\n",
      "Epoch 739/1000\n",
      "6/6 [==============================] - 0s 12ms/step - loss: 1.7550 - val_loss: 1.7682\n",
      "Epoch 740/1000\n",
      "6/6 [==============================] - 0s 11ms/step - loss: 1.7542 - val_loss: 1.7676\n",
      "Epoch 741/1000\n",
      "6/6 [==============================] - 0s 11ms/step - loss: 1.7535 - val_loss: 1.7671\n",
      "Epoch 742/1000\n",
      "6/6 [==============================] - 0s 11ms/step - loss: 1.7527 - val_loss: 1.7665\n",
      "Epoch 743/1000\n",
      "6/6 [==============================] - 0s 11ms/step - loss: 1.7519 - val_loss: 1.7660\n",
      "Epoch 744/1000\n",
      "6/6 [==============================] - 0s 12ms/step - loss: 1.7512 - val_loss: 1.7653\n",
      "Epoch 745/1000\n",
      "6/6 [==============================] - 0s 12ms/step - loss: 1.7504 - val_loss: 1.7648\n",
      "Epoch 746/1000\n",
      "6/6 [==============================] - 0s 12ms/step - loss: 1.7496 - val_loss: 1.7643\n",
      "Epoch 747/1000\n",
      "6/6 [==============================] - 0s 11ms/step - loss: 1.7488 - val_loss: 1.7639\n",
      "Epoch 748/1000\n",
      "6/6 [==============================] - 0s 14ms/step - loss: 1.7481 - val_loss: 1.7634\n",
      "Epoch 749/1000\n",
      "6/6 [==============================] - 0s 11ms/step - loss: 1.7473 - val_loss: 1.7629\n",
      "Epoch 750/1000\n",
      "6/6 [==============================] - 0s 12ms/step - loss: 1.7465 - val_loss: 1.7623\n",
      "Epoch 751/1000\n",
      "6/6 [==============================] - 0s 11ms/step - loss: 1.7458 - val_loss: 1.7616\n",
      "Epoch 752/1000\n",
      "6/6 [==============================] - 0s 11ms/step - loss: 1.7451 - val_loss: 1.7613\n",
      "Epoch 753/1000\n",
      "6/6 [==============================] - 0s 11ms/step - loss: 1.7444 - val_loss: 1.7607\n",
      "Epoch 754/1000\n",
      "6/6 [==============================] - 0s 12ms/step - loss: 1.7435 - val_loss: 1.7601\n",
      "Epoch 755/1000\n",
      "6/6 [==============================] - 0s 12ms/step - loss: 1.7427 - val_loss: 1.7597\n",
      "Epoch 756/1000\n",
      "6/6 [==============================] - 0s 11ms/step - loss: 1.7419 - val_loss: 1.7592\n",
      "Epoch 757/1000\n",
      "6/6 [==============================] - 0s 12ms/step - loss: 1.7411 - val_loss: 1.7588\n",
      "Epoch 758/1000\n",
      "6/6 [==============================] - 0s 12ms/step - loss: 1.7403 - val_loss: 1.7583\n",
      "Epoch 759/1000\n",
      "6/6 [==============================] - 0s 11ms/step - loss: 1.7397 - val_loss: 1.7576\n",
      "Epoch 760/1000\n",
      "6/6 [==============================] - 0s 13ms/step - loss: 1.7388 - val_loss: 1.7572\n",
      "Epoch 761/1000\n",
      "6/6 [==============================] - 0s 11ms/step - loss: 1.7382 - val_loss: 1.7566\n",
      "Epoch 762/1000\n",
      "6/6 [==============================] - 0s 12ms/step - loss: 1.7372 - val_loss: 1.7562\n",
      "Epoch 763/1000\n",
      "6/6 [==============================] - 0s 15ms/step - loss: 1.7365 - val_loss: 1.7558\n",
      "Epoch 764/1000\n",
      "6/6 [==============================] - 0s 14ms/step - loss: 1.7356 - val_loss: 1.7554\n",
      "Epoch 765/1000\n",
      "6/6 [==============================] - 0s 17ms/step - loss: 1.7349 - val_loss: 1.7549\n",
      "Epoch 766/1000\n",
      "6/6 [==============================] - 0s 16ms/step - loss: 1.7341 - val_loss: 1.7546\n",
      "Epoch 767/1000\n",
      "6/6 [==============================] - 0s 15ms/step - loss: 1.7333 - val_loss: 1.7541\n",
      "Epoch 768/1000\n",
      "6/6 [==============================] - 0s 13ms/step - loss: 1.7325 - val_loss: 1.7537\n",
      "Epoch 769/1000\n",
      "6/6 [==============================] - 0s 12ms/step - loss: 1.7319 - val_loss: 1.7533\n",
      "Epoch 770/1000\n",
      "6/6 [==============================] - 0s 12ms/step - loss: 1.7311 - val_loss: 1.7529\n",
      "Epoch 771/1000\n",
      "6/6 [==============================] - 0s 12ms/step - loss: 1.7301 - val_loss: 1.7525\n",
      "Epoch 772/1000\n",
      "6/6 [==============================] - 0s 12ms/step - loss: 1.7293 - val_loss: 1.7520\n",
      "Epoch 773/1000\n",
      "6/6 [==============================] - 0s 13ms/step - loss: 1.7287 - val_loss: 1.7516\n",
      "Epoch 774/1000\n",
      "6/6 [==============================] - 0s 12ms/step - loss: 1.7278 - val_loss: 1.7512\n",
      "Epoch 775/1000\n",
      "6/6 [==============================] - 0s 12ms/step - loss: 1.7271 - val_loss: 1.7508\n",
      "Epoch 776/1000\n",
      "6/6 [==============================] - 0s 13ms/step - loss: 1.7263 - val_loss: 1.7504\n",
      "Epoch 777/1000\n",
      "6/6 [==============================] - 0s 13ms/step - loss: 1.7254 - val_loss: 1.7500\n",
      "Epoch 778/1000\n",
      "6/6 [==============================] - 0s 13ms/step - loss: 1.7247 - val_loss: 1.7496\n",
      "Epoch 779/1000\n",
      "6/6 [==============================] - 0s 11ms/step - loss: 1.7239 - val_loss: 1.7491\n",
      "Epoch 780/1000\n",
      "6/6 [==============================] - 0s 13ms/step - loss: 1.7230 - val_loss: 1.7488\n",
      "Epoch 781/1000\n",
      "6/6 [==============================] - 0s 16ms/step - loss: 1.7224 - val_loss: 1.7484\n",
      "Epoch 782/1000\n",
      "6/6 [==============================] - 0s 14ms/step - loss: 1.7216 - val_loss: 1.7480\n",
      "Epoch 783/1000\n",
      "6/6 [==============================] - 0s 10ms/step - loss: 1.7211 - val_loss: 1.7476\n",
      "Epoch 784/1000\n",
      "6/6 [==============================] - 0s 10ms/step - loss: 1.7199 - val_loss: 1.7472\n",
      "Epoch 785/1000\n",
      "6/6 [==============================] - 0s 10ms/step - loss: 1.7191 - val_loss: 1.7468\n",
      "Epoch 786/1000\n",
      "6/6 [==============================] - 0s 12ms/step - loss: 1.7184 - val_loss: 1.7464\n",
      "Epoch 787/1000\n",
      "6/6 [==============================] - 0s 14ms/step - loss: 1.7177 - val_loss: 1.7458\n",
      "Epoch 788/1000\n",
      "6/6 [==============================] - 0s 14ms/step - loss: 1.7170 - val_loss: 1.7454\n",
      "Epoch 789/1000\n",
      "6/6 [==============================] - 0s 13ms/step - loss: 1.7161 - val_loss: 1.7450\n",
      "Epoch 790/1000\n",
      "6/6 [==============================] - 0s 11ms/step - loss: 1.7154 - val_loss: 1.7445\n",
      "Epoch 791/1000\n",
      "6/6 [==============================] - 0s 12ms/step - loss: 1.7148 - val_loss: 1.7441\n",
      "Epoch 792/1000\n",
      "6/6 [==============================] - 0s 11ms/step - loss: 1.7138 - val_loss: 1.7437\n",
      "Epoch 793/1000\n",
      "6/6 [==============================] - 0s 12ms/step - loss: 1.7130 - val_loss: 1.7433\n",
      "Epoch 794/1000\n",
      "6/6 [==============================] - 0s 11ms/step - loss: 1.7122 - val_loss: 1.7429\n",
      "Epoch 795/1000\n",
      "6/6 [==============================] - 0s 11ms/step - loss: 1.7115 - val_loss: 1.7425\n",
      "Epoch 796/1000\n",
      "6/6 [==============================] - 0s 12ms/step - loss: 1.7108 - val_loss: 1.7421\n",
      "Epoch 797/1000\n",
      "6/6 [==============================] - 0s 11ms/step - loss: 1.7101 - val_loss: 1.7417\n",
      "Epoch 798/1000\n",
      "6/6 [==============================] - 0s 11ms/step - loss: 1.7093 - val_loss: 1.7412\n",
      "Epoch 799/1000\n",
      "6/6 [==============================] - 0s 11ms/step - loss: 1.7082 - val_loss: 1.7408\n",
      "Epoch 800/1000\n",
      "6/6 [==============================] - 0s 11ms/step - loss: 1.7075 - val_loss: 1.7404\n",
      "Epoch 801/1000\n",
      "6/6 [==============================] - 0s 12ms/step - loss: 1.7069 - val_loss: 1.7399\n",
      "Epoch 802/1000\n",
      "6/6 [==============================] - 0s 12ms/step - loss: 1.7059 - val_loss: 1.7396\n",
      "Epoch 803/1000\n",
      "6/6 [==============================] - 0s 12ms/step - loss: 1.7052 - val_loss: 1.7392\n",
      "Epoch 804/1000\n",
      "6/6 [==============================] - 0s 12ms/step - loss: 1.7043 - val_loss: 1.7388\n",
      "Epoch 805/1000\n",
      "6/6 [==============================] - 0s 11ms/step - loss: 1.7036 - val_loss: 1.7384\n",
      "Epoch 806/1000\n",
      "6/6 [==============================] - 0s 12ms/step - loss: 1.7029 - val_loss: 1.7380\n",
      "Epoch 807/1000\n",
      "6/6 [==============================] - 0s 11ms/step - loss: 1.7021 - val_loss: 1.7376\n",
      "Epoch 808/1000\n",
      "6/6 [==============================] - 0s 13ms/step - loss: 1.7013 - val_loss: 1.7371\n",
      "Epoch 809/1000\n",
      "6/6 [==============================] - 0s 14ms/step - loss: 1.7005 - val_loss: 1.7367\n",
      "Epoch 810/1000\n",
      "6/6 [==============================] - 0s 12ms/step - loss: 1.6998 - val_loss: 1.7363\n",
      "Epoch 811/1000\n",
      "6/6 [==============================] - 0s 11ms/step - loss: 1.6989 - val_loss: 1.7359\n",
      "Epoch 812/1000\n"
     ]
    },
    {
     "name": "stdout",
     "output_type": "stream",
     "text": [
      "6/6 [==============================] - 0s 11ms/step - loss: 1.6982 - val_loss: 1.7355\n",
      "Epoch 813/1000\n",
      "6/6 [==============================] - 0s 11ms/step - loss: 1.6974 - val_loss: 1.7351\n",
      "Epoch 814/1000\n",
      "6/6 [==============================] - 0s 11ms/step - loss: 1.6966 - val_loss: 1.7348\n",
      "Epoch 815/1000\n",
      "6/6 [==============================] - 0s 11ms/step - loss: 1.6958 - val_loss: 1.7344\n",
      "Epoch 816/1000\n",
      "6/6 [==============================] - 0s 13ms/step - loss: 1.6952 - val_loss: 1.7341\n",
      "Epoch 817/1000\n",
      "6/6 [==============================] - 0s 12ms/step - loss: 1.6943 - val_loss: 1.7335\n",
      "Epoch 818/1000\n",
      "6/6 [==============================] - 0s 11ms/step - loss: 1.6935 - val_loss: 1.7331\n",
      "Epoch 819/1000\n",
      "6/6 [==============================] - 0s 11ms/step - loss: 1.6928 - val_loss: 1.7328\n",
      "Epoch 820/1000\n",
      "6/6 [==============================] - 0s 13ms/step - loss: 1.6920 - val_loss: 1.7325\n",
      "Epoch 821/1000\n",
      "6/6 [==============================] - 0s 11ms/step - loss: 1.6912 - val_loss: 1.7320\n",
      "Epoch 822/1000\n",
      "6/6 [==============================] - 0s 12ms/step - loss: 1.6905 - val_loss: 1.7315\n",
      "Epoch 823/1000\n",
      "6/6 [==============================] - 0s 11ms/step - loss: 1.6896 - val_loss: 1.7312\n",
      "Epoch 824/1000\n",
      "6/6 [==============================] - 0s 11ms/step - loss: 1.6888 - val_loss: 1.7308\n",
      "Epoch 825/1000\n",
      "6/6 [==============================] - 0s 11ms/step - loss: 1.6879 - val_loss: 1.7304\n",
      "Epoch 826/1000\n",
      "6/6 [==============================] - 0s 12ms/step - loss: 1.6872 - val_loss: 1.7301\n",
      "Epoch 827/1000\n",
      "6/6 [==============================] - 0s 12ms/step - loss: 1.6864 - val_loss: 1.7297\n",
      "Epoch 828/1000\n",
      "6/6 [==============================] - 0s 11ms/step - loss: 1.6857 - val_loss: 1.7293\n",
      "Epoch 829/1000\n",
      "6/6 [==============================] - 0s 12ms/step - loss: 1.6848 - val_loss: 1.7289\n",
      "Epoch 830/1000\n",
      "6/6 [==============================] - 0s 13ms/step - loss: 1.6842 - val_loss: 1.7285\n",
      "Epoch 831/1000\n",
      "6/6 [==============================] - 0s 12ms/step - loss: 1.6834 - val_loss: 1.7281\n",
      "Epoch 832/1000\n",
      "6/6 [==============================] - 0s 14ms/step - loss: 1.6826 - val_loss: 1.7277\n",
      "Epoch 833/1000\n",
      "6/6 [==============================] - 0s 12ms/step - loss: 1.6818 - val_loss: 1.7273\n",
      "Epoch 834/1000\n",
      "6/6 [==============================] - 0s 13ms/step - loss: 1.6809 - val_loss: 1.7268\n",
      "Epoch 835/1000\n",
      "6/6 [==============================] - 0s 12ms/step - loss: 1.6801 - val_loss: 1.7265\n",
      "Epoch 836/1000\n",
      "6/6 [==============================] - 0s 12ms/step - loss: 1.6794 - val_loss: 1.7260\n",
      "Epoch 837/1000\n",
      "6/6 [==============================] - 0s 11ms/step - loss: 1.6787 - val_loss: 1.7256\n",
      "Epoch 838/1000\n",
      "6/6 [==============================] - 0s 11ms/step - loss: 1.6778 - val_loss: 1.7252\n",
      "Epoch 839/1000\n",
      "6/6 [==============================] - 0s 12ms/step - loss: 1.6770 - val_loss: 1.7250\n",
      "Epoch 840/1000\n",
      "6/6 [==============================] - 0s 14ms/step - loss: 1.6763 - val_loss: 1.7245\n",
      "Epoch 841/1000\n",
      "6/6 [==============================] - 0s 12ms/step - loss: 1.6754 - val_loss: 1.7240\n",
      "Epoch 842/1000\n",
      "6/6 [==============================] - 0s 11ms/step - loss: 1.6746 - val_loss: 1.7237\n",
      "Epoch 843/1000\n",
      "6/6 [==============================] - 0s 13ms/step - loss: 1.6739 - val_loss: 1.7234\n",
      "Epoch 844/1000\n",
      "6/6 [==============================] - 0s 12ms/step - loss: 1.6730 - val_loss: 1.7229\n",
      "Epoch 845/1000\n",
      "6/6 [==============================] - 0s 12ms/step - loss: 1.6723 - val_loss: 1.7225\n",
      "Epoch 846/1000\n",
      "6/6 [==============================] - 0s 12ms/step - loss: 1.6715 - val_loss: 1.7221\n",
      "Epoch 847/1000\n",
      "6/6 [==============================] - 0s 13ms/step - loss: 1.6706 - val_loss: 1.7218\n",
      "Epoch 848/1000\n",
      "6/6 [==============================] - 0s 12ms/step - loss: 1.6699 - val_loss: 1.7214\n",
      "Epoch 849/1000\n",
      "6/6 [==============================] - 0s 12ms/step - loss: 1.6691 - val_loss: 1.7210\n",
      "Epoch 850/1000\n",
      "6/6 [==============================] - 0s 13ms/step - loss: 1.6683 - val_loss: 1.7206\n",
      "Epoch 851/1000\n",
      "6/6 [==============================] - 0s 13ms/step - loss: 1.6675 - val_loss: 1.7202\n",
      "Epoch 852/1000\n",
      "6/6 [==============================] - 0s 12ms/step - loss: 1.6667 - val_loss: 1.7198\n",
      "Epoch 853/1000\n",
      "6/6 [==============================] - 0s 12ms/step - loss: 1.6660 - val_loss: 1.7193\n",
      "Epoch 854/1000\n",
      "6/6 [==============================] - 0s 15ms/step - loss: 1.6652 - val_loss: 1.7188\n",
      "Epoch 855/1000\n",
      "6/6 [==============================] - 0s 13ms/step - loss: 1.6646 - val_loss: 1.7187\n",
      "Epoch 856/1000\n",
      "6/6 [==============================] - 0s 12ms/step - loss: 1.6637 - val_loss: 1.7181\n",
      "Epoch 857/1000\n",
      "6/6 [==============================] - 0s 12ms/step - loss: 1.6627 - val_loss: 1.7176\n",
      "Epoch 858/1000\n",
      "6/6 [==============================] - 0s 14ms/step - loss: 1.6620 - val_loss: 1.7174\n",
      "Epoch 859/1000\n",
      "6/6 [==============================] - 0s 15ms/step - loss: 1.6612 - val_loss: 1.7169\n",
      "Epoch 860/1000\n",
      "6/6 [==============================] - 0s 14ms/step - loss: 1.6603 - val_loss: 1.7165\n",
      "Epoch 861/1000\n",
      "6/6 [==============================] - 0s 13ms/step - loss: 1.6596 - val_loss: 1.7161\n",
      "Epoch 862/1000\n",
      "6/6 [==============================] - 0s 13ms/step - loss: 1.6587 - val_loss: 1.7157\n",
      "Epoch 863/1000\n",
      "6/6 [==============================] - 0s 13ms/step - loss: 1.6579 - val_loss: 1.7153\n",
      "Epoch 864/1000\n",
      "6/6 [==============================] - 0s 14ms/step - loss: 1.6571 - val_loss: 1.7150\n",
      "Epoch 865/1000\n",
      "6/6 [==============================] - 0s 13ms/step - loss: 1.6564 - val_loss: 1.7146\n",
      "Epoch 866/1000\n",
      "6/6 [==============================] - 0s 12ms/step - loss: 1.6556 - val_loss: 1.7142\n",
      "Epoch 867/1000\n",
      "6/6 [==============================] - 0s 12ms/step - loss: 1.6548 - val_loss: 1.7138\n",
      "Epoch 868/1000\n",
      "6/6 [==============================] - 0s 14ms/step - loss: 1.6539 - val_loss: 1.7135\n",
      "Epoch 869/1000\n",
      "6/6 [==============================] - 0s 15ms/step - loss: 1.6531 - val_loss: 1.7132\n",
      "Epoch 870/1000\n",
      "6/6 [==============================] - 0s 12ms/step - loss: 1.6525 - val_loss: 1.7128\n",
      "Epoch 871/1000\n",
      "6/6 [==============================] - 0s 12ms/step - loss: 1.6517 - val_loss: 1.7124\n",
      "Epoch 872/1000\n",
      "6/6 [==============================] - 0s 11ms/step - loss: 1.6508 - val_loss: 1.7121\n",
      "Epoch 873/1000\n",
      "6/6 [==============================] - 0s 11ms/step - loss: 1.6502 - val_loss: 1.7118\n",
      "Epoch 874/1000\n",
      "6/6 [==============================] - 0s 14ms/step - loss: 1.6493 - val_loss: 1.7114\n",
      "Epoch 875/1000\n",
      "6/6 [==============================] - 0s 12ms/step - loss: 1.6484 - val_loss: 1.7109\n",
      "Epoch 876/1000\n",
      "6/6 [==============================] - 0s 12ms/step - loss: 1.6477 - val_loss: 1.7107\n",
      "Epoch 877/1000\n",
      "6/6 [==============================] - 0s 11ms/step - loss: 1.6468 - val_loss: 1.7103\n",
      "Epoch 878/1000\n",
      "6/6 [==============================] - 0s 12ms/step - loss: 1.6460 - val_loss: 1.7099\n",
      "Epoch 879/1000\n",
      "6/6 [==============================] - 0s 14ms/step - loss: 1.6453 - val_loss: 1.7096\n",
      "Epoch 880/1000\n",
      "6/6 [==============================] - 0s 12ms/step - loss: 1.6444 - val_loss: 1.7093\n",
      "Epoch 881/1000\n",
      "6/6 [==============================] - 0s 12ms/step - loss: 1.6438 - val_loss: 1.7089\n",
      "Epoch 882/1000\n",
      "6/6 [==============================] - 0s 11ms/step - loss: 1.6428 - val_loss: 1.7086\n",
      "Epoch 883/1000\n",
      "6/6 [==============================] - 0s 11ms/step - loss: 1.6422 - val_loss: 1.7083\n",
      "Epoch 884/1000\n",
      "6/6 [==============================] - 0s 13ms/step - loss: 1.6418 - val_loss: 1.7076\n",
      "Epoch 885/1000\n",
      "6/6 [==============================] - 0s 12ms/step - loss: 1.6406 - val_loss: 1.7074\n",
      "Epoch 886/1000\n",
      "6/6 [==============================] - 0s 12ms/step - loss: 1.6397 - val_loss: 1.7071\n",
      "Epoch 887/1000\n",
      "6/6 [==============================] - 0s 12ms/step - loss: 1.6389 - val_loss: 1.7069\n",
      "Epoch 888/1000\n",
      "6/6 [==============================] - 0s 12ms/step - loss: 1.6383 - val_loss: 1.7067\n",
      "Epoch 889/1000\n",
      "6/6 [==============================] - 0s 12ms/step - loss: 1.6373 - val_loss: 1.7063\n",
      "Epoch 890/1000\n",
      "6/6 [==============================] - 0s 12ms/step - loss: 1.6367 - val_loss: 1.7060\n",
      "Epoch 891/1000\n",
      "6/6 [==============================] - 0s 11ms/step - loss: 1.6358 - val_loss: 1.7055\n",
      "Epoch 892/1000\n",
      "6/6 [==============================] - 0s 11ms/step - loss: 1.6350 - val_loss: 1.7050\n",
      "Epoch 893/1000\n"
     ]
    },
    {
     "name": "stdout",
     "output_type": "stream",
     "text": [
      "6/6 [==============================] - 0s 11ms/step - loss: 1.6342 - val_loss: 1.7047\n",
      "Epoch 894/1000\n",
      "6/6 [==============================] - 0s 12ms/step - loss: 1.6334 - val_loss: 1.7045\n",
      "Epoch 895/1000\n",
      "6/6 [==============================] - 0s 11ms/step - loss: 1.6326 - val_loss: 1.7042\n",
      "Epoch 896/1000\n",
      "6/6 [==============================] - 0s 12ms/step - loss: 1.6318 - val_loss: 1.7038\n",
      "Epoch 897/1000\n",
      "6/6 [==============================] - 0s 11ms/step - loss: 1.6311 - val_loss: 1.7036\n",
      "Epoch 898/1000\n",
      "6/6 [==============================] - 0s 12ms/step - loss: 1.6302 - val_loss: 1.7031\n",
      "Epoch 899/1000\n",
      "6/6 [==============================] - 0s 12ms/step - loss: 1.6294 - val_loss: 1.7026\n",
      "Epoch 900/1000\n",
      "6/6 [==============================] - 0s 14ms/step - loss: 1.6287 - val_loss: 1.7023\n",
      "Epoch 901/1000\n",
      "6/6 [==============================] - 0s 12ms/step - loss: 1.6280 - val_loss: 1.7021\n",
      "Epoch 902/1000\n",
      "6/6 [==============================] - 0s 11ms/step - loss: 1.6270 - val_loss: 1.7017\n",
      "Epoch 903/1000\n",
      "6/6 [==============================] - 0s 11ms/step - loss: 1.6262 - val_loss: 1.7013\n",
      "Epoch 904/1000\n",
      "6/6 [==============================] - 0s 13ms/step - loss: 1.6254 - val_loss: 1.7010\n",
      "Epoch 905/1000\n",
      "6/6 [==============================] - 0s 12ms/step - loss: 1.6247 - val_loss: 1.7006\n",
      "Epoch 906/1000\n",
      "6/6 [==============================] - 0s 12ms/step - loss: 1.6239 - val_loss: 1.7002\n",
      "Epoch 907/1000\n",
      "6/6 [==============================] - 0s 11ms/step - loss: 1.6229 - val_loss: 1.6999\n",
      "Epoch 908/1000\n",
      "6/6 [==============================] - 0s 13ms/step - loss: 1.6222 - val_loss: 1.6995\n",
      "Epoch 909/1000\n",
      "6/6 [==============================] - 0s 13ms/step - loss: 1.6214 - val_loss: 1.6992\n",
      "Epoch 910/1000\n",
      "6/6 [==============================] - 0s 14ms/step - loss: 1.6207 - val_loss: 1.6989\n",
      "Epoch 911/1000\n",
      "6/6 [==============================] - 0s 12ms/step - loss: 1.6199 - val_loss: 1.6985\n",
      "Epoch 912/1000\n",
      "6/6 [==============================] - 0s 12ms/step - loss: 1.6192 - val_loss: 1.6981\n",
      "Epoch 913/1000\n",
      "6/6 [==============================] - 0s 12ms/step - loss: 1.6184 - val_loss: 1.6976\n",
      "Epoch 914/1000\n",
      "6/6 [==============================] - 0s 12ms/step - loss: 1.6176 - val_loss: 1.6972\n",
      "Epoch 915/1000\n",
      "6/6 [==============================] - 0s 12ms/step - loss: 1.6168 - val_loss: 1.6970\n",
      "Epoch 916/1000\n",
      "6/6 [==============================] - 0s 12ms/step - loss: 1.6162 - val_loss: 1.6967\n",
      "Epoch 917/1000\n",
      "6/6 [==============================] - 0s 12ms/step - loss: 1.6153 - val_loss: 1.6962\n",
      "Epoch 918/1000\n",
      "6/6 [==============================] - 0s 12ms/step - loss: 1.6147 - val_loss: 1.6958\n",
      "Epoch 919/1000\n",
      "6/6 [==============================] - 0s 12ms/step - loss: 1.6138 - val_loss: 1.6955\n",
      "Epoch 920/1000\n",
      "6/6 [==============================] - 0s 16ms/step - loss: 1.6131 - val_loss: 1.6952\n",
      "Epoch 921/1000\n",
      "6/6 [==============================] - 0s 15ms/step - loss: 1.6123 - val_loss: 1.6947\n",
      "Epoch 922/1000\n",
      "6/6 [==============================] - 0s 13ms/step - loss: 1.6120 - val_loss: 1.6945\n",
      "Epoch 923/1000\n",
      "6/6 [==============================] - 0s 12ms/step - loss: 1.6108 - val_loss: 1.6941\n",
      "Epoch 924/1000\n",
      "6/6 [==============================] - 0s 12ms/step - loss: 1.6104 - val_loss: 1.6938\n",
      "Epoch 925/1000\n",
      "6/6 [==============================] - 0s 13ms/step - loss: 1.6093 - val_loss: 1.6933\n",
      "Epoch 926/1000\n",
      "6/6 [==============================] - 0s 14ms/step - loss: 1.6086 - val_loss: 1.6928\n",
      "Epoch 927/1000\n",
      "6/6 [==============================] - 0s 14ms/step - loss: 1.6079 - val_loss: 1.6924\n",
      "Epoch 928/1000\n",
      "6/6 [==============================] - 0s 13ms/step - loss: 1.6071 - val_loss: 1.6920\n",
      "Epoch 929/1000\n",
      "6/6 [==============================] - 0s 15ms/step - loss: 1.6065 - val_loss: 1.6916\n",
      "Epoch 930/1000\n",
      "6/6 [==============================] - 0s 13ms/step - loss: 1.6058 - val_loss: 1.6914\n",
      "Epoch 931/1000\n",
      "6/6 [==============================] - 0s 12ms/step - loss: 1.6050 - val_loss: 1.6909\n",
      "Epoch 932/1000\n",
      "6/6 [==============================] - 0s 12ms/step - loss: 1.6042 - val_loss: 1.6905\n",
      "Epoch 933/1000\n",
      "6/6 [==============================] - 0s 13ms/step - loss: 1.6037 - val_loss: 1.6902\n",
      "Epoch 934/1000\n",
      "6/6 [==============================] - 0s 14ms/step - loss: 1.6027 - val_loss: 1.6896\n",
      "Epoch 935/1000\n",
      "6/6 [==============================] - 0s 14ms/step - loss: 1.6019 - val_loss: 1.6892\n",
      "Epoch 936/1000\n",
      "6/6 [==============================] - 0s 14ms/step - loss: 1.6012 - val_loss: 1.6887\n",
      "Epoch 937/1000\n",
      "6/6 [==============================] - 0s 13ms/step - loss: 1.6005 - val_loss: 1.6883\n",
      "Epoch 938/1000\n",
      "6/6 [==============================] - 0s 13ms/step - loss: 1.5998 - val_loss: 1.6880\n",
      "Epoch 939/1000\n",
      "6/6 [==============================] - 0s 13ms/step - loss: 1.5991 - val_loss: 1.6876\n",
      "Epoch 940/1000\n",
      "6/6 [==============================] - 0s 12ms/step - loss: 1.5983 - val_loss: 1.6871\n",
      "Epoch 941/1000\n",
      "6/6 [==============================] - 0s 13ms/step - loss: 1.5975 - val_loss: 1.6867\n",
      "Epoch 942/1000\n",
      "6/6 [==============================] - 0s 12ms/step - loss: 1.5968 - val_loss: 1.6862\n",
      "Epoch 943/1000\n",
      "6/6 [==============================] - 0s 13ms/step - loss: 1.5962 - val_loss: 1.6859\n",
      "Epoch 944/1000\n",
      "6/6 [==============================] - 0s 12ms/step - loss: 1.5954 - val_loss: 1.6853\n",
      "Epoch 945/1000\n",
      "6/6 [==============================] - 0s 12ms/step - loss: 1.5946 - val_loss: 1.6849\n",
      "Epoch 946/1000\n",
      "6/6 [==============================] - 0s 13ms/step - loss: 1.5939 - val_loss: 1.6845\n",
      "Epoch 947/1000\n",
      "6/6 [==============================] - 0s 16ms/step - loss: 1.5932 - val_loss: 1.6841\n",
      "Epoch 948/1000\n",
      "6/6 [==============================] - 0s 15ms/step - loss: 1.5923 - val_loss: 1.6837\n",
      "Epoch 949/1000\n",
      "6/6 [==============================] - 0s 14ms/step - loss: 1.5917 - val_loss: 1.6832\n",
      "Epoch 950/1000\n",
      "6/6 [==============================] - 0s 13ms/step - loss: 1.5911 - val_loss: 1.6828\n",
      "Epoch 951/1000\n",
      "6/6 [==============================] - 0s 12ms/step - loss: 1.5903 - val_loss: 1.6826\n",
      "Epoch 952/1000\n",
      "6/6 [==============================] - 0s 13ms/step - loss: 1.5894 - val_loss: 1.6821\n",
      "Epoch 953/1000\n",
      "6/6 [==============================] - 0s 12ms/step - loss: 1.5890 - val_loss: 1.6818\n",
      "Epoch 954/1000\n",
      "6/6 [==============================] - 0s 14ms/step - loss: 1.5879 - val_loss: 1.6812\n",
      "Epoch 955/1000\n",
      "6/6 [==============================] - 0s 12ms/step - loss: 1.5872 - val_loss: 1.6806\n",
      "Epoch 956/1000\n",
      "6/6 [==============================] - 0s 13ms/step - loss: 1.5867 - val_loss: 1.6801\n",
      "Epoch 957/1000\n",
      "6/6 [==============================] - 0s 12ms/step - loss: 1.5857 - val_loss: 1.6797\n",
      "Epoch 958/1000\n",
      "6/6 [==============================] - 0s 16ms/step - loss: 1.5850 - val_loss: 1.6792\n",
      "Epoch 959/1000\n",
      "6/6 [==============================] - 0s 12ms/step - loss: 1.5842 - val_loss: 1.6789\n",
      "Epoch 960/1000\n",
      "6/6 [==============================] - 0s 15ms/step - loss: 1.5834 - val_loss: 1.6787\n",
      "Epoch 961/1000\n",
      "6/6 [==============================] - 0s 12ms/step - loss: 1.5827 - val_loss: 1.6785\n",
      "Epoch 962/1000\n",
      "6/6 [==============================] - 0s 11ms/step - loss: 1.5821 - val_loss: 1.6781\n",
      "Epoch 963/1000\n",
      "6/6 [==============================] - 0s 12ms/step - loss: 1.5814 - val_loss: 1.6775\n",
      "Epoch 964/1000\n",
      "6/6 [==============================] - 0s 13ms/step - loss: 1.5805 - val_loss: 1.6771\n",
      "Epoch 965/1000\n",
      "6/6 [==============================] - 0s 11ms/step - loss: 1.5802 - val_loss: 1.6766\n",
      "Epoch 966/1000\n",
      "6/6 [==============================] - 0s 11ms/step - loss: 1.5790 - val_loss: 1.6768\n",
      "Epoch 967/1000\n",
      "6/6 [==============================] - 0s 12ms/step - loss: 1.5784 - val_loss: 1.6767\n",
      "Epoch 968/1000\n",
      "6/6 [==============================] - 0s 12ms/step - loss: 1.5776 - val_loss: 1.6764\n",
      "Epoch 969/1000\n",
      "6/6 [==============================] - 0s 11ms/step - loss: 1.5769 - val_loss: 1.6761\n",
      "Epoch 970/1000\n",
      "6/6 [==============================] - 0s 12ms/step - loss: 1.5760 - val_loss: 1.6757\n",
      "Epoch 971/1000\n",
      "6/6 [==============================] - 0s 14ms/step - loss: 1.5754 - val_loss: 1.6752\n",
      "Epoch 972/1000\n",
      "6/6 [==============================] - 0s 12ms/step - loss: 1.5746 - val_loss: 1.6746\n",
      "Epoch 973/1000\n",
      "6/6 [==============================] - 0s 13ms/step - loss: 1.5739 - val_loss: 1.6744\n",
      "Epoch 974/1000\n"
     ]
    },
    {
     "name": "stdout",
     "output_type": "stream",
     "text": [
      "6/6 [==============================] - 0s 12ms/step - loss: 1.5732 - val_loss: 1.6741\n",
      "Epoch 975/1000\n",
      "6/6 [==============================] - 0s 12ms/step - loss: 1.5725 - val_loss: 1.6741\n",
      "Epoch 976/1000\n",
      "6/6 [==============================] - 0s 11ms/step - loss: 1.5717 - val_loss: 1.6739\n",
      "Epoch 977/1000\n",
      "6/6 [==============================] - 0s 11ms/step - loss: 1.5709 - val_loss: 1.6735\n",
      "Epoch 978/1000\n",
      "6/6 [==============================] - 0s 11ms/step - loss: 1.5701 - val_loss: 1.6732\n",
      "Epoch 979/1000\n",
      "6/6 [==============================] - 0s 13ms/step - loss: 1.5695 - val_loss: 1.6730\n",
      "Epoch 980/1000\n",
      "6/6 [==============================] - 0s 13ms/step - loss: 1.5687 - val_loss: 1.6728\n",
      "Epoch 981/1000\n",
      "6/6 [==============================] - 0s 13ms/step - loss: 1.5681 - val_loss: 1.6726\n",
      "Epoch 982/1000\n",
      "6/6 [==============================] - 0s 12ms/step - loss: 1.5673 - val_loss: 1.6722\n",
      "Epoch 983/1000\n",
      "6/6 [==============================] - 0s 12ms/step - loss: 1.5665 - val_loss: 1.6716\n",
      "Epoch 984/1000\n",
      "6/6 [==============================] - 0s 11ms/step - loss: 1.5657 - val_loss: 1.6711\n",
      "Epoch 985/1000\n",
      "6/6 [==============================] - 0s 12ms/step - loss: 1.5650 - val_loss: 1.6707\n",
      "Epoch 986/1000\n",
      "6/6 [==============================] - 0s 12ms/step - loss: 1.5642 - val_loss: 1.6705\n",
      "Epoch 987/1000\n",
      "6/6 [==============================] - 0s 11ms/step - loss: 1.5635 - val_loss: 1.6703\n",
      "Epoch 988/1000\n",
      "6/6 [==============================] - 0s 14ms/step - loss: 1.5628 - val_loss: 1.6702\n",
      "Epoch 989/1000\n",
      "6/6 [==============================] - 0s 14ms/step - loss: 1.5621 - val_loss: 1.6701\n",
      "Epoch 990/1000\n",
      "6/6 [==============================] - 0s 12ms/step - loss: 1.5614 - val_loss: 1.6694\n",
      "Epoch 991/1000\n",
      "6/6 [==============================] - 0s 12ms/step - loss: 1.5606 - val_loss: 1.6694\n",
      "Epoch 992/1000\n",
      "6/6 [==============================] - 0s 12ms/step - loss: 1.5601 - val_loss: 1.6694\n",
      "Epoch 993/1000\n",
      "6/6 [==============================] - 0s 12ms/step - loss: 1.5591 - val_loss: 1.6688\n",
      "Epoch 994/1000\n",
      "6/6 [==============================] - 0s 12ms/step - loss: 1.5583 - val_loss: 1.6684\n",
      "Epoch 995/1000\n",
      "6/6 [==============================] - 0s 12ms/step - loss: 1.5577 - val_loss: 1.6682\n",
      "Epoch 996/1000\n",
      "6/6 [==============================] - 0s 12ms/step - loss: 1.5568 - val_loss: 1.6675\n",
      "Epoch 997/1000\n",
      "6/6 [==============================] - 0s 13ms/step - loss: 1.5560 - val_loss: 1.6673\n",
      "Epoch 998/1000\n",
      "6/6 [==============================] - 0s 11ms/step - loss: 1.5554 - val_loss: 1.6671\n",
      "Epoch 999/1000\n",
      "6/6 [==============================] - 0s 11ms/step - loss: 1.5546 - val_loss: 1.6669\n",
      "Epoch 1000/1000\n",
      "6/6 [==============================] - 0s 11ms/step - loss: 1.5540 - val_loss: 1.6668\n"
     ]
    }
   ],
   "source": [
    "es = EarlyStopping(monitor='val_loss', min_delta=0, verbose=1, patience=5, restore_best_weights=True)\n",
    "\n",
    "hist = model.fit(x_train_scale, y_train, epochs=1000, verbose=1, validation_split=0.2, callbacks=[es])"
   ]
  },
  {
   "cell_type": "code",
   "execution_count": 62,
   "metadata": {},
   "outputs": [
    {
     "name": "stdout",
     "output_type": "stream",
     "text": [
      "2/2 [==============================] - 0s 4ms/step - loss: 1.9221\n"
     ]
    },
    {
     "data": {
      "text/plain": [
       "1.9220759868621826"
      ]
     },
     "execution_count": 62,
     "metadata": {},
     "output_type": "execute_result"
    }
   ],
   "source": [
    "model.evaluate(x_val_scale, y_val, verbose = 1)"
   ]
  },
  {
   "cell_type": "code",
   "execution_count": 63,
   "metadata": {
    "scrolled": true
   },
   "outputs": [
    {
     "data": {
      "text/plain": [
       "<matplotlib.legend.Legend at 0x209d2c2b7f0>"
      ]
     },
     "execution_count": 63,
     "metadata": {},
     "output_type": "execute_result"
    },
    {
     "data": {
      "image/png": "[encoded data removed]",
      "text/plain": [
       "<Figure size 864x432 with 1 Axes>"
      ]
     },
     "metadata": {
      "needs_background": "light"
     },
     "output_type": "display_data"
    }
   ],
   "source": [
    "plt.figure(figsize=(12, 6))\n",
    "plt.plot(hist.history['loss'], label='loss')\n",
    "plt.plot(hist.history['val_loss'], label='val_loss')\n",
    "plt.legend()"
   ]
  },
  {
   "cell_type": "code",
   "execution_count": 64,
   "metadata": {},
   "outputs": [
    {
     "name": "stdout",
     "output_type": "stream",
     "text": [
      "1.6667643785476685\n"
     ]
    }
   ],
   "source": [
    "y_pred = model.predict(x_val_scale)\n",
    "print(min(hist.history['val_loss']))\n",
    "result['DL-Default'] = min(hist.history['val_loss'])"
   ]
  },
  {
   "cell_type": "code",
   "execution_count": 65,
   "metadata": {
    "scrolled": true
   },
   "outputs": [
    {
     "name": "stdout",
     "output_type": "stream",
     "text": [
      "You must install pydot (`pip install pydot`) and install graphviz (see instructions at https://graphviz.gitlab.io/download/) for plot_model/model_to_dot to work.\n"
     ]
    }
   ],
   "source": [
    "# 모델 시각화\n",
    "plot_model(model, show_shapes=True)"
   ]
  },
  {
   "cell_type": "markdown",
   "metadata": {},
   "source": [
    "##1. 분석 방법 \n",
    "- 아주 기본적인 모델 구조와 Sequential Api를 아주 Default한 딥러닝 모델를 만들었다.\n",
    "\n",
    "\n",
    "##2. 분석 결과\n",
    "- MAE는 2.4로써 좋지 않은 성능을 보였다."
   ]
  },
  {
   "cell_type": "markdown",
   "metadata": {
    "id": "gU1_UtFlH3sY"
   },
   "source": [
    "* 모델2"
   ]
  },
  {
   "cell_type": "code",
   "execution_count": 66,
   "metadata": {},
   "outputs": [
    {
     "name": "stdout",
     "output_type": "stream",
     "text": [
      "Model: \"sequential\"\n",
      "_________________________________________________________________\n",
      " Layer (type)                Output Shape              Param #   \n",
      "=================================================================\n",
      " dense (Dense)               (None, 512)               10240     \n",
      "                                                                 \n",
      " dense_1 (Dense)             (None, 128)               65664     \n",
      "                                                                 \n",
      " dense_2 (Dense)             (None, 64)                8256      \n",
      "                                                                 \n",
      " dense_3 (Dense)             (None, 32)                2080      \n",
      "                                                                 \n",
      " dense_4 (Dense)             (None, 32)                1056      \n",
      "                                                                 \n",
      " dense_5 (Dense)             (None, 1)                 33        \n",
      "                                                                 \n",
      "=================================================================\n",
      "Total params: 87,329\n",
      "Trainable params: 87,329\n",
      "Non-trainable params: 0\n",
      "_________________________________________________________________\n"
     ]
    }
   ],
   "source": [
    "########\n",
    "# 모델링 : Sequential API style\n",
    "########\n",
    "\n",
    "# 1번 청소 : 이미 만들어진 모델이 있다면 그 모델을 없애줘\n",
    "keras.backend.clear_session()\n",
    "\n",
    "# 2번 모델 선언\n",
    "model_hidden = keras.models.Sequential()\n",
    "\n",
    "# 3번 모델 블록 조립\n",
    "model_hidden.add( keras.layers.Input(shape=(input,)) )\n",
    "model_hidden.add( keras.layers.Dense(512, activation='relu') )\n",
    "model_hidden.add( keras.layers.Dense(128, activation='relu') )\n",
    "model_hidden.add( keras.layers.Dense(64, activation='relu') )\n",
    "model_hidden.add( keras.layers.Dense(32, activation='relu') )\n",
    "model_hidden.add( keras.layers.Dense(32, activation='relu') )\n",
    "model_hidden.add( keras.layers.Dense(1) )\n",
    "\n",
    "## 오리지널 Sequential API\n",
    "# model.add( keras.layers.Dense(1, input_shape=(1,)) )\n",
    "\n",
    "# 4번 컴파일 \n",
    "model_hidden.compile(loss='mae', optimizer='adam')\n",
    "\n",
    "# model summary\n",
    "model_hidden.summary()"
   ]
  },
  {
   "cell_type": "code",
   "execution_count": 67,
   "metadata": {},
   "outputs": [
    {
     "name": "stdout",
     "output_type": "stream",
     "text": [
      "Epoch 1/1000\n",
      "6/6 [==============================] - 1s 58ms/step - loss: 7.3317 - val_loss: 6.5688\n",
      "Epoch 2/1000\n",
      "6/6 [==============================] - 0s 14ms/step - loss: 6.1286 - val_loss: 4.5922\n",
      "Epoch 3/1000\n",
      "6/6 [==============================] - 0s 14ms/step - loss: 3.3085 - val_loss: 2.2735\n",
      "Epoch 4/1000\n",
      "6/6 [==============================] - 0s 16ms/step - loss: 2.8399 - val_loss: 2.1345\n",
      "Epoch 5/1000\n",
      "6/6 [==============================] - 0s 16ms/step - loss: 2.3509 - val_loss: 2.0785\n",
      "Epoch 6/1000\n",
      "6/6 [==============================] - 0s 14ms/step - loss: 2.2746 - val_loss: 1.8779\n",
      "Epoch 7/1000\n",
      "6/6 [==============================] - 0s 13ms/step - loss: 1.9609 - val_loss: 1.9663\n",
      "Epoch 8/1000\n",
      "6/6 [==============================] - 0s 15ms/step - loss: 1.9066 - val_loss: 1.8130\n",
      "Epoch 9/1000\n",
      "6/6 [==============================] - 0s 14ms/step - loss: 1.8235 - val_loss: 1.7952\n",
      "Epoch 10/1000\n",
      "6/6 [==============================] - 0s 13ms/step - loss: 1.6960 - val_loss: 1.8218\n",
      "Epoch 11/1000\n",
      "6/6 [==============================] - 0s 13ms/step - loss: 1.6197 - val_loss: 1.7896\n",
      "Epoch 12/1000\n",
      "6/6 [==============================] - 0s 15ms/step - loss: 1.5468 - val_loss: 1.7643\n",
      "Epoch 13/1000\n",
      "6/6 [==============================] - 0s 14ms/step - loss: 1.5074 - val_loss: 1.6845\n",
      "Epoch 14/1000\n",
      "6/6 [==============================] - 0s 13ms/step - loss: 1.4095 - val_loss: 1.6660\n",
      "Epoch 15/1000\n",
      "6/6 [==============================] - 0s 13ms/step - loss: 1.3571 - val_loss: 1.5824\n",
      "Epoch 16/1000\n",
      "6/6 [==============================] - 0s 13ms/step - loss: 1.3065 - val_loss: 1.6014\n",
      "Epoch 17/1000\n",
      "6/6 [==============================] - 0s 13ms/step - loss: 1.2264 - val_loss: 1.5066\n",
      "Epoch 18/1000\n",
      "6/6 [==============================] - 0s 17ms/step - loss: 1.1953 - val_loss: 1.6449\n",
      "Epoch 19/1000\n",
      "6/6 [==============================] - 0s 15ms/step - loss: 1.1726 - val_loss: 1.4588\n",
      "Epoch 20/1000\n",
      "6/6 [==============================] - 0s 15ms/step - loss: 1.1829 - val_loss: 1.7540\n",
      "Epoch 21/1000\n",
      "6/6 [==============================] - 0s 19ms/step - loss: 1.1420 - val_loss: 1.4077\n",
      "Epoch 22/1000\n",
      "6/6 [==============================] - 0s 17ms/step - loss: 1.0693 - val_loss: 1.3980\n",
      "Epoch 23/1000\n",
      "6/6 [==============================] - 0s 18ms/step - loss: 1.0145 - val_loss: 1.4362\n",
      "Epoch 24/1000\n",
      "6/6 [==============================] - 0s 17ms/step - loss: 0.9921 - val_loss: 1.3629\n",
      "Epoch 25/1000\n",
      "6/6 [==============================] - 0s 14ms/step - loss: 0.9741 - val_loss: 1.3144\n",
      "Epoch 26/1000\n",
      "6/6 [==============================] - 0s 13ms/step - loss: 0.8748 - val_loss: 1.2300\n",
      "Epoch 27/1000\n",
      "6/6 [==============================] - 0s 15ms/step - loss: 0.8410 - val_loss: 1.2253\n",
      "Epoch 28/1000\n",
      "6/6 [==============================] - 0s 14ms/step - loss: 0.8348 - val_loss: 1.2349\n",
      "Epoch 29/1000\n",
      "6/6 [==============================] - 0s 14ms/step - loss: 0.8294 - val_loss: 1.2758\n",
      "Epoch 30/1000\n",
      "6/6 [==============================] - 0s 14ms/step - loss: 0.7833 - val_loss: 1.2416\n",
      "Epoch 31/1000\n",
      "6/6 [==============================] - 0s 17ms/step - loss: 0.7636 - val_loss: 1.1941\n",
      "Epoch 32/1000\n",
      "6/6 [==============================] - 0s 16ms/step - loss: 0.7732 - val_loss: 1.1958\n",
      "Epoch 33/1000\n",
      "6/6 [==============================] - 0s 17ms/step - loss: 0.7481 - val_loss: 1.2742\n",
      "Epoch 34/1000\n",
      "6/6 [==============================] - 0s 16ms/step - loss: 0.8028 - val_loss: 1.2114\n",
      "Epoch 35/1000\n",
      "6/6 [==============================] - 0s 18ms/step - loss: 0.7838 - val_loss: 1.1935\n",
      "Epoch 36/1000\n",
      "6/6 [==============================] - 0s 20ms/step - loss: 0.6827 - val_loss: 1.1570\n",
      "Epoch 37/1000\n",
      "6/6 [==============================] - 0s 16ms/step - loss: 0.7066 - val_loss: 1.1683\n",
      "Epoch 38/1000\n",
      "6/6 [==============================] - 0s 16ms/step - loss: 0.6753 - val_loss: 1.1819\n",
      "Epoch 39/1000\n",
      "6/6 [==============================] - 0s 17ms/step - loss: 0.6411 - val_loss: 1.1872\n",
      "Epoch 40/1000\n",
      "6/6 [==============================] - 0s 17ms/step - loss: 0.6471 - val_loss: 1.1461\n",
      "Epoch 41/1000\n",
      "6/6 [==============================] - 0s 18ms/step - loss: 0.6390 - val_loss: 1.1765\n",
      "Epoch 42/1000\n",
      "6/6 [==============================] - 0s 12ms/step - loss: 0.6074 - val_loss: 1.1454\n",
      "Epoch 43/1000\n",
      "6/6 [==============================] - 0s 13ms/step - loss: 0.6128 - val_loss: 1.1291\n",
      "Epoch 44/1000\n",
      "6/6 [==============================] - 0s 14ms/step - loss: 0.5811 - val_loss: 1.1632\n",
      "Epoch 45/1000\n",
      "6/6 [==============================] - 0s 13ms/step - loss: 0.6239 - val_loss: 1.2318\n",
      "Epoch 46/1000\n",
      "6/6 [==============================] - 0s 13ms/step - loss: 0.6715 - val_loss: 1.1974\n",
      "Epoch 47/1000\n",
      "6/6 [==============================] - 0s 12ms/step - loss: 0.6465 - val_loss: 1.1629\n",
      "Epoch 48/1000\n",
      "6/6 [==============================] - 0s 13ms/step - loss: 0.5580 - val_loss: 1.1678\n",
      "Epoch 49/1000\n",
      "6/6 [==============================] - 0s 13ms/step - loss: 0.5579 - val_loss: 1.1599\n",
      "Epoch 50/1000\n",
      "6/6 [==============================] - 0s 13ms/step - loss: 0.5737 - val_loss: 1.1825\n",
      "Epoch 51/1000\n",
      "6/6 [==============================] - 0s 13ms/step - loss: 0.5658 - val_loss: 1.1826\n",
      "Epoch 52/1000\n",
      "6/6 [==============================] - 0s 13ms/step - loss: 0.6162 - val_loss: 1.2282\n",
      "Epoch 53/1000\n",
      "1/6 [====>.........................] - ETA: 0s - loss: 0.6743Restoring model weights from the end of the best epoch: 43.\n",
      "6/6 [==============================] - 0s 14ms/step - loss: 0.5541 - val_loss: 1.1919\n",
      "Epoch 53: early stopping\n"
     ]
    }
   ],
   "source": [
    "es = EarlyStopping(monitor='val_loss', min_delta=0, verbose=1, patience=10, restore_best_weights=True)\n",
    "\n",
    "hist = model_hidden.fit(x_train_scale, y_train, epochs=1000, verbose=1, validation_split=0.2, callbacks=[es])"
   ]
  },
  {
   "cell_type": "code",
   "execution_count": 68,
   "metadata": {
    "scrolled": true
   },
   "outputs": [
    {
     "name": "stdout",
     "output_type": "stream",
     "text": [
      "[[7.49893  ]\n",
      " [5.2514915]]\n",
      "1.1291338205337524\n"
     ]
    }
   ],
   "source": [
    "y_pred = model_hidden.predict(x_val_scale)\n",
    "print(y_pred[:2])\n",
    "print(min(hist.history['val_loss']))\n",
    "result['DL-Hidden'] = min(hist.history['val_loss'])"
   ]
  },
  {
   "cell_type": "markdown",
   "metadata": {
    "id": "iXOlv7oSKLlt"
   },
   "source": [
    "* 모델3"
   ]
  },
  {
   "cell_type": "code",
   "execution_count": null,
   "metadata": {
    "id": "rlTLt04PKLlz"
   },
   "outputs": [],
   "source": []
  },
  {
   "cell_type": "markdown",
   "metadata": {
    "id": "cDWdsBV_XgM3"
   },
   "source": [
    "### 4.3 학습 및 최적화\n",
    "* 다양한 학습조건으로 모델링 수행후 성능을 비교해 봅시다.\n"
   ]
  },
  {
   "cell_type": "markdown",
   "metadata": {
    "id": "_diIqEQYZTJU"
   },
   "source": [
    "## 5.성능 비교\n",
    "\n",
    "* 알고리즘별 선정된 모델이 최소 6개 입니다. 이에 대해 성능을 평가합니다.\n",
    "* 평가를 위한 적절한 지표(metric)을 결정하고 비교합니다.\n",
    "* 최종 모델을 선정하게 된 근거를 주석으로 기술하시오."
   ]
  },
  {
   "cell_type": "code",
   "execution_count": 69,
   "metadata": {
    "id": "aa-dyU-WXgM3"
   },
   "outputs": [
    {
     "data": {
      "text/plain": [
       "{'LR': 1.1538557627482824,\n",
       " 'DST': 1.923139417989418,\n",
       " 'KNN': 1.2073859720281113,\n",
       " 'SVM': 1.2073859720281113,\n",
       " 'XGB': 1.449385,\n",
       " 'DL-Default': 1.6667643785476685,\n",
       " 'DL-Hidden': 1.1291338205337524}"
      ]
     },
     "execution_count": 69,
     "metadata": {},
     "output_type": "execute_result"
    }
   ],
   "source": [
    "result"
   ]
  },
  {
   "cell_type": "code",
   "execution_count": 70,
   "metadata": {
    "id": "AM6SUa42XqIV"
   },
   "outputs": [
    {
     "data": {
      "text/plain": [
       "<BarContainer object of 7 artists>"
      ]
     },
     "execution_count": 70,
     "metadata": {},
     "output_type": "execute_result"
    },
    {
     "data": {
      "image/png": "[encoded data removed]",
      "text/plain": [
       "<Figure size 432x288 with 1 Axes>"
      ]
     },
     "metadata": {
      "needs_background": "light"
     },
     "output_type": "display_data"
    }
   ],
   "source": [
    "plt.bar(list(result.keys()), list(result.values()))"
   ]
  },
  {
   "cell_type": "markdown",
   "metadata": {
    "id": "2p4iNuRNRk5G"
   },
   "source": [
    "## 6.[팀과제]Test set으로 예측\n",
    "* 전처리 코드 실행\n",
    "* 예측\n",
    "* 성능 튜닝 : Kaggle에서의 평가는 MAE로 하게 됩니다. "
   ]
  },
  {
   "cell_type": "markdown",
   "metadata": {
    "id": "1-iK2nXTTQ9H"
   },
   "source": [
    "#### 6.1 전처리 코드실행\n",
    "\n",
    "* 주의!!! \n",
    "    * 전처리 코드는 2번에서의 순서를 반드시 지켜서 실행해야 합니다.\n",
    "    * 중간에 오류가 나면, 순서가 맞지 않기때문에 발생될 수 있습니다. \n"
   ]
  },
  {
   "cell_type": "code",
   "execution_count": 71,
   "metadata": {},
   "outputs": [
    {
     "data": {
      "text/plain": [
       "CompPrice      4\n",
       "Income         7\n",
       "Advertising    0\n",
       "Population     0\n",
       "Price          0\n",
       "ShelveLoc      0\n",
       "Age            0\n",
       "Education      0\n",
       "Urban          0\n",
       "US             0\n",
       "dtype: int64"
      ]
     },
     "execution_count": 71,
     "metadata": {},
     "output_type": "execute_result"
    }
   ],
   "source": [
    "test.isna().sum()"
   ]
  },
  {
   "cell_type": "code",
   "execution_count": 72,
   "metadata": {
    "id": "atjlcjPASEZS"
   },
   "outputs": [],
   "source": [
    "# NAN 채우기\n",
    "test['CompPrice'].fillna(0, inplace = True)\n",
    "test['Income'].fillna(test['Income'].mean(), inplace = True)"
   ]
  },
  {
   "cell_type": "code",
   "execution_count": 73,
   "metadata": {
    "id": "IvocTNGzRrSx"
   },
   "outputs": [],
   "source": [
    "# 2. 가변수화 두 번째 방법\n",
    "dum_cols = ['ShelveLoc', 'US', 'Urban', 'Education']\n",
    "\n",
    "test = pd.get_dummies(test, columns=dum_cols, drop_first=True)"
   ]
  },
  {
   "cell_type": "code",
   "execution_count": 74,
   "metadata": {
    "id": "8nqkMlQQR1IY"
   },
   "outputs": [],
   "source": [
    "# 경쟁사와 가격 차 변수 만들기\n",
    "test['PriceGap'] = abs(test['CompPrice'] - test['Price'])"
   ]
  },
  {
   "cell_type": "code",
   "execution_count": 76,
   "metadata": {
    "id": "7Uoa6vVISBRP"
   },
   "outputs": [],
   "source": [
    "# 스케일링 적용 한 변수 생성\n",
    "test_scale = scaler.fit_transform(test)"
   ]
  },
  {
   "cell_type": "markdown",
   "metadata": {
    "id": "yeqoSr4RTUFM"
   },
   "source": [
    "#### 6.2 예측\n",
    "\n",
    "* 5에서 가장 좋은 성능의 모델로 예측을 시도합니다.\n",
    "* 결과를 csv 파일로 저장해서 업로드 합니다."
   ]
  },
  {
   "cell_type": "code",
   "execution_count": 77,
   "metadata": {
    "id": "kSojj4VNTCt3"
   },
   "outputs": [
    {
     "data": {
      "text/plain": [
       "array([[ 8.045303 ],\n",
       "       [ 6.9270496],\n",
       "       [ 6.653394 ],\n",
       "       [ 8.28925  ],\n",
       "       [ 9.036669 ],\n",
       "       [ 9.278668 ],\n",
       "       [ 5.6003857],\n",
       "       [10.171236 ],\n",
       "       [ 6.688225 ],\n",
       "       [ 6.193486 ],\n",
       "       [ 5.0932236],\n",
       "       [ 4.957684 ],\n",
       "       [ 8.385939 ],\n",
       "       [ 5.272774 ],\n",
       "       [10.131589 ],\n",
       "       [ 6.708564 ],\n",
       "       [ 6.9384813],\n",
       "       [ 6.8004656],\n",
       "       [ 2.7813814],\n",
       "       [ 9.445788 ],\n",
       "       [ 8.63189  ],\n",
       "       [ 7.713709 ],\n",
       "       [ 9.919562 ],\n",
       "       [ 5.1852508],\n",
       "       [ 6.142585 ],\n",
       "       [10.954802 ],\n",
       "       [ 5.2769184],\n",
       "       [11.935827 ],\n",
       "       [ 8.733455 ],\n",
       "       [ 8.616533 ],\n",
       "       [ 7.831916 ],\n",
       "       [ 5.469267 ],\n",
       "       [ 8.7989435],\n",
       "       [ 6.535554 ],\n",
       "       [ 6.4228992],\n",
       "       [ 9.402098 ],\n",
       "       [ 4.238759 ],\n",
       "       [10.315966 ],\n",
       "       [ 6.586216 ],\n",
       "       [ 7.4022994],\n",
       "       [10.79851  ],\n",
       "       [ 5.5975637],\n",
       "       [ 3.9705462],\n",
       "       [ 9.877188 ],\n",
       "       [ 9.237581 ],\n",
       "       [ 5.8662615],\n",
       "       [ 6.659769 ],\n",
       "       [ 8.043605 ],\n",
       "       [ 4.869753 ],\n",
       "       [ 7.479438 ],\n",
       "       [ 5.9120817],\n",
       "       [ 6.7526746],\n",
       "       [12.970379 ],\n",
       "       [ 5.2105403],\n",
       "       [ 6.0769367],\n",
       "       [ 6.956009 ],\n",
       "       [ 9.137299 ],\n",
       "       [ 4.350663 ],\n",
       "       [ 6.265106 ],\n",
       "       [ 8.327326 ],\n",
       "       [ 4.54425  ],\n",
       "       [ 6.775692 ],\n",
       "       [ 5.3549843],\n",
       "       [ 6.110305 ],\n",
       "       [ 5.5833526],\n",
       "       [ 2.7143264],\n",
       "       [ 3.4146254],\n",
       "       [ 8.968511 ],\n",
       "       [ 9.642576 ],\n",
       "       [ 6.165297 ],\n",
       "       [ 4.544711 ],\n",
       "       [ 3.4093814],\n",
       "       [ 8.128897 ],\n",
       "       [ 7.539219 ],\n",
       "       [ 4.680232 ],\n",
       "       [ 8.785135 ],\n",
       "       [10.377842 ],\n",
       "       [ 7.7242055],\n",
       "       [ 7.536989 ],\n",
       "       [ 6.5153584],\n",
       "       [ 3.3380072],\n",
       "       [ 7.3781285],\n",
       "       [ 4.245366 ],\n",
       "       [ 7.5449533],\n",
       "       [ 6.692816 ],\n",
       "       [ 3.475403 ],\n",
       "       [ 4.215076 ],\n",
       "       [ 7.2422295],\n",
       "       [ 9.49785  ],\n",
       "       [11.770704 ],\n",
       "       [ 9.492707 ],\n",
       "       [ 6.2510233],\n",
       "       [ 5.4893637],\n",
       "       [ 8.30735  ],\n",
       "       [ 4.1195507],\n",
       "       [ 6.7360644],\n",
       "       [ 9.684555 ],\n",
       "       [ 7.9552183],\n",
       "       [ 3.0936947],\n",
       "       [10.111202 ]], dtype=float32)"
      ]
     },
     "execution_count": 77,
     "metadata": {},
     "output_type": "execute_result"
    }
   ],
   "source": [
    "pred_test = model_hidden.predict(test_scale)\n",
    "pred_test"
   ]
  },
  {
   "cell_type": "code",
   "execution_count": 78,
   "metadata": {
    "id": "rrJ2kELKTlGZ"
   },
   "outputs": [
    {
     "data": {
      "text/html": [
       "<div>\n",
       "<style scoped>\n",
       "    .dataframe tbody tr th:only-of-type {\n",
       "        vertical-align: middle;\n",
       "    }\n",
       "\n",
       "    .dataframe tbody tr th {\n",
       "        vertical-align: top;\n",
       "    }\n",
       "\n",
       "    .dataframe thead th {\n",
       "        text-align: right;\n",
       "    }\n",
       "</style>\n",
       "<table border=\"1\" class=\"dataframe\">\n",
       "  <thead>\n",
       "    <tr style=\"text-align: right;\">\n",
       "      <th></th>\n",
       "      <th>0</th>\n",
       "    </tr>\n",
       "  </thead>\n",
       "  <tbody>\n",
       "    <tr>\n",
       "      <th>0</th>\n",
       "      <td>8.045303</td>\n",
       "    </tr>\n",
       "    <tr>\n",
       "      <th>1</th>\n",
       "      <td>6.927050</td>\n",
       "    </tr>\n",
       "    <tr>\n",
       "      <th>2</th>\n",
       "      <td>6.653394</td>\n",
       "    </tr>\n",
       "    <tr>\n",
       "      <th>3</th>\n",
       "      <td>8.289250</td>\n",
       "    </tr>\n",
       "    <tr>\n",
       "      <th>4</th>\n",
       "      <td>9.036669</td>\n",
       "    </tr>\n",
       "    <tr>\n",
       "      <th>...</th>\n",
       "      <td>...</td>\n",
       "    </tr>\n",
       "    <tr>\n",
       "      <th>95</th>\n",
       "      <td>6.736064</td>\n",
       "    </tr>\n",
       "    <tr>\n",
       "      <th>96</th>\n",
       "      <td>9.684555</td>\n",
       "    </tr>\n",
       "    <tr>\n",
       "      <th>97</th>\n",
       "      <td>7.955218</td>\n",
       "    </tr>\n",
       "    <tr>\n",
       "      <th>98</th>\n",
       "      <td>3.093695</td>\n",
       "    </tr>\n",
       "    <tr>\n",
       "      <th>99</th>\n",
       "      <td>10.111202</td>\n",
       "    </tr>\n",
       "  </tbody>\n",
       "</table>\n",
       "<p>100 rows × 1 columns</p>\n",
       "</div>"
      ],
      "text/plain": [
       "            0\n",
       "0    8.045303\n",
       "1    6.927050\n",
       "2    6.653394\n",
       "3    8.289250\n",
       "4    9.036669\n",
       "..        ...\n",
       "95   6.736064\n",
       "96   9.684555\n",
       "97   7.955218\n",
       "98   3.093695\n",
       "99  10.111202\n",
       "\n",
       "[100 rows x 1 columns]"
      ]
     },
     "execution_count": 78,
     "metadata": {},
     "output_type": "execute_result"
    }
   ],
   "source": [
    "pred_df = pd.DataFrame(pred_test)\n",
    "pred_df"
   ]
  },
  {
   "cell_type": "code",
   "execution_count": 80,
   "metadata": {
    "id": "ytzzf27xTupg"
   },
   "outputs": [],
   "source": [
    "pred_df.to_csv('result.csv')"
   ]
  }
 ],
 "metadata": {
  "colab": {
   "collapsed_sections": [],
   "name": "과제1.  car seat 매출 예측.ipynb",
   "provenance": [],
   "toc_visible": true
  },
  "kernelspec": {
   "display_name": "Python 3",
   "language": "python",
   "name": "python3"
  },
  "language_info": {
   "codemirror_mode": {
    "name": "ipython",
    "version": 3
   },
   "file_extension": ".py",
   "mimetype": "text/x-python",
   "name": "python",
   "nbconvert_exporter": "python",
   "pygments_lexer": "ipython3",
   "version": "3.8.8"
  }
 },
 "nbformat": 4,
 "nbformat_minor": 4
}
